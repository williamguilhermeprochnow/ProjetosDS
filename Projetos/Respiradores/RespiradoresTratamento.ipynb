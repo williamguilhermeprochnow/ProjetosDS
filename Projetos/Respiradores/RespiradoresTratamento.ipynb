{
 "cells": [
  {
   "cell_type": "markdown",
   "id": "7747ea68",
   "metadata": {},
   "source": [
    "### Data: Data de solicitação de entrega à distribuidora\n",
    "---\n",
    "### Fornecedor: Nome da empresa fornecedora dos equipamentos;\n",
    "---\n",
    "### Destino: Estado de destiny do respirador;\n",
    "---\n",
    "### Estado/Municipio: Tipo de UF que será o destiny da entrega;\n",
    "---\n",
    "### Tipo: Tipo do equipamento;\n",
    "---\n",
    "### Quantidade: Unidades entregues;\n",
    "---\n",
    "### Valor: Valor total da entrega, em reais;\n",
    "---\n",
    "### Destinatario: Entidade que recebeu o bem;\n",
    "---\n",
    "### UF: UF de entrega;\n",
    "---\n",
    "### Data de Entrega: Data de entrega no destinatário."
   ]
  },
  {
   "cell_type": "code",
   "execution_count": 1,
   "id": "171055e9",
   "metadata": {},
   "outputs": [],
   "source": [
    "import pandas as pd\n",
    "import seaborn as sns\n",
    "import matplotlib.pyplot as plt\n",
    "import plotly.express as px\n",
    "import plotly.graph_objects as go"
   ]
  },
  {
   "cell_type": "code",
   "execution_count": 2,
   "id": "827771b4",
   "metadata": {},
   "outputs": [
    {
     "name": "stdout",
     "output_type": "stream",
     "text": [
      "<class 'pandas.core.frame.DataFrame'>\n",
      "RangeIndex: 2650 entries, 0 to 2649\n",
      "Data columns (total 10 columns):\n",
      " #   Column            Non-Null Count  Dtype \n",
      "---  ------            --------------  ----- \n",
      " 0   DATA              2650 non-null   object\n",
      " 1   FORNECEDOR        2650 non-null   object\n",
      " 2   DESTINO           2650 non-null   object\n",
      " 3   ESTADO/MUNICIPIO  2650 non-null   object\n",
      " 4   TIPO              2650 non-null   object\n",
      " 5   QUANTIDADE        2650 non-null   int64 \n",
      " 6   VALOR             2650 non-null   object\n",
      " 7   DESTINATARIO      2650 non-null   object\n",
      " 8   UF                2650 non-null   object\n",
      " 9   DATA DE ENTREGA   2650 non-null   object\n",
      "dtypes: int64(1), object(9)\n",
      "memory usage: 207.2+ KB\n"
     ]
    }
   ],
   "source": [
    "df_respirators = pd.read_csv('Arquivos/distribuicao_respiradores.csv', sep=';')\n",
    "df_respirators.info()"
   ]
  },
  {
   "cell_type": "code",
   "execution_count": 3,
   "id": "e17e92c2",
   "metadata": {},
   "outputs": [
    {
     "data": {
      "text/plain": [
       "(2650, 10)"
      ]
     },
     "execution_count": 3,
     "metadata": {},
     "output_type": "execute_result"
    }
   ],
   "source": [
    "df_respirators.shape"
   ]
  },
  {
   "cell_type": "code",
   "execution_count": 4,
   "id": "91a67c9e",
   "metadata": {
    "scrolled": true
   },
   "outputs": [
    {
     "data": {
      "text/html": [
       "<div>\n",
       "<style scoped>\n",
       "    .dataframe tbody tr th:only-of-type {\n",
       "        vertical-align: middle;\n",
       "    }\n",
       "\n",
       "    .dataframe tbody tr th {\n",
       "        vertical-align: top;\n",
       "    }\n",
       "\n",
       "    .dataframe thead th {\n",
       "        text-align: right;\n",
       "    }\n",
       "</style>\n",
       "<table border=\"1\" class=\"dataframe\">\n",
       "  <thead>\n",
       "    <tr style=\"text-align: right;\">\n",
       "      <th></th>\n",
       "      <th>DATA</th>\n",
       "      <th>FORNECEDOR</th>\n",
       "      <th>DESTINO</th>\n",
       "      <th>ESTADO/MUNICIPIO</th>\n",
       "      <th>TIPO</th>\n",
       "      <th>QUANTIDADE</th>\n",
       "      <th>VALOR</th>\n",
       "      <th>DESTINATARIO</th>\n",
       "      <th>UF</th>\n",
       "      <th>DATA DE ENTREGA</th>\n",
       "    </tr>\n",
       "  </thead>\n",
       "  <tbody>\n",
       "    <tr>\n",
       "      <th>0</th>\n",
       "      <td>21/05/2020</td>\n",
       "      <td>VYAIRE</td>\n",
       "      <td>ACRE</td>\n",
       "      <td>ESTADO</td>\n",
       "      <td>UTI</td>\n",
       "      <td>20</td>\n",
       "      <td>R$ 1.200.000,00</td>\n",
       "      <td>Secretaria Estadual de Saúde</td>\n",
       "      <td>AC</td>\n",
       "      <td>23/05/2020</td>\n",
       "    </tr>\n",
       "    <tr>\n",
       "      <th>1</th>\n",
       "      <td>21/05/2020</td>\n",
       "      <td>MAGNAMED</td>\n",
       "      <td>ACRE</td>\n",
       "      <td>ESTADO</td>\n",
       "      <td>TRANSPORTE</td>\n",
       "      <td>10</td>\n",
       "      <td>R$ 482.900,00</td>\n",
       "      <td>Secretaria Estadual de Saúde</td>\n",
       "      <td>AC</td>\n",
       "      <td>23/05/2020</td>\n",
       "    </tr>\n",
       "    <tr>\n",
       "      <th>2</th>\n",
       "      <td>05/06/2020</td>\n",
       "      <td>LEISTUNG</td>\n",
       "      <td>ACRE</td>\n",
       "      <td>ESTADO</td>\n",
       "      <td>UTI</td>\n",
       "      <td>30</td>\n",
       "      <td>R$ 1.800.000,00</td>\n",
       "      <td>Secretaria Estadual de Saúde</td>\n",
       "      <td>AC</td>\n",
       "      <td>08/06/2020</td>\n",
       "    </tr>\n",
       "    <tr>\n",
       "      <th>3</th>\n",
       "      <td>16/06/2020</td>\n",
       "      <td>VYAIRE</td>\n",
       "      <td>ACRE</td>\n",
       "      <td>MUNICIPIO</td>\n",
       "      <td>UTI</td>\n",
       "      <td>5</td>\n",
       "      <td>R$ 300.000,00</td>\n",
       "      <td>Secretaria Municipal de Saúde (Sena Madureira)</td>\n",
       "      <td>AC</td>\n",
       "      <td>24/06/2020</td>\n",
       "    </tr>\n",
       "    <tr>\n",
       "      <th>4</th>\n",
       "      <td>16/06/2020</td>\n",
       "      <td>MAGNAMED</td>\n",
       "      <td>ACRE</td>\n",
       "      <td>MUNICIPIO</td>\n",
       "      <td>TRANSPORTE</td>\n",
       "      <td>5</td>\n",
       "      <td>R$ 241.450,00</td>\n",
       "      <td>Secretaria Municipal de Saúde (Sena Madureira)</td>\n",
       "      <td>AC</td>\n",
       "      <td>24/06/2020</td>\n",
       "    </tr>\n",
       "  </tbody>\n",
       "</table>\n",
       "</div>"
      ],
      "text/plain": [
       "         DATA FORNECEDOR DESTINO ESTADO/MUNICIPIO        TIPO  QUANTIDADE  \\\n",
       "0  21/05/2020     VYAIRE    ACRE           ESTADO         UTI          20   \n",
       "1  21/05/2020   MAGNAMED    ACRE           ESTADO  TRANSPORTE          10   \n",
       "2  05/06/2020   LEISTUNG    ACRE           ESTADO         UTI          30   \n",
       "3  16/06/2020     VYAIRE    ACRE        MUNICIPIO         UTI           5   \n",
       "4  16/06/2020   MAGNAMED    ACRE        MUNICIPIO  TRANSPORTE           5   \n",
       "\n",
       "             VALOR                                    DESTINATARIO  UF  \\\n",
       "0  R$ 1.200.000,00                    Secretaria Estadual de Saúde  AC   \n",
       "1    R$ 482.900,00                    Secretaria Estadual de Saúde  AC   \n",
       "2  R$ 1.800.000,00                    Secretaria Estadual de Saúde  AC   \n",
       "3    R$ 300.000,00  Secretaria Municipal de Saúde (Sena Madureira)  AC   \n",
       "4    R$ 241.450,00  Secretaria Municipal de Saúde (Sena Madureira)  AC   \n",
       "\n",
       "  DATA DE ENTREGA  \n",
       "0      23/05/2020  \n",
       "1      23/05/2020  \n",
       "2      08/06/2020  \n",
       "3      24/06/2020  \n",
       "4      24/06/2020  "
      ]
     },
     "execution_count": 4,
     "metadata": {},
     "output_type": "execute_result"
    }
   ],
   "source": [
    "df_respirators.head()"
   ]
  },
  {
   "cell_type": "markdown",
   "id": "1852594e",
   "metadata": {},
   "source": [
    "---"
   ]
  },
  {
   "cell_type": "markdown",
   "id": "0f53c927",
   "metadata": {},
   "source": [
    "## Análises"
   ]
  },
  {
   "cell_type": "code",
   "execution_count": 5,
   "id": "f5d1d52f",
   "metadata": {
    "scrolled": true
   },
   "outputs": [
    {
     "data": {
      "text/plain": [
       "DATA                0\n",
       "FORNECEDOR          0\n",
       "DESTINO             0\n",
       "ESTADO/MUNICIPIO    0\n",
       "TIPO                0\n",
       "QUANTIDADE          0\n",
       "VALOR               0\n",
       "DESTINATARIO        0\n",
       "UF                  0\n",
       "DATA DE ENTREGA     0\n",
       "dtype: int64"
      ]
     },
     "execution_count": 5,
     "metadata": {},
     "output_type": "execute_result"
    }
   ],
   "source": [
    "df_respirators.isnull().sum()"
   ]
  },
  {
   "cell_type": "code",
   "execution_count": 6,
   "id": "bb09a6ed",
   "metadata": {},
   "outputs": [
    {
     "data": {
      "text/plain": [
       "(56, 10)"
      ]
     },
     "execution_count": 6,
     "metadata": {},
     "output_type": "execute_result"
    }
   ],
   "source": [
    "df_respirators[df_respirators['DESTINO'].str.contains('SANTA')].shape"
   ]
  },
  {
   "cell_type": "code",
   "execution_count": 7,
   "id": "0e65895a",
   "metadata": {},
   "outputs": [
    {
     "data": {
      "text/plain": [
       "497"
      ]
     },
     "execution_count": 7,
     "metadata": {},
     "output_type": "execute_result"
    }
   ],
   "source": [
    "df_respirators['QUANTIDADE'][df_respirators['DESTINO'].str.contains('SANTA')].sum()"
   ]
  },
  {
   "cell_type": "code",
   "execution_count": 8,
   "id": "2d95195f",
   "metadata": {},
   "outputs": [
    {
     "data": {
      "text/plain": [
       "18672"
      ]
     },
     "execution_count": 8,
     "metadata": {},
     "output_type": "execute_result"
    }
   ],
   "source": [
    "df_respirators['QUANTIDADE'].sum()"
   ]
  },
  {
   "cell_type": "code",
   "execution_count": 9,
   "id": "a9a59f63",
   "metadata": {},
   "outputs": [
    {
     "data": {
      "text/plain": [
       "array(['ACRE', 'ALAGOAS', 'AMAPA', 'AMAZONAS', 'BAHIA', 'CEARA',\n",
       "       'ESPIRITO SANTO ', 'DISTRITO FEDERAL', 'GOIAS', 'MARANHÃO',\n",
       "       'MINAS GERAIS', 'MATO GROSSO DO SUL', 'MATO GROSSO ', 'PARA',\n",
       "       'PARAIBA', 'PERNAMBUCO', 'PIAUI', 'PARANA', 'RIO DE JANEIRO',\n",
       "       'RIO GRANDE DO NORTE', 'RONDONIA', 'RORAIMA', 'RIO GRANDE DO SUL ',\n",
       "       'SANTA CATARINA', 'SERGIPE', 'SÃO PAULO', 'TOCANTINS', 'LIBANO',\n",
       "       'PERU', 'HAITI '], dtype=object)"
      ]
     },
     "execution_count": 9,
     "metadata": {},
     "output_type": "execute_result"
    }
   ],
   "source": [
    "df_respirators['DESTINO'].unique()"
   ]
  },
  {
   "cell_type": "code",
   "execution_count": 10,
   "id": "e7649811",
   "metadata": {},
   "outputs": [
    {
     "data": {
      "text/plain": [
       "array(['AC', 'AC ', 'AL', 'AL ', 'AP', 'AM', 'BA', 'CE', 'ES', 'DF', 'GO',\n",
       "       'MA', 'MG', 'MS', 'MT', 'PA', 'PB', 'PE', 'PI', 'PR', 'RJ', 'RN',\n",
       "       'RN ', 'RO ', 'RO', 'RR', 'RS', 'SC', 'SE', 'SP', 'TO', '-'],\n",
       "      dtype=object)"
      ]
     },
     "execution_count": 10,
     "metadata": {},
     "output_type": "execute_result"
    }
   ],
   "source": [
    "df_respirators['UF'].unique()"
   ]
  },
  {
   "cell_type": "code",
   "execution_count": 11,
   "id": "22b9e90e",
   "metadata": {},
   "outputs": [
    {
     "data": {
      "text/plain": [
       "array(['UTI', 'TRANSPORTE', 'TRANSPORTE USA', 'Transporte USA'],\n",
       "      dtype=object)"
      ]
     },
     "execution_count": 11,
     "metadata": {},
     "output_type": "execute_result"
    }
   ],
   "source": [
    "df_respirators['TIPO'].unique()"
   ]
  },
  {
   "cell_type": "code",
   "execution_count": 12,
   "id": "37aeeffd",
   "metadata": {},
   "outputs": [
    {
     "data": {
      "text/plain": [
       "array(['ESTADO', 'MUNICIPIO', 'ESTADO ', '-'], dtype=object)"
      ]
     },
     "execution_count": 12,
     "metadata": {},
     "output_type": "execute_result"
    }
   ],
   "source": [
    "df_respirators['ESTADO/MUNICIPIO'].unique()"
   ]
  },
  {
   "cell_type": "code",
   "execution_count": 13,
   "id": "0d6ae49a",
   "metadata": {},
   "outputs": [
    {
     "data": {
      "text/plain": [
       "array(['VYAIRE', 'MAGNAMED', 'LEISTUNG', 'KTK', 'LIFEMED ',\n",
       "       'MAGNAMED-REQUISIÇÃO', 'L C DADDE COM AT INST MAT MEDICO EPP',\n",
       "       'LIFEMED', 'SUZANO/Zhongxun Medical', 'SUZANO/Resmed', 'WEG',\n",
       "       'VYAIRE LTV 2200 USA', 'LEISTUNG ', 'VYAIRE ', 'HORTRON ',\n",
       "       'MAGNAMED/REQUISIÇÃO', 'INSPIRAR', 'INSPIRAR ', 'UTI',\n",
       "       'RUSSER BRASIL', 'RUSSER', 'HORTRON', 'VYAIRE LTV 1200 USA',\n",
       "       'LEISTUNG/VYAIRE', 'KTK/VAYIRE', 'VYAIRE/INTERMED', 'ALLIAGE '],\n",
       "      dtype=object)"
      ]
     },
     "execution_count": 13,
     "metadata": {},
     "output_type": "execute_result"
    }
   ],
   "source": [
    "df_respirators['FORNECEDOR'].unique()"
   ]
  },
  {
   "cell_type": "markdown",
   "id": "e2e3ddd2",
   "metadata": {},
   "source": [
    "#### Estados são retratados '-', por causa que são outros paises, não tendo info do UF"
   ]
  },
  {
   "cell_type": "code",
   "execution_count": 14,
   "id": "5897adc6",
   "metadata": {
    "scrolled": false
   },
   "outputs": [
    {
     "data": {
      "text/html": [
       "<div>\n",
       "<style scoped>\n",
       "    .dataframe tbody tr th:only-of-type {\n",
       "        vertical-align: middle;\n",
       "    }\n",
       "\n",
       "    .dataframe tbody tr th {\n",
       "        vertical-align: top;\n",
       "    }\n",
       "\n",
       "    .dataframe thead th {\n",
       "        text-align: right;\n",
       "    }\n",
       "</style>\n",
       "<table border=\"1\" class=\"dataframe\">\n",
       "  <thead>\n",
       "    <tr style=\"text-align: right;\">\n",
       "      <th></th>\n",
       "      <th>DATA</th>\n",
       "      <th>FORNECEDOR</th>\n",
       "      <th>DESTINO</th>\n",
       "      <th>ESTADO/MUNICIPIO</th>\n",
       "      <th>TIPO</th>\n",
       "      <th>QUANTIDADE</th>\n",
       "      <th>VALOR</th>\n",
       "      <th>DESTINATARIO</th>\n",
       "      <th>UF</th>\n",
       "      <th>DATA DE ENTREGA</th>\n",
       "    </tr>\n",
       "  </thead>\n",
       "  <tbody>\n",
       "    <tr>\n",
       "      <th>2644</th>\n",
       "      <td>19/03/2021</td>\n",
       "      <td>INSPIRAR</td>\n",
       "      <td>TOCANTINS</td>\n",
       "      <td>MUNICIPIO</td>\n",
       "      <td>UTI</td>\n",
       "      <td>2</td>\n",
       "      <td>R$ 120.000,00</td>\n",
       "      <td>SMS de Formoso do Araguaia</td>\n",
       "      <td>TO</td>\n",
       "      <td>23/03/2021</td>\n",
       "    </tr>\n",
       "    <tr>\n",
       "      <th>2645</th>\n",
       "      <td>07/08/2020</td>\n",
       "      <td>MAGNAMED</td>\n",
       "      <td>LIBANO</td>\n",
       "      <td>-</td>\n",
       "      <td>TRANSPORTE</td>\n",
       "      <td>300</td>\n",
       "      <td>R$ 14.487.000,00</td>\n",
       "      <td>MISSÃO FAB (Doação Destino ao Libano).</td>\n",
       "      <td>-</td>\n",
       "      <td>08/08/2020</td>\n",
       "    </tr>\n",
       "    <tr>\n",
       "      <th>2646</th>\n",
       "      <td>29/12/2020</td>\n",
       "      <td>MAGNAMED</td>\n",
       "      <td>PERU</td>\n",
       "      <td>-</td>\n",
       "      <td>UTI</td>\n",
       "      <td>100</td>\n",
       "      <td>R$ 6.000.000,00</td>\n",
       "      <td>Cooperação Humanitária (Peru)</td>\n",
       "      <td>-</td>\n",
       "      <td>28/12/2020</td>\n",
       "    </tr>\n",
       "    <tr>\n",
       "      <th>2647</th>\n",
       "      <td>29/12/2020</td>\n",
       "      <td>KTK</td>\n",
       "      <td>PERU</td>\n",
       "      <td>-</td>\n",
       "      <td>TRANSPORTE</td>\n",
       "      <td>230</td>\n",
       "      <td>R$ 4.600.000,00</td>\n",
       "      <td>Cooperação Humanitária (Peru)</td>\n",
       "      <td>-</td>\n",
       "      <td>28/12/2020</td>\n",
       "    </tr>\n",
       "    <tr>\n",
       "      <th>2648</th>\n",
       "      <td>08/01/2021</td>\n",
       "      <td>KTK</td>\n",
       "      <td>HAITI</td>\n",
       "      <td>-</td>\n",
       "      <td>TRANSPORTE</td>\n",
       "      <td>50</td>\n",
       "      <td>R$ 1.000.000,00</td>\n",
       "      <td>Cooperação Humanitária (HAITI)</td>\n",
       "      <td>-</td>\n",
       "      <td>12/01/2021</td>\n",
       "    </tr>\n",
       "    <tr>\n",
       "      <th>2649</th>\n",
       "      <td>08/01/2021</td>\n",
       "      <td>MAGNAMED</td>\n",
       "      <td>HAITI</td>\n",
       "      <td>-</td>\n",
       "      <td>UTI</td>\n",
       "      <td>50</td>\n",
       "      <td>R$ 3.000.000,00</td>\n",
       "      <td>Cooperação Humanitária (HAITI)</td>\n",
       "      <td>-</td>\n",
       "      <td>12/01/2021</td>\n",
       "    </tr>\n",
       "  </tbody>\n",
       "</table>\n",
       "</div>"
      ],
      "text/plain": [
       "            DATA FORNECEDOR    DESTINO ESTADO/MUNICIPIO        TIPO  \\\n",
       "2644  19/03/2021  INSPIRAR   TOCANTINS        MUNICIPIO         UTI   \n",
       "2645  07/08/2020   MAGNAMED     LIBANO                -  TRANSPORTE   \n",
       "2646  29/12/2020   MAGNAMED       PERU                -         UTI   \n",
       "2647  29/12/2020        KTK       PERU                -  TRANSPORTE   \n",
       "2648  08/01/2021        KTK     HAITI                 -  TRANSPORTE   \n",
       "2649  08/01/2021   MAGNAMED     HAITI                 -         UTI   \n",
       "\n",
       "      QUANTIDADE             VALOR                            DESTINATARIO  \\\n",
       "2644           2     R$ 120.000,00             SMS de Formoso do Araguaia    \n",
       "2645         300  R$ 14.487.000,00  MISSÃO FAB (Doação Destino ao Libano).   \n",
       "2646         100   R$ 6.000.000,00           Cooperação Humanitária (Peru)   \n",
       "2647         230   R$ 4.600.000,00           Cooperação Humanitária (Peru)   \n",
       "2648          50   R$ 1.000.000,00          Cooperação Humanitária (HAITI)   \n",
       "2649          50   R$ 3.000.000,00          Cooperação Humanitária (HAITI)   \n",
       "\n",
       "      UF DATA DE ENTREGA  \n",
       "2644  TO      23/03/2021  \n",
       "2645   -      08/08/2020  \n",
       "2646   -      28/12/2020  \n",
       "2647   -      28/12/2020  \n",
       "2648   -      12/01/2021  \n",
       "2649   -      12/01/2021  "
      ]
     },
     "execution_count": 14,
     "metadata": {},
     "output_type": "execute_result"
    }
   ],
   "source": [
    "df_respirators.tail(6)"
   ]
  },
  {
   "cell_type": "markdown",
   "id": "6e5744dc",
   "metadata": {},
   "source": [
    "## Tratamentos"
   ]
  },
  {
   "cell_type": "code",
   "execution_count": 15,
   "id": "4757d35e",
   "metadata": {},
   "outputs": [
    {
     "name": "stdout",
     "output_type": "stream",
     "text": [
      "<class 'pandas.core.frame.DataFrame'>\n",
      "RangeIndex: 2650 entries, 0 to 2649\n",
      "Data columns (total 10 columns):\n",
      " #   Column            Non-Null Count  Dtype \n",
      "---  ------            --------------  ----- \n",
      " 0   DATA              2650 non-null   object\n",
      " 1   FORNECEDOR        2650 non-null   object\n",
      " 2   DESTINO           2650 non-null   object\n",
      " 3   ESTADO/MUNICIPIO  2650 non-null   object\n",
      " 4   TIPO              2650 non-null   object\n",
      " 5   QUANTIDADE        2650 non-null   int64 \n",
      " 6   VALOR             2650 non-null   object\n",
      " 7   DESTINATARIO      2650 non-null   object\n",
      " 8   UF                2650 non-null   object\n",
      " 9   DATA DE ENTREGA   2650 non-null   object\n",
      "dtypes: int64(1), object(9)\n",
      "memory usage: 207.2+ KB\n"
     ]
    }
   ],
   "source": [
    "df_respirators.info()"
   ]
  },
  {
   "cell_type": "code",
   "execution_count": 16,
   "id": "b572fcd2",
   "metadata": {
    "scrolled": true
   },
   "outputs": [],
   "source": [
    "df_respirators['UF'] = df_respirators['UF'].str.strip()\n",
    "df_respirators['DESTINO'] = df_respirators['DESTINO'].str.rstrip().apply(lambda x: x.title())\n",
    "df_respirators['ESTADO/MUNICIPIO'] = df_respirators['ESTADO/MUNICIPIO'].str.rstrip()\n",
    "df_respirators['TIPO'] = df_respirators['TIPO'].str.upper()\n",
    "df_respirators['FORNECEDOR'] = df_respirators['FORNECEDOR'].str.rstrip().apply(lambda x: x.replace(\"-\", \"/\"))\n",
    "\n",
    "df_respirators.rename(columns={'VALOR': 'VALOR/R$'}, inplace = True)\n",
    "df_respirators['VALOR/R$'] = df_respirators['VALOR/R$'].apply(lambda x: x.replace(\"R$ \", \"\"))\n",
    "df_respirators['VALOR/R$'] = df_respirators['VALOR/R$'].apply(lambda x: x.replace(\".\", \"\"))\n",
    "df_respirators['VALOR/R$'] = df_respirators['VALOR/R$'].apply(lambda x: float(x.replace(\",\", \".\")))\n",
    "\n",
    "df_respirators.drop(df_respirators.index[448], inplace=True)"
   ]
  },
  {
   "cell_type": "markdown",
   "id": "79ecae25",
   "metadata": {},
   "source": [
    "#### Identificado pela coluna Data"
   ]
  },
  {
   "cell_type": "code",
   "execution_count": 17,
   "id": "a0dd8b97",
   "metadata": {},
   "outputs": [],
   "source": [
    "df_respirators['DATA DE ENTREGA'].replace(to_replace = '21/04/20201', value = '21/04/2021', inplace=True)"
   ]
  },
  {
   "cell_type": "markdown",
   "id": "d907d8d6",
   "metadata": {},
   "source": [
    "---"
   ]
  },
  {
   "cell_type": "code",
   "execution_count": 18,
   "id": "1e2c6b24",
   "metadata": {},
   "outputs": [],
   "source": [
    "df_respirators['DATA DE ENTREGA'].replace(to_replace = '31/04/2020', value = '01/05/2020', inplace=True)\n",
    "df_respirators['DATA DE ENTREGA'].replace(to_replace = '29/02/2021', value = '01/03/2021', inplace=True)\n",
    "df_respirators['DATA DE ENTREGA'].replace(to_replace = '30/10//2020', value = '30/10/2020', inplace=True)\n",
    "df_respirators['DATA DE ENTREGA'] = df_respirators['DATA DE ENTREGA'].str.replace('-', '')"
   ]
  },
  {
   "cell_type": "code",
   "execution_count": 19,
   "id": "35890efa",
   "metadata": {},
   "outputs": [
    {
     "data": {
      "text/html": [
       "<div>\n",
       "<style scoped>\n",
       "    .dataframe tbody tr th:only-of-type {\n",
       "        vertical-align: middle;\n",
       "    }\n",
       "\n",
       "    .dataframe tbody tr th {\n",
       "        vertical-align: top;\n",
       "    }\n",
       "\n",
       "    .dataframe thead th {\n",
       "        text-align: right;\n",
       "    }\n",
       "</style>\n",
       "<table border=\"1\" class=\"dataframe\">\n",
       "  <thead>\n",
       "    <tr style=\"text-align: right;\">\n",
       "      <th></th>\n",
       "      <th>DATA</th>\n",
       "      <th>FORNECEDOR</th>\n",
       "      <th>DESTINO</th>\n",
       "      <th>ESTADO/MUNICIPIO</th>\n",
       "      <th>TIPO</th>\n",
       "      <th>QUANTIDADE</th>\n",
       "      <th>VALOR/R$</th>\n",
       "      <th>DESTINATARIO</th>\n",
       "      <th>UF</th>\n",
       "      <th>DATA DE ENTREGA</th>\n",
       "    </tr>\n",
       "  </thead>\n",
       "  <tbody>\n",
       "  </tbody>\n",
       "</table>\n",
       "</div>"
      ],
      "text/plain": [
       "Empty DataFrame\n",
       "Columns: [DATA, FORNECEDOR, DESTINO, ESTADO/MUNICIPIO, TIPO, QUANTIDADE, VALOR/R$, DESTINATARIO, UF, DATA DE ENTREGA]\n",
       "Index: []"
      ]
     },
     "execution_count": 19,
     "metadata": {},
     "output_type": "execute_result"
    }
   ],
   "source": [
    "df_respirators[df_respirators['DATA DE ENTREGA'].str.contains('-')]"
   ]
  },
  {
   "cell_type": "code",
   "execution_count": 20,
   "id": "d3d571ae",
   "metadata": {},
   "outputs": [
    {
     "data": {
      "text/html": [
       "<div>\n",
       "<style scoped>\n",
       "    .dataframe tbody tr th:only-of-type {\n",
       "        vertical-align: middle;\n",
       "    }\n",
       "\n",
       "    .dataframe tbody tr th {\n",
       "        vertical-align: top;\n",
       "    }\n",
       "\n",
       "    .dataframe thead th {\n",
       "        text-align: right;\n",
       "    }\n",
       "</style>\n",
       "<table border=\"1\" class=\"dataframe\">\n",
       "  <thead>\n",
       "    <tr style=\"text-align: right;\">\n",
       "      <th></th>\n",
       "      <th>DATA</th>\n",
       "      <th>FORNECEDOR</th>\n",
       "      <th>DESTINO</th>\n",
       "      <th>ESTADO/MUNICIPIO</th>\n",
       "      <th>TIPO</th>\n",
       "      <th>QUANTIDADE</th>\n",
       "      <th>VALOR/R$</th>\n",
       "      <th>DESTINATARIO</th>\n",
       "      <th>UF</th>\n",
       "      <th>DATA DE ENTREGA</th>\n",
       "    </tr>\n",
       "  </thead>\n",
       "  <tbody>\n",
       "  </tbody>\n",
       "</table>\n",
       "</div>"
      ],
      "text/plain": [
       "Empty DataFrame\n",
       "Columns: [DATA, FORNECEDOR, DESTINO, ESTADO/MUNICIPIO, TIPO, QUANTIDADE, VALOR/R$, DESTINATARIO, UF, DATA DE ENTREGA]\n",
       "Index: []"
      ]
     },
     "execution_count": 20,
     "metadata": {},
     "output_type": "execute_result"
    }
   ],
   "source": [
    "df_respirators[df_respirators['DATA'].str.contains('-')]"
   ]
  },
  {
   "cell_type": "markdown",
   "id": "6c4e3453",
   "metadata": {},
   "source": [
    "---"
   ]
  },
  {
   "cell_type": "markdown",
   "id": "cda85ea9",
   "metadata": {},
   "source": [
    "#### Verificações"
   ]
  },
  {
   "cell_type": "code",
   "execution_count": 21,
   "id": "670f06b4",
   "metadata": {},
   "outputs": [
    {
     "data": {
      "text/html": [
       "<div>\n",
       "<style scoped>\n",
       "    .dataframe tbody tr th:only-of-type {\n",
       "        vertical-align: middle;\n",
       "    }\n",
       "\n",
       "    .dataframe tbody tr th {\n",
       "        vertical-align: top;\n",
       "    }\n",
       "\n",
       "    .dataframe thead th {\n",
       "        text-align: right;\n",
       "    }\n",
       "</style>\n",
       "<table border=\"1\" class=\"dataframe\">\n",
       "  <thead>\n",
       "    <tr style=\"text-align: right;\">\n",
       "      <th></th>\n",
       "      <th>DATA</th>\n",
       "      <th>FORNECEDOR</th>\n",
       "      <th>DESTINO</th>\n",
       "      <th>ESTADO/MUNICIPIO</th>\n",
       "      <th>TIPO</th>\n",
       "      <th>QUANTIDADE</th>\n",
       "      <th>VALOR/R$</th>\n",
       "      <th>DESTINATARIO</th>\n",
       "      <th>UF</th>\n",
       "      <th>DATA DE ENTREGA</th>\n",
       "    </tr>\n",
       "  </thead>\n",
       "  <tbody>\n",
       "    <tr>\n",
       "      <th>91</th>\n",
       "      <td>25/01/2021 00:00</td>\n",
       "      <td>VYAIRE</td>\n",
       "      <td>Amazonas</td>\n",
       "      <td>ESTADO</td>\n",
       "      <td>UTI</td>\n",
       "      <td>40</td>\n",
       "      <td>2400000.0</td>\n",
       "      <td>SECRETARIA ESTADUAL DE SAÚDE DO AMAZONAS</td>\n",
       "      <td>AM</td>\n",
       "      <td>27/01/2021  18:00</td>\n",
       "    </tr>\n",
       "    <tr>\n",
       "      <th>92</th>\n",
       "      <td>03/02/2021</td>\n",
       "      <td>VYAIRE</td>\n",
       "      <td>Amazonas</td>\n",
       "      <td>ESTADO</td>\n",
       "      <td>UTI</td>\n",
       "      <td>50</td>\n",
       "      <td>3000000.0</td>\n",
       "      <td>SECRETARIA ESTADUAL DE SAÚDE DO AMAZONAS</td>\n",
       "      <td>AM</td>\n",
       "      <td>04/02/2021</td>\n",
       "    </tr>\n",
       "    <tr>\n",
       "      <th>93</th>\n",
       "      <td>05/02/2021</td>\n",
       "      <td>VYAIRE</td>\n",
       "      <td>Amazonas</td>\n",
       "      <td>MUNICIPIO</td>\n",
       "      <td>UTI</td>\n",
       "      <td>4</td>\n",
       "      <td>240000.0</td>\n",
       "      <td>HOSPITAL GERAL ERALDO NEVES FALCAO</td>\n",
       "      <td>AM</td>\n",
       "      <td>09/02/2021</td>\n",
       "    </tr>\n",
       "  </tbody>\n",
       "</table>\n",
       "</div>"
      ],
      "text/plain": [
       "                DATA FORNECEDOR   DESTINO ESTADO/MUNICIPIO TIPO  QUANTIDADE  \\\n",
       "91  25/01/2021 00:00     VYAIRE  Amazonas           ESTADO  UTI          40   \n",
       "92        03/02/2021     VYAIRE  Amazonas           ESTADO  UTI          50   \n",
       "93        05/02/2021     VYAIRE  Amazonas        MUNICIPIO  UTI           4   \n",
       "\n",
       "     VALOR/R$                               DESTINATARIO  UF  \\\n",
       "91  2400000.0  SECRETARIA ESTADUAL DE SAÚDE DO AMAZONAS   AM   \n",
       "92  3000000.0  SECRETARIA ESTADUAL DE SAÚDE DO AMAZONAS   AM   \n",
       "93   240000.0        HOSPITAL GERAL ERALDO NEVES FALCAO   AM   \n",
       "\n",
       "      DATA DE ENTREGA  \n",
       "91  27/01/2021  18:00  \n",
       "92         04/02/2021  \n",
       "93         09/02/2021  "
      ]
     },
     "execution_count": 21,
     "metadata": {},
     "output_type": "execute_result"
    }
   ],
   "source": [
    "df_respirators.iloc[[91, 92, 93]]"
   ]
  },
  {
   "cell_type": "code",
   "execution_count": 22,
   "id": "9aa5ddd8",
   "metadata": {
    "scrolled": true
   },
   "outputs": [
    {
     "data": {
      "text/html": [
       "<div>\n",
       "<style scoped>\n",
       "    .dataframe tbody tr th:only-of-type {\n",
       "        vertical-align: middle;\n",
       "    }\n",
       "\n",
       "    .dataframe tbody tr th {\n",
       "        vertical-align: top;\n",
       "    }\n",
       "\n",
       "    .dataframe thead th {\n",
       "        text-align: right;\n",
       "    }\n",
       "</style>\n",
       "<table border=\"1\" class=\"dataframe\">\n",
       "  <thead>\n",
       "    <tr style=\"text-align: right;\">\n",
       "      <th></th>\n",
       "      <th>DATA</th>\n",
       "      <th>FORNECEDOR</th>\n",
       "      <th>DESTINO</th>\n",
       "      <th>ESTADO/MUNICIPIO</th>\n",
       "      <th>TIPO</th>\n",
       "      <th>QUANTIDADE</th>\n",
       "      <th>VALOR/R$</th>\n",
       "      <th>DESTINATARIO</th>\n",
       "      <th>UF</th>\n",
       "      <th>DATA DE ENTREGA</th>\n",
       "    </tr>\n",
       "  </thead>\n",
       "  <tbody>\n",
       "  </tbody>\n",
       "</table>\n",
       "</div>"
      ],
      "text/plain": [
       "Empty DataFrame\n",
       "Columns: [DATA, FORNECEDOR, DESTINO, ESTADO/MUNICIPIO, TIPO, QUANTIDADE, VALOR/R$, DESTINATARIO, UF, DATA DE ENTREGA]\n",
       "Index: []"
      ]
     },
     "execution_count": 22,
     "metadata": {},
     "output_type": "execute_result"
    }
   ],
   "source": [
    "df_respirators[df_respirators['DATA DE ENTREGA'].isnull() == True]"
   ]
  },
  {
   "cell_type": "code",
   "execution_count": 23,
   "id": "8f5db7c0",
   "metadata": {},
   "outputs": [
    {
     "data": {
      "text/html": [
       "<div>\n",
       "<style scoped>\n",
       "    .dataframe tbody tr th:only-of-type {\n",
       "        vertical-align: middle;\n",
       "    }\n",
       "\n",
       "    .dataframe tbody tr th {\n",
       "        vertical-align: top;\n",
       "    }\n",
       "\n",
       "    .dataframe thead th {\n",
       "        text-align: right;\n",
       "    }\n",
       "</style>\n",
       "<table border=\"1\" class=\"dataframe\">\n",
       "  <thead>\n",
       "    <tr style=\"text-align: right;\">\n",
       "      <th></th>\n",
       "      <th>DATA</th>\n",
       "      <th>FORNECEDOR</th>\n",
       "      <th>DESTINO</th>\n",
       "      <th>ESTADO/MUNICIPIO</th>\n",
       "      <th>TIPO</th>\n",
       "      <th>QUANTIDADE</th>\n",
       "      <th>VALOR/R$</th>\n",
       "      <th>DESTINATARIO</th>\n",
       "      <th>UF</th>\n",
       "      <th>DATA DE ENTREGA</th>\n",
       "    </tr>\n",
       "  </thead>\n",
       "  <tbody>\n",
       "  </tbody>\n",
       "</table>\n",
       "</div>"
      ],
      "text/plain": [
       "Empty DataFrame\n",
       "Columns: [DATA, FORNECEDOR, DESTINO, ESTADO/MUNICIPIO, TIPO, QUANTIDADE, VALOR/R$, DESTINATARIO, UF, DATA DE ENTREGA]\n",
       "Index: []"
      ]
     },
     "execution_count": 23,
     "metadata": {},
     "output_type": "execute_result"
    }
   ],
   "source": [
    "df_respirators[df_respirators['DATA'].isnull() == True]"
   ]
  },
  {
   "cell_type": "markdown",
   "id": "c83dcab7",
   "metadata": {},
   "source": [
    "---"
   ]
  },
  {
   "cell_type": "markdown",
   "id": "cba504ad",
   "metadata": {},
   "source": [
    "#### Datetime"
   ]
  },
  {
   "cell_type": "code",
   "execution_count": 24,
   "id": "a807cf58",
   "metadata": {
    "scrolled": true
   },
   "outputs": [],
   "source": [
    "df_respirators[['DATA', 'DATA DE ENTREGA']] = df_respirators[['DATA', 'DATA DE ENTREGA']].apply(pd.to_datetime)"
   ]
  },
  {
   "cell_type": "code",
   "execution_count": 25,
   "id": "5353e0e8",
   "metadata": {
    "scrolled": true
   },
   "outputs": [
    {
     "data": {
      "text/html": [
       "<div>\n",
       "<style scoped>\n",
       "    .dataframe tbody tr th:only-of-type {\n",
       "        vertical-align: middle;\n",
       "    }\n",
       "\n",
       "    .dataframe tbody tr th {\n",
       "        vertical-align: top;\n",
       "    }\n",
       "\n",
       "    .dataframe thead th {\n",
       "        text-align: right;\n",
       "    }\n",
       "</style>\n",
       "<table border=\"1\" class=\"dataframe\">\n",
       "  <thead>\n",
       "    <tr style=\"text-align: right;\">\n",
       "      <th></th>\n",
       "      <th>DATA</th>\n",
       "      <th>FORNECEDOR</th>\n",
       "      <th>DESTINO</th>\n",
       "      <th>ESTADO/MUNICIPIO</th>\n",
       "      <th>TIPO</th>\n",
       "      <th>QUANTIDADE</th>\n",
       "      <th>VALOR/R$</th>\n",
       "      <th>DESTINATARIO</th>\n",
       "      <th>UF</th>\n",
       "      <th>DATA DE ENTREGA</th>\n",
       "    </tr>\n",
       "  </thead>\n",
       "  <tbody>\n",
       "    <tr>\n",
       "      <th>1865</th>\n",
       "      <td>2020-11-26</td>\n",
       "      <td>LEISTUNG</td>\n",
       "      <td>Rio De Janeiro</td>\n",
       "      <td>ESTADO</td>\n",
       "      <td>UTI</td>\n",
       "      <td>19</td>\n",
       "      <td>1140000.00</td>\n",
       "      <td>INSTITUTO NACIONAL DO CANCER  INCA</td>\n",
       "      <td>RJ</td>\n",
       "      <td>2020-01-12 11:15:00</td>\n",
       "    </tr>\n",
       "    <tr>\n",
       "      <th>1866</th>\n",
       "      <td>2020-11-26</td>\n",
       "      <td>LEISTUNG</td>\n",
       "      <td>Rio De Janeiro</td>\n",
       "      <td>ESTADO</td>\n",
       "      <td>UTI</td>\n",
       "      <td>21</td>\n",
       "      <td>1260000.00</td>\n",
       "      <td>Instituto Fernandes Figueira</td>\n",
       "      <td>RJ</td>\n",
       "      <td>2020-01-12 11:40:00</td>\n",
       "    </tr>\n",
       "    <tr>\n",
       "      <th>1867</th>\n",
       "      <td>2020-11-26</td>\n",
       "      <td>VYAIRE</td>\n",
       "      <td>Rio De Janeiro</td>\n",
       "      <td>ESTADO</td>\n",
       "      <td>UTI</td>\n",
       "      <td>4</td>\n",
       "      <td>240000.00</td>\n",
       "      <td>Hospital Federal de Ipanema</td>\n",
       "      <td>RJ</td>\n",
       "      <td>2020-11-30 15:29:00</td>\n",
       "    </tr>\n",
       "    <tr>\n",
       "      <th>1868</th>\n",
       "      <td>2020-11-26</td>\n",
       "      <td>VYAIRE LTV 2200 USA</td>\n",
       "      <td>Rio De Janeiro</td>\n",
       "      <td>ESTADO</td>\n",
       "      <td>TRANSPORTE USA</td>\n",
       "      <td>30</td>\n",
       "      <td>1893779.10</td>\n",
       "      <td>INI  Instituto nacional de Infectologia</td>\n",
       "      <td>RJ</td>\n",
       "      <td>2020-11-30 11:43:00</td>\n",
       "    </tr>\n",
       "    <tr>\n",
       "      <th>1869</th>\n",
       "      <td>2020-11-26</td>\n",
       "      <td>LEISTUNG</td>\n",
       "      <td>Rio De Janeiro</td>\n",
       "      <td>ESTADO</td>\n",
       "      <td>UTI</td>\n",
       "      <td>10</td>\n",
       "      <td>600000.00</td>\n",
       "      <td>INI  Instituto nacional de Infectologia</td>\n",
       "      <td>RJ</td>\n",
       "      <td>2020-11-30 11:43:00</td>\n",
       "    </tr>\n",
       "    <tr>\n",
       "      <th>1870</th>\n",
       "      <td>2020-11-26</td>\n",
       "      <td>VYAIRE</td>\n",
       "      <td>Rio De Janeiro</td>\n",
       "      <td>ESTADO</td>\n",
       "      <td>UTI</td>\n",
       "      <td>50</td>\n",
       "      <td>3000000.00</td>\n",
       "      <td>Hospital Federal do Andarai</td>\n",
       "      <td>RJ</td>\n",
       "      <td>2020-11-30 14:59:00</td>\n",
       "    </tr>\n",
       "    <tr>\n",
       "      <th>1871</th>\n",
       "      <td>2020-11-26</td>\n",
       "      <td>VYAIRE</td>\n",
       "      <td>Rio De Janeiro</td>\n",
       "      <td>ESTADO</td>\n",
       "      <td>UTI</td>\n",
       "      <td>10</td>\n",
       "      <td>600000.00</td>\n",
       "      <td>Hospital Geral de Bonsucesso</td>\n",
       "      <td>RJ</td>\n",
       "      <td>2020-11-30 14:58:00</td>\n",
       "    </tr>\n",
       "    <tr>\n",
       "      <th>1872</th>\n",
       "      <td>2020-11-26</td>\n",
       "      <td>VYAIRE</td>\n",
       "      <td>Rio De Janeiro</td>\n",
       "      <td>ESTADO</td>\n",
       "      <td>UTI</td>\n",
       "      <td>44</td>\n",
       "      <td>2640000.00</td>\n",
       "      <td>Hospital dos Servidores do Estado</td>\n",
       "      <td>RJ</td>\n",
       "      <td>2020-11-30 13:27:00</td>\n",
       "    </tr>\n",
       "    <tr>\n",
       "      <th>1873</th>\n",
       "      <td>2020-11-26</td>\n",
       "      <td>LEISTUNG</td>\n",
       "      <td>Rio De Janeiro</td>\n",
       "      <td>ESTADO</td>\n",
       "      <td>UTI</td>\n",
       "      <td>37</td>\n",
       "      <td>2220000.00</td>\n",
       "      <td>Instituto Nacional de Cardiologia INC</td>\n",
       "      <td>RJ</td>\n",
       "      <td>2020-01-12 14:20:00</td>\n",
       "    </tr>\n",
       "    <tr>\n",
       "      <th>1874</th>\n",
       "      <td>2020-11-26</td>\n",
       "      <td>VYAIRE</td>\n",
       "      <td>Rio De Janeiro</td>\n",
       "      <td>ESTADO</td>\n",
       "      <td>UTI</td>\n",
       "      <td>8</td>\n",
       "      <td>480000.00</td>\n",
       "      <td>Hospital Federal da Lagoa</td>\n",
       "      <td>RJ</td>\n",
       "      <td>2020-11-30 15:24:00</td>\n",
       "    </tr>\n",
       "    <tr>\n",
       "      <th>1875</th>\n",
       "      <td>2020-11-26</td>\n",
       "      <td>VYAIRE</td>\n",
       "      <td>Rio De Janeiro</td>\n",
       "      <td>ESTADO</td>\n",
       "      <td>UTI</td>\n",
       "      <td>6</td>\n",
       "      <td>360000.00</td>\n",
       "      <td>Hospital Federal Cardoso Fontes</td>\n",
       "      <td>RJ</td>\n",
       "      <td>2020-11-30 13:05:00</td>\n",
       "    </tr>\n",
       "    <tr>\n",
       "      <th>1876</th>\n",
       "      <td>2020-12-12</td>\n",
       "      <td>VYAIRE LTV 2200 USA</td>\n",
       "      <td>Rio De Janeiro</td>\n",
       "      <td>MUNICIPIO</td>\n",
       "      <td>TRANSPORTE USA</td>\n",
       "      <td>1</td>\n",
       "      <td>63125.97</td>\n",
       "      <td>SMS de TERESOPOLIS</td>\n",
       "      <td>RJ</td>\n",
       "      <td>2020-12-14 18:00:00</td>\n",
       "    </tr>\n",
       "    <tr>\n",
       "      <th>1877</th>\n",
       "      <td>2020-12-12</td>\n",
       "      <td>LEISTUNG</td>\n",
       "      <td>Rio De Janeiro</td>\n",
       "      <td>MUNICIPIO</td>\n",
       "      <td>UTI</td>\n",
       "      <td>5</td>\n",
       "      <td>300000.00</td>\n",
       "      <td>SMS de TERESOPOLIS</td>\n",
       "      <td>RJ</td>\n",
       "      <td>2020-12-14 18:00:00</td>\n",
       "    </tr>\n",
       "    <tr>\n",
       "      <th>1878</th>\n",
       "      <td>2020-12-12</td>\n",
       "      <td>LEISTUNG</td>\n",
       "      <td>Rio De Janeiro</td>\n",
       "      <td>MUNICIPIO</td>\n",
       "      <td>UTI</td>\n",
       "      <td>3</td>\n",
       "      <td>180000.00</td>\n",
       "      <td>SMS de PARAIBA DO SUL</td>\n",
       "      <td>RJ</td>\n",
       "      <td>2020-12-14 18:00:00</td>\n",
       "    </tr>\n",
       "    <tr>\n",
       "      <th>1879</th>\n",
       "      <td>2020-12-12</td>\n",
       "      <td>VYAIRE LTV 2200 USA</td>\n",
       "      <td>Rio De Janeiro</td>\n",
       "      <td>MUNICIPIO</td>\n",
       "      <td>TRANSPORTE USA</td>\n",
       "      <td>2</td>\n",
       "      <td>126251.94</td>\n",
       "      <td>SMS de PATY DO ALFERES</td>\n",
       "      <td>RJ</td>\n",
       "      <td>2020-12-14 18:00:00</td>\n",
       "    </tr>\n",
       "    <tr>\n",
       "      <th>1880</th>\n",
       "      <td>2020-12-12</td>\n",
       "      <td>LEISTUNG</td>\n",
       "      <td>Rio De Janeiro</td>\n",
       "      <td>MUNICIPIO</td>\n",
       "      <td>UTI</td>\n",
       "      <td>4</td>\n",
       "      <td>240000.00</td>\n",
       "      <td>SMS de PATY DO ALFERES</td>\n",
       "      <td>RJ</td>\n",
       "      <td>2020-12-14 18:00:00</td>\n",
       "    </tr>\n",
       "    <tr>\n",
       "      <th>1881</th>\n",
       "      <td>2020-12-12</td>\n",
       "      <td>VYAIRE LTV 2200 USA</td>\n",
       "      <td>Rio De Janeiro</td>\n",
       "      <td>MUNICIPIO</td>\n",
       "      <td>TRANSPORTE USA</td>\n",
       "      <td>1</td>\n",
       "      <td>63125.97</td>\n",
       "      <td>SMS de MACAE</td>\n",
       "      <td>RJ</td>\n",
       "      <td>2020-12-14 18:00:00</td>\n",
       "    </tr>\n",
       "    <tr>\n",
       "      <th>1882</th>\n",
       "      <td>2020-12-12</td>\n",
       "      <td>LEISTUNG</td>\n",
       "      <td>Rio De Janeiro</td>\n",
       "      <td>MUNICIPIO</td>\n",
       "      <td>UTI</td>\n",
       "      <td>3</td>\n",
       "      <td>180000.00</td>\n",
       "      <td>SMS de MACAE</td>\n",
       "      <td>RJ</td>\n",
       "      <td>2020-12-14 18:00:00</td>\n",
       "    </tr>\n",
       "    <tr>\n",
       "      <th>1883</th>\n",
       "      <td>2020-12-18</td>\n",
       "      <td>VYAIRE</td>\n",
       "      <td>Rio De Janeiro</td>\n",
       "      <td>MUNICIPIO</td>\n",
       "      <td>UTI</td>\n",
       "      <td>10</td>\n",
       "      <td>600000.00</td>\n",
       "      <td>HOSPITAL FERREIRA MACHADO</td>\n",
       "      <td>RJ</td>\n",
       "      <td>2020-12-21 00:00:00</td>\n",
       "    </tr>\n",
       "  </tbody>\n",
       "</table>\n",
       "</div>"
      ],
      "text/plain": [
       "           DATA           FORNECEDOR         DESTINO ESTADO/MUNICIPIO  \\\n",
       "1865 2020-11-26             LEISTUNG  Rio De Janeiro           ESTADO   \n",
       "1866 2020-11-26             LEISTUNG  Rio De Janeiro           ESTADO   \n",
       "1867 2020-11-26               VYAIRE  Rio De Janeiro           ESTADO   \n",
       "1868 2020-11-26  VYAIRE LTV 2200 USA  Rio De Janeiro           ESTADO   \n",
       "1869 2020-11-26             LEISTUNG  Rio De Janeiro           ESTADO   \n",
       "1870 2020-11-26               VYAIRE  Rio De Janeiro           ESTADO   \n",
       "1871 2020-11-26               VYAIRE  Rio De Janeiro           ESTADO   \n",
       "1872 2020-11-26               VYAIRE  Rio De Janeiro           ESTADO   \n",
       "1873 2020-11-26             LEISTUNG  Rio De Janeiro           ESTADO   \n",
       "1874 2020-11-26               VYAIRE  Rio De Janeiro           ESTADO   \n",
       "1875 2020-11-26               VYAIRE  Rio De Janeiro           ESTADO   \n",
       "1876 2020-12-12  VYAIRE LTV 2200 USA  Rio De Janeiro        MUNICIPIO   \n",
       "1877 2020-12-12             LEISTUNG  Rio De Janeiro        MUNICIPIO   \n",
       "1878 2020-12-12             LEISTUNG  Rio De Janeiro        MUNICIPIO   \n",
       "1879 2020-12-12  VYAIRE LTV 2200 USA  Rio De Janeiro        MUNICIPIO   \n",
       "1880 2020-12-12             LEISTUNG  Rio De Janeiro        MUNICIPIO   \n",
       "1881 2020-12-12  VYAIRE LTV 2200 USA  Rio De Janeiro        MUNICIPIO   \n",
       "1882 2020-12-12             LEISTUNG  Rio De Janeiro        MUNICIPIO   \n",
       "1883 2020-12-18               VYAIRE  Rio De Janeiro        MUNICIPIO   \n",
       "\n",
       "                TIPO  QUANTIDADE    VALOR/R$  \\\n",
       "1865             UTI          19  1140000.00   \n",
       "1866             UTI          21  1260000.00   \n",
       "1867             UTI           4   240000.00   \n",
       "1868  TRANSPORTE USA          30  1893779.10   \n",
       "1869             UTI          10   600000.00   \n",
       "1870             UTI          50  3000000.00   \n",
       "1871             UTI          10   600000.00   \n",
       "1872             UTI          44  2640000.00   \n",
       "1873             UTI          37  2220000.00   \n",
       "1874             UTI           8   480000.00   \n",
       "1875             UTI           6   360000.00   \n",
       "1876  TRANSPORTE USA           1    63125.97   \n",
       "1877             UTI           5   300000.00   \n",
       "1878             UTI           3   180000.00   \n",
       "1879  TRANSPORTE USA           2   126251.94   \n",
       "1880             UTI           4   240000.00   \n",
       "1881  TRANSPORTE USA           1    63125.97   \n",
       "1882             UTI           3   180000.00   \n",
       "1883             UTI          10   600000.00   \n",
       "\n",
       "                                 DESTINATARIO  UF     DATA DE ENTREGA  \n",
       "1865       INSTITUTO NACIONAL DO CANCER  INCA  RJ 2020-01-12 11:15:00  \n",
       "1866             Instituto Fernandes Figueira  RJ 2020-01-12 11:40:00  \n",
       "1867              Hospital Federal de Ipanema  RJ 2020-11-30 15:29:00  \n",
       "1868  INI  Instituto nacional de Infectologia  RJ 2020-11-30 11:43:00  \n",
       "1869  INI  Instituto nacional de Infectologia  RJ 2020-11-30 11:43:00  \n",
       "1870              Hospital Federal do Andarai  RJ 2020-11-30 14:59:00  \n",
       "1871             Hospital Geral de Bonsucesso  RJ 2020-11-30 14:58:00  \n",
       "1872        Hospital dos Servidores do Estado  RJ 2020-11-30 13:27:00  \n",
       "1873    Instituto Nacional de Cardiologia INC  RJ 2020-01-12 14:20:00  \n",
       "1874                Hospital Federal da Lagoa  RJ 2020-11-30 15:24:00  \n",
       "1875          Hospital Federal Cardoso Fontes  RJ 2020-11-30 13:05:00  \n",
       "1876                       SMS de TERESOPOLIS  RJ 2020-12-14 18:00:00  \n",
       "1877                       SMS de TERESOPOLIS  RJ 2020-12-14 18:00:00  \n",
       "1878                    SMS de PARAIBA DO SUL  RJ 2020-12-14 18:00:00  \n",
       "1879                   SMS de PATY DO ALFERES  RJ 2020-12-14 18:00:00  \n",
       "1880                   SMS de PATY DO ALFERES  RJ 2020-12-14 18:00:00  \n",
       "1881                             SMS de MACAE  RJ 2020-12-14 18:00:00  \n",
       "1882                             SMS de MACAE  RJ 2020-12-14 18:00:00  \n",
       "1883                HOSPITAL FERREIRA MACHADO  RJ 2020-12-21 00:00:00  "
      ]
     },
     "execution_count": 25,
     "metadata": {},
     "output_type": "execute_result"
    }
   ],
   "source": [
    "df_respirators.iloc[1864:1883]"
   ]
  },
  {
   "cell_type": "markdown",
   "id": "5a597705",
   "metadata": {},
   "source": [
    "#### Remoção de datas e estados inconsistentes"
   ]
  },
  {
   "cell_type": "code",
   "execution_count": 26,
   "id": "fc31bcf2",
   "metadata": {},
   "outputs": [],
   "source": [
    "df_respirators.drop(df_respirators[df_respirators['DATA'] > df_respirators['DATA DE ENTREGA']].index,\n",
    "                     inplace=True)\n",
    "\n",
    "df_respirators.drop(df_respirators[df_respirators['ESTADO/MUNICIPIO'] == '-'].index, inplace=True)"
   ]
  },
  {
   "cell_type": "code",
   "execution_count": 27,
   "id": "ac0e11b4",
   "metadata": {},
   "outputs": [
    {
     "name": "stdout",
     "output_type": "stream",
     "text": [
      "<class 'pandas.core.frame.DataFrame'>\n",
      "Int64Index: 1880 entries, 0 to 2644\n",
      "Data columns (total 10 columns):\n",
      " #   Column            Non-Null Count  Dtype         \n",
      "---  ------            --------------  -----         \n",
      " 0   DATA              1880 non-null   datetime64[ns]\n",
      " 1   FORNECEDOR        1880 non-null   object        \n",
      " 2   DESTINO           1880 non-null   object        \n",
      " 3   ESTADO/MUNICIPIO  1880 non-null   object        \n",
      " 4   TIPO              1880 non-null   object        \n",
      " 5   QUANTIDADE        1880 non-null   int64         \n",
      " 6   VALOR/R$          1880 non-null   float64       \n",
      " 7   DESTINATARIO      1880 non-null   object        \n",
      " 8   UF                1880 non-null   object        \n",
      " 9   DATA DE ENTREGA   1880 non-null   datetime64[ns]\n",
      "dtypes: datetime64[ns](2), float64(1), int64(1), object(6)\n",
      "memory usage: 161.6+ KB\n"
     ]
    }
   ],
   "source": [
    "df_respirators.info()"
   ]
  },
  {
   "cell_type": "code",
   "execution_count": 28,
   "id": "1d736b4e",
   "metadata": {},
   "outputs": [
    {
     "data": {
      "text/plain": [
       "(1880, 10)"
      ]
     },
     "execution_count": 28,
     "metadata": {},
     "output_type": "execute_result"
    }
   ],
   "source": [
    "df_respirators.shape"
   ]
  },
  {
   "cell_type": "markdown",
   "id": "54bbaf07",
   "metadata": {},
   "source": [
    "---"
   ]
  },
  {
   "cell_type": "markdown",
   "id": "d3caa12b",
   "metadata": {},
   "source": [
    "#### Verificação: se o destino for diferente de seu estado"
   ]
  },
  {
   "cell_type": "code",
   "execution_count": 29,
   "id": "ff4c2fbc",
   "metadata": {
    "scrolled": true
   },
   "outputs": [
    {
     "name": "stdout",
     "output_type": "stream",
     "text": [
      "Empty DataFrame\n",
      "Columns: [DATA, FORNECEDOR, DESTINO, ESTADO/MUNICIPIO, TIPO, QUANTIDADE, VALOR/R$, DESTINATARIO, UF, DATA DE ENTREGA]\n",
      "Index: []\n",
      "Empty DataFrame\n",
      "Columns: [DATA, FORNECEDOR, DESTINO, ESTADO/MUNICIPIO, TIPO, QUANTIDADE, VALOR/R$, DESTINATARIO, UF, DATA DE ENTREGA]\n",
      "Index: []\n",
      "Empty DataFrame\n",
      "Columns: [DATA, FORNECEDOR, DESTINO, ESTADO/MUNICIPIO, TIPO, QUANTIDADE, VALOR/R$, DESTINATARIO, UF, DATA DE ENTREGA]\n",
      "Index: []\n",
      "Empty DataFrame\n",
      "Columns: [DATA, FORNECEDOR, DESTINO, ESTADO/MUNICIPIO, TIPO, QUANTIDADE, VALOR/R$, DESTINATARIO, UF, DATA DE ENTREGA]\n",
      "Index: []\n",
      "Empty DataFrame\n",
      "Columns: [DATA, FORNECEDOR, DESTINO, ESTADO/MUNICIPIO, TIPO, QUANTIDADE, VALOR/R$, DESTINATARIO, UF, DATA DE ENTREGA]\n",
      "Index: []\n",
      "Empty DataFrame\n",
      "Columns: [DATA, FORNECEDOR, DESTINO, ESTADO/MUNICIPIO, TIPO, QUANTIDADE, VALOR/R$, DESTINATARIO, UF, DATA DE ENTREGA]\n",
      "Index: []\n",
      "Empty DataFrame\n",
      "Columns: [DATA, FORNECEDOR, DESTINO, ESTADO/MUNICIPIO, TIPO, QUANTIDADE, VALOR/R$, DESTINATARIO, UF, DATA DE ENTREGA]\n",
      "Index: []\n",
      "Empty DataFrame\n",
      "Columns: [DATA, FORNECEDOR, DESTINO, ESTADO/MUNICIPIO, TIPO, QUANTIDADE, VALOR/R$, DESTINATARIO, UF, DATA DE ENTREGA]\n",
      "Index: []\n",
      "Empty DataFrame\n",
      "Columns: [DATA, FORNECEDOR, DESTINO, ESTADO/MUNICIPIO, TIPO, QUANTIDADE, VALOR/R$, DESTINATARIO, UF, DATA DE ENTREGA]\n",
      "Index: []\n",
      "Empty DataFrame\n",
      "Columns: [DATA, FORNECEDOR, DESTINO, ESTADO/MUNICIPIO, TIPO, QUANTIDADE, VALOR/R$, DESTINATARIO, UF, DATA DE ENTREGA]\n",
      "Index: []\n",
      "Empty DataFrame\n",
      "Columns: [DATA, FORNECEDOR, DESTINO, ESTADO/MUNICIPIO, TIPO, QUANTIDADE, VALOR/R$, DESTINATARIO, UF, DATA DE ENTREGA]\n",
      "Index: []\n",
      "Empty DataFrame\n",
      "Columns: [DATA, FORNECEDOR, DESTINO, ESTADO/MUNICIPIO, TIPO, QUANTIDADE, VALOR/R$, DESTINATARIO, UF, DATA DE ENTREGA]\n",
      "Index: []\n",
      "Empty DataFrame\n",
      "Columns: [DATA, FORNECEDOR, DESTINO, ESTADO/MUNICIPIO, TIPO, QUANTIDADE, VALOR/R$, DESTINATARIO, UF, DATA DE ENTREGA]\n",
      "Index: []\n",
      "Empty DataFrame\n",
      "Columns: [DATA, FORNECEDOR, DESTINO, ESTADO/MUNICIPIO, TIPO, QUANTIDADE, VALOR/R$, DESTINATARIO, UF, DATA DE ENTREGA]\n",
      "Index: []\n",
      "Empty DataFrame\n",
      "Columns: [DATA, FORNECEDOR, DESTINO, ESTADO/MUNICIPIO, TIPO, QUANTIDADE, VALOR/R$, DESTINATARIO, UF, DATA DE ENTREGA]\n",
      "Index: []\n",
      "Empty DataFrame\n",
      "Columns: [DATA, FORNECEDOR, DESTINO, ESTADO/MUNICIPIO, TIPO, QUANTIDADE, VALOR/R$, DESTINATARIO, UF, DATA DE ENTREGA]\n",
      "Index: []\n",
      "Empty DataFrame\n",
      "Columns: [DATA, FORNECEDOR, DESTINO, ESTADO/MUNICIPIO, TIPO, QUANTIDADE, VALOR/R$, DESTINATARIO, UF, DATA DE ENTREGA]\n",
      "Index: []\n",
      "Empty DataFrame\n",
      "Columns: [DATA, FORNECEDOR, DESTINO, ESTADO/MUNICIPIO, TIPO, QUANTIDADE, VALOR/R$, DESTINATARIO, UF, DATA DE ENTREGA]\n",
      "Index: []\n",
      "Empty DataFrame\n",
      "Columns: [DATA, FORNECEDOR, DESTINO, ESTADO/MUNICIPIO, TIPO, QUANTIDADE, VALOR/R$, DESTINATARIO, UF, DATA DE ENTREGA]\n",
      "Index: []\n",
      "Empty DataFrame\n",
      "Columns: [DATA, FORNECEDOR, DESTINO, ESTADO/MUNICIPIO, TIPO, QUANTIDADE, VALOR/R$, DESTINATARIO, UF, DATA DE ENTREGA]\n",
      "Index: []\n",
      "Empty DataFrame\n",
      "Columns: [DATA, FORNECEDOR, DESTINO, ESTADO/MUNICIPIO, TIPO, QUANTIDADE, VALOR/R$, DESTINATARIO, UF, DATA DE ENTREGA]\n",
      "Index: []\n",
      "Empty DataFrame\n",
      "Columns: [DATA, FORNECEDOR, DESTINO, ESTADO/MUNICIPIO, TIPO, QUANTIDADE, VALOR/R$, DESTINATARIO, UF, DATA DE ENTREGA]\n",
      "Index: []\n",
      "Empty DataFrame\n",
      "Columns: [DATA, FORNECEDOR, DESTINO, ESTADO/MUNICIPIO, TIPO, QUANTIDADE, VALOR/R$, DESTINATARIO, UF, DATA DE ENTREGA]\n",
      "Index: []\n",
      "Empty DataFrame\n",
      "Columns: [DATA, FORNECEDOR, DESTINO, ESTADO/MUNICIPIO, TIPO, QUANTIDADE, VALOR/R$, DESTINATARIO, UF, DATA DE ENTREGA]\n",
      "Index: []\n",
      "Empty DataFrame\n",
      "Columns: [DATA, FORNECEDOR, DESTINO, ESTADO/MUNICIPIO, TIPO, QUANTIDADE, VALOR/R$, DESTINATARIO, UF, DATA DE ENTREGA]\n",
      "Index: []\n",
      "Empty DataFrame\n",
      "Columns: [DATA, FORNECEDOR, DESTINO, ESTADO/MUNICIPIO, TIPO, QUANTIDADE, VALOR/R$, DESTINATARIO, UF, DATA DE ENTREGA]\n",
      "Index: []\n",
      "Empty DataFrame\n",
      "Columns: [DATA, FORNECEDOR, DESTINO, ESTADO/MUNICIPIO, TIPO, QUANTIDADE, VALOR/R$, DESTINATARIO, UF, DATA DE ENTREGA]\n",
      "Index: []\n"
     ]
    }
   ],
   "source": [
    "destiny = list(df_respirators['DESTINO'].unique())\n",
    "state = list(df_respirators['UF'].unique())\n",
    "\n",
    "for i in range(0, int(len(df_respirators['DESTINO'].unique()))):\n",
    "    print(df_respirators[(df_respirators['DESTINO'] == destiny[i]) & (df_respirators['UF'] != state[i])])"
   ]
  },
  {
   "cell_type": "markdown",
   "id": "611467bd",
   "metadata": {},
   "source": [
    "___"
   ]
  },
  {
   "cell_type": "markdown",
   "id": "f97ed4c6",
   "metadata": {},
   "source": [
    "## Tratamento de Outliers"
   ]
  },
  {
   "cell_type": "code",
   "execution_count": 30,
   "id": "5c06d00d",
   "metadata": {},
   "outputs": [],
   "source": [
    "df_respirators['ESPERA/DIA'] = (df_respirators['DATA'] - df_respirators['DATA DE ENTREGA']) * (-1)\n",
    "df_respirators['ESPERA/DIA'] = df_respirators['ESPERA/DIA'].dt.days.astype('int64')"
   ]
  },
  {
   "cell_type": "code",
   "execution_count": 31,
   "id": "a2715640",
   "metadata": {
    "scrolled": true
   },
   "outputs": [
    {
     "data": {
      "image/png": "[encoded data removed]",
      "text/plain": [
       "<Figure size 432x288 with 1 Axes>"
      ]
     },
     "metadata": {
      "needs_background": "light"
     },
     "output_type": "display_data"
    }
   ],
   "source": [
    "df_respirators.boxplot(column=['ESPERA/DIA']);"
   ]
  },
  {
   "cell_type": "code",
   "execution_count": 32,
   "id": "8b2cd191",
   "metadata": {},
   "outputs": [
    {
     "data": {
      "text/plain": [
       "(1880, 11)"
      ]
     },
     "execution_count": 32,
     "metadata": {},
     "output_type": "execute_result"
    }
   ],
   "source": [
    "df_respirators.shape"
   ]
  },
  {
   "cell_type": "code",
   "execution_count": 33,
   "id": "a7de4711",
   "metadata": {},
   "outputs": [],
   "source": [
    "q3 = df_respirators['ESPERA/DIA'].quantile(.75)\n",
    "q1 = df_respirators['ESPERA/DIA'].quantile(.25)\n",
    "qdifferent = q3 - q1\n",
    "upper_limit = q3 + 1.5 * qdifferent\n",
    "inferior_limit = q1 - 1.5 * qdifferent"
   ]
  },
  {
   "cell_type": "code",
   "execution_count": 34,
   "id": "0166aa67",
   "metadata": {},
   "outputs": [],
   "source": [
    "df_trated = df_respirators[(df_respirators['ESPERA/DIA'] <= upper_limit) & (df_respirators['ESPERA/DIA'] >= inferior_limit)]"
   ]
  },
  {
   "cell_type": "code",
   "execution_count": 35,
   "id": "ab2ea0fd",
   "metadata": {},
   "outputs": [
    {
     "data": {
      "image/png": "[encoded data removed]",
      "text/plain": [
       "<Figure size 432x288 with 1 Axes>"
      ]
     },
     "metadata": {
      "needs_background": "light"
     },
     "output_type": "display_data"
    }
   ],
   "source": [
    "df_trated.boxplot(column=['ESPERA/DIA']);"
   ]
  },
  {
   "cell_type": "code",
   "execution_count": 36,
   "id": "d05971ca",
   "metadata": {},
   "outputs": [
    {
     "data": {
      "text/plain": [
       "(1610, 11)"
      ]
     },
     "execution_count": 36,
     "metadata": {},
     "output_type": "execute_result"
    }
   ],
   "source": [
    "df_trated.shape"
   ]
  },
  {
   "cell_type": "markdown",
   "id": "f0b8526c",
   "metadata": {},
   "source": [
    "---"
   ]
  },
  {
   "cell_type": "markdown",
   "id": "70e51c66",
   "metadata": {},
   "source": [
    "### Salvando dataset tratado"
   ]
  },
  {
   "cell_type": "code",
   "execution_count": 37,
   "id": "1979d8a3",
   "metadata": {},
   "outputs": [],
   "source": [
    "df_trated.to_csv('Arquivos/trated.csv', index=None)"
   ]
  },
  {
   "cell_type": "markdown",
   "id": "4a0dcfa7",
   "metadata": {},
   "source": [
    "---"
   ]
  },
  {
   "cell_type": "code",
   "execution_count": null,
   "id": "47a4b6c6",
   "metadata": {},
   "outputs": [],
   "source": []
  }
 ],
 "metadata": {
  "kernelspec": {
   "display_name": "Python 3",
   "language": "python",
   "name": "python3"
  },
  "language_info": {
   "codemirror_mode": {
    "name": "ipython",
    "version": 3
   },
   "file_extension": ".py",
   "mimetype": "text/x-python",
   "name": "python",
   "nbconvert_exporter": "python",
   "pygments_lexer": "ipython3",
   "version": "3.8.8"
  }
 },
 "nbformat": 4,
 "nbformat_minor": 5
}
