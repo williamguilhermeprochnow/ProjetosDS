{
 "cells": [
  {
   "cell_type": "code",
   "execution_count": 1,
   "id": "441591ab",
   "metadata": {},
   "outputs": [
    {
     "data": {
      "text/html": [
       "<style>pre { white-space: pre !important; }</style>"
      ],
      "text/plain": [
       "<IPython.core.display.HTML object>"
      ]
     },
     "metadata": {},
     "output_type": "display_data"
    }
   ],
   "source": [
    "import pyspark\n",
    "\n",
    "from pyspark.sql import SparkSession, types\n",
    "spark = SparkSession.builder.appName('tratamento').getOrCreate()\n",
    "\n",
    "# Habilita o scroll horizontal \n",
    "from IPython.core.display import HTML\n",
    "display(HTML(\"<style>pre { white-space: pre !important; }</style>\"));\n",
    "\n",
    "# Impede que arquivos de _SUCCESS e metadados sejam criados na hora de salvar\n",
    "spark.sparkContext._jsc.hadoopConfiguration().set(\"mapreduce.fileoutputcommitter.marksuccessfuljobs\", \"false\")\n",
    "spark.sparkContext._jsc.hadoopConfiguration().set(\"parquet.enable.summary-metadata\", \"false\")"
   ]
  },
  {
   "cell_type": "code",
   "execution_count": 2,
   "id": "ab72c8c3",
   "metadata": {},
   "outputs": [],
   "source": [
    "from pyspark.sql.functions import (trim, initcap, upper, regexp_replace, translate, to_date, to_timestamp, \n",
    "                                   format_number, round)"
   ]
  },
  {
   "cell_type": "code",
   "execution_count": 3,
   "id": "5e5d138b",
   "metadata": {},
   "outputs": [],
   "source": [
    "def spark_shape(self):\n",
    "    return (self.count(), len(self.columns))\n",
    "\n",
    "pyspark.sql.dataframe.DataFrame.shape = spark_shape"
   ]
  },
  {
   "cell_type": "code",
   "execution_count": 4,
   "id": "7e23a013",
   "metadata": {},
   "outputs": [
    {
     "name": "stdout",
     "output_type": "stream",
     "text": [
      "root\n",
      " |-- DATA: string (nullable = true)\n",
      " |-- FORNECEDOR: string (nullable = true)\n",
      " |-- DESTINO: string (nullable = true)\n",
      " |-- ESTADO/MUNICIPIO: string (nullable = true)\n",
      " |-- TIPO: string (nullable = true)\n",
      " |-- QUANTIDADE: integer (nullable = true)\n",
      " |-- VALOR: string (nullable = true)\n",
      " |-- DESTINATARIO: string (nullable = true)\n",
      " |-- UF: string (nullable = true)\n",
      " |-- DATA DE ENTREGA: string (nullable = true)\n",
      "\n"
     ]
    }
   ],
   "source": [
    "df_respiradores = spark.read.csv('../../../Projetos/Respiradores/Arquivos/distribuicao_respiradores.csv',\n",
    "                                 header=True, inferSchema=True, sep=';')\n",
    "df_respiradores.printSchema()"
   ]
  },
  {
   "cell_type": "code",
   "execution_count": 5,
   "id": "6089edc0",
   "metadata": {},
   "outputs": [
    {
     "data": {
      "text/plain": [
       "(2650, 10)"
      ]
     },
     "execution_count": 5,
     "metadata": {},
     "output_type": "execute_result"
    }
   ],
   "source": [
    "df_respiradores.shape()"
   ]
  },
  {
   "cell_type": "code",
   "execution_count": 6,
   "id": "d581763a",
   "metadata": {},
   "outputs": [
    {
     "name": "stdout",
     "output_type": "stream",
     "text": [
      "+----------+----------+-------+----------------+----------+----------+---------------+--------------------+---+---------------+\n",
      "|      DATA|FORNECEDOR|DESTINO|ESTADO/MUNICIPIO|      TIPO|QUANTIDADE|          VALOR|        DESTINATARIO| UF|DATA DE ENTREGA|\n",
      "+----------+----------+-------+----------------+----------+----------+---------------+--------------------+---+---------------+\n",
      "|21/05/2020|    VYAIRE|   ACRE|          ESTADO|       UTI|        20|R$ 1.200.000,00|Secretaria Estadu...| AC|     23/05/2020|\n",
      "|21/05/2020|  MAGNAMED|   ACRE|          ESTADO|TRANSPORTE|        10|  R$ 482.900,00|Secretaria Estadu...| AC|     23/05/2020|\n",
      "|05/06/2020|  LEISTUNG|   ACRE|          ESTADO|       UTI|        30|R$ 1.800.000,00|Secretaria Estadu...| AC|     08/06/2020|\n",
      "|16/06/2020|    VYAIRE|   ACRE|       MUNICIPIO|       UTI|         5|  R$ 300.000,00|Secretaria Munici...| AC|     24/06/2020|\n",
      "|16/06/2020|  MAGNAMED|   ACRE|       MUNICIPIO|TRANSPORTE|         5|  R$ 241.450,00|Secretaria Munici...| AC|     24/06/2020|\n",
      "|26/06/2020|  MAGNAMED|   ACRE|       MUNICIPIO|TRANSPORTE|        10|  R$ 482.900,00|Secretaria Munici...|AC |     03/07/2020|\n",
      "|26/06/2020|  MAGNAMED|   ACRE|       MUNICIPIO|TRANSPORTE|        70|R$ 3.380.300,00|Secretaria Munici...|AC |     04/07/2020|\n",
      "|07/07/2020|    VYAIRE|   ACRE|       MUNICIPIO|       UTI|        10|  R$ 600.000,00|Cruzeiro do Sul -...| AC|     19/07/2020|\n",
      "|10/07/2020|  MAGNAMED|   ACRE|          ESTADO|TRANSPORTE|         5|  R$ 241.450,00|RIO BRANCO - Secr...| AC|     21/07/2020|\n",
      "|10/07/2020|    VYAIRE|   ACRE|          ESTADO|       UTI|         5|  R$ 300.000,00|RIO BRANCO - Secr...| AC|     21/07/2020|\n",
      "|28/01/2021|    VYAIRE|   ACRE|          ESTADO|       UTI|        20|R$ 1.200.000,00|            SES ACRE| AC|     29/01/2021|\n",
      "|18/02/2021|       KTK|   ACRE|          ESTADO|TRANSPORTE|        20|  R$ 400.000,00|SECRETARIA ESTADU...| AC|     22/02/2021|\n",
      "|18/02/2021|    VYAIRE|   ACRE|          ESTADO|       UTI|        20|R$ 1.200.000,00|SECRETARIA ESTADU...| AC|     22/02/2021|\n",
      "|22/05/2020|       KTK|ALAGOAS|          ESTADO|       UTI|        15|  R$ 900.000,00|Secretaria Estadu...| AL|     24/05/2020|\n",
      "|22/05/2020|  MAGNAMED|ALAGOAS|          ESTADO|TRANSPORTE|        15|  R$ 724.350,00|Secretaria Estadu...| AL|     24/05/2020|\n",
      "|04/06/2020|    VYAIRE|ALAGOAS|          ESTADO|       UTI|        20|R$ 1.200.000,00|Secretaria Estadu...| AL|     06/06/2020|\n",
      "|04/06/2020|  MAGNAMED|ALAGOAS|          ESTADO|TRANSPORTE|        17|  R$ 820.930,00|Secretaria Estadu...| AL|     06/06/2020|\n",
      "|04/06/2020|  MAGNAMED|ALAGOAS|          ESTADO|TRANSPORTE|         3|  R$ 144.870,00|Secretaria Estadu...| AL|     06/06/2020|\n",
      "|16/06/2020|  MAGNAMED|ALAGOAS|          ESTADO|TRANSPORTE|        50|R$ 2.414.500,00|Secretaria Estadu...| AL|     18/06/2020|\n",
      "|26/06/2020|    VYAIRE|ALAGOAS|       MUNICIPIO|       UTI|         1|   R$ 60.000,00|Secretaria Munici...| AL|     01/07/2020|\n",
      "+----------+----------+-------+----------------+----------+----------+---------------+--------------------+---+---------------+\n",
      "only showing top 20 rows\n",
      "\n"
     ]
    }
   ],
   "source": [
    "df_respiradores.show()"
   ]
  },
  {
   "cell_type": "markdown",
   "id": "928d19b1",
   "metadata": {},
   "source": [
    "---"
   ]
  },
  {
   "cell_type": "markdown",
   "id": "c84df6ef",
   "metadata": {},
   "source": [
    "# Análise"
   ]
  },
  {
   "cell_type": "code",
   "execution_count": 7,
   "id": "320b5e66",
   "metadata": {},
   "outputs": [
    {
     "name": "stdout",
     "output_type": "stream",
     "text": [
      "DATA: 0\n",
      "FORNECEDOR: 0\n",
      "DESTINO: 0\n",
      "ESTADO/MUNICIPIO: 0\n",
      "TIPO: 0\n",
      "QUANTIDADE: 0\n",
      "VALOR: 0\n",
      "DESTINATARIO: 0\n",
      "UF: 0\n",
      "DATA DE ENTREGA: 0\n"
     ]
    }
   ],
   "source": [
    "list_columns = df_respiradores.columns\n",
    "\n",
    "for i in list_columns:\n",
    "    print(f\"{i}: {df_respiradores.filter(df_respiradores[i].isNull()).count()}\")"
   ]
  },
  {
   "cell_type": "code",
   "execution_count": 8,
   "id": "8fb88445",
   "metadata": {},
   "outputs": [
    {
     "name": "stdout",
     "output_type": "stream",
     "text": [
      "+------------------+\n",
      "|           DESTINO|\n",
      "+------------------+\n",
      "|              ACRE|\n",
      "|           ALAGOAS|\n",
      "|             AMAPA|\n",
      "|          AMAZONAS|\n",
      "|             BAHIA|\n",
      "|             CEARA|\n",
      "|  DISTRITO FEDERAL|\n",
      "|   ESPIRITO SANTO |\n",
      "|             GOIAS|\n",
      "|            HAITI |\n",
      "|            LIBANO|\n",
      "|          MARANHÃO|\n",
      "|      MATO GROSSO |\n",
      "|MATO GROSSO DO SUL|\n",
      "|      MINAS GERAIS|\n",
      "|              PARA|\n",
      "|           PARAIBA|\n",
      "|            PARANA|\n",
      "|        PERNAMBUCO|\n",
      "|              PERU|\n",
      "+------------------+\n",
      "only showing top 20 rows\n",
      "\n"
     ]
    },
    {
     "data": {
      "text/plain": [
       "30"
      ]
     },
     "execution_count": 8,
     "metadata": {},
     "output_type": "execute_result"
    }
   ],
   "source": [
    "df_respiradores.select('DESTINO').distinct().orderBy('DESTINO').show()\n",
    "df_respiradores.select('DESTINO').distinct().orderBy('DESTINO').count()"
   ]
  },
  {
   "cell_type": "code",
   "execution_count": 9,
   "id": "fc4aebd8",
   "metadata": {},
   "outputs": [
    {
     "name": "stdout",
     "output_type": "stream",
     "text": [
      "+---+\n",
      "| UF|\n",
      "+---+\n",
      "|  -|\n",
      "| AC|\n",
      "|AC |\n",
      "| AL|\n",
      "|AL |\n",
      "| AM|\n",
      "| AP|\n",
      "| BA|\n",
      "| CE|\n",
      "| DF|\n",
      "| ES|\n",
      "| GO|\n",
      "| MA|\n",
      "| MG|\n",
      "| MS|\n",
      "| MT|\n",
      "| PA|\n",
      "| PB|\n",
      "| PE|\n",
      "| PI|\n",
      "+---+\n",
      "only showing top 20 rows\n",
      "\n"
     ]
    }
   ],
   "source": [
    "df_respiradores.select('UF').distinct().orderBy('UF').show()"
   ]
  },
  {
   "cell_type": "code",
   "execution_count": 10,
   "id": "62732b3a",
   "metadata": {},
   "outputs": [
    {
     "name": "stdout",
     "output_type": "stream",
     "text": [
      "+----------+----------+-------+----------------+----------+----------+----------------+--------------------+---+---------------+\n",
      "|      DATA|FORNECEDOR|DESTINO|ESTADO/MUNICIPIO|      TIPO|QUANTIDADE|           VALOR|        DESTINATARIO| UF|DATA DE ENTREGA|\n",
      "+----------+----------+-------+----------------+----------+----------+----------------+--------------------+---+---------------+\n",
      "|07/08/2020|  MAGNAMED| LIBANO|               -|TRANSPORTE|       300|R$ 14.487.000,00|MISSÃO FAB (Doaçã...|  -|     08/08/2020|\n",
      "|29/12/2020|  MAGNAMED|   PERU|               -|       UTI|       100| R$ 6.000.000,00|Cooperação Humani...|  -|     28/12/2020|\n",
      "|29/12/2020|       KTK|   PERU|               -|TRANSPORTE|       230| R$ 4.600.000,00|Cooperação Humani...|  -|     28/12/2020|\n",
      "|08/01/2021|       KTK| HAITI |               -|TRANSPORTE|        50| R$ 1.000.000,00|Cooperação Humani...|  -|     12/01/2021|\n",
      "|08/01/2021|  MAGNAMED| HAITI |               -|       UTI|        50| R$ 3.000.000,00|Cooperação Humani...|  -|     12/01/2021|\n",
      "+----------+----------+-------+----------------+----------+----------+----------------+--------------------+---+---------------+\n",
      "\n"
     ]
    }
   ],
   "source": [
    "df_respiradores.filter(df_respiradores.UF.contains('-')).show()"
   ]
  },
  {
   "cell_type": "code",
   "execution_count": 11,
   "id": "719fa750",
   "metadata": {},
   "outputs": [
    {
     "name": "stdout",
     "output_type": "stream",
     "text": [
      "+--------------+\n",
      "|          TIPO|\n",
      "+--------------+\n",
      "|           UTI|\n",
      "|TRANSPORTE USA|\n",
      "|Transporte USA|\n",
      "|    TRANSPORTE|\n",
      "+--------------+\n",
      "\n"
     ]
    }
   ],
   "source": [
    "df_respiradores.select('TIPO').distinct().show()"
   ]
  },
  {
   "cell_type": "code",
   "execution_count": 12,
   "id": "9668b885",
   "metadata": {},
   "outputs": [
    {
     "name": "stdout",
     "output_type": "stream",
     "text": [
      "+----------------+\n",
      "|ESTADO/MUNICIPIO|\n",
      "+----------------+\n",
      "|       MUNICIPIO|\n",
      "|         ESTADO |\n",
      "|          ESTADO|\n",
      "|               -|\n",
      "+----------------+\n",
      "\n"
     ]
    }
   ],
   "source": [
    "df_respiradores.select('ESTADO/MUNICIPIO').distinct().show()"
   ]
  },
  {
   "cell_type": "code",
   "execution_count": 13,
   "id": "477791e8",
   "metadata": {},
   "outputs": [
    {
     "name": "stdout",
     "output_type": "stream",
     "text": [
      "+--------------------+\n",
      "|          FORNECEDOR|\n",
      "+--------------------+\n",
      "|            LIFEMED |\n",
      "|                 UTI|\n",
      "|     LEISTUNG/VYAIRE|\n",
      "|            MAGNAMED|\n",
      "| MAGNAMED/REQUISIÇÃO|\n",
      "|             VYAIRE |\n",
      "|            INSPIRAR|\n",
      "|            LEISTUNG|\n",
      "|             LIFEMED|\n",
      "|       RUSSER BRASIL|\n",
      "|            HORTRON |\n",
      "| VYAIRE LTV 1200 USA|\n",
      "|           INSPIRAR |\n",
      "|SUZANO/Zhongxun M...|\n",
      "|           LEISTUNG |\n",
      "|             HORTRON|\n",
      "|              VYAIRE|\n",
      "|              RUSSER|\n",
      "|            ALLIAGE |\n",
      "|                 KTK|\n",
      "+--------------------+\n",
      "only showing top 20 rows\n",
      "\n"
     ]
    }
   ],
   "source": [
    "df_respiradores.select('FORNECEDOR').distinct().show()"
   ]
  },
  {
   "cell_type": "markdown",
   "id": "95e9531e",
   "metadata": {},
   "source": [
    "---"
   ]
  },
  {
   "cell_type": "markdown",
   "id": "7ad95fe7",
   "metadata": {},
   "source": [
    "# Tratamentos"
   ]
  },
  {
   "cell_type": "code",
   "execution_count": 14,
   "id": "cf67922a",
   "metadata": {},
   "outputs": [
    {
     "name": "stdout",
     "output_type": "stream",
     "text": [
      "+----------+----------+-------+----------------+----------+----------+---------------+--------------------+---+---------------+\n",
      "|      DATA|FORNECEDOR|DESTINO|ESTADO/MUNICIPIO|      TIPO|QUANTIDADE|          VALOR|        DESTINATARIO| UF|DATA DE ENTREGA|\n",
      "+----------+----------+-------+----------------+----------+----------+---------------+--------------------+---+---------------+\n",
      "|21/05/2020|    VYAIRE|   ACRE|          ESTADO|       UTI|        20|R$ 1.200.000,00|Secretaria Estadu...| AC|     23/05/2020|\n",
      "|21/05/2020|  MAGNAMED|   ACRE|          ESTADO|TRANSPORTE|        10|  R$ 482.900,00|Secretaria Estadu...| AC|     23/05/2020|\n",
      "|05/06/2020|  LEISTUNG|   ACRE|          ESTADO|       UTI|        30|R$ 1.800.000,00|Secretaria Estadu...| AC|     08/06/2020|\n",
      "|16/06/2020|    VYAIRE|   ACRE|       MUNICIPIO|       UTI|         5|  R$ 300.000,00|Secretaria Munici...| AC|     24/06/2020|\n",
      "|16/06/2020|  MAGNAMED|   ACRE|       MUNICIPIO|TRANSPORTE|         5|  R$ 241.450,00|Secretaria Munici...| AC|     24/06/2020|\n",
      "+----------+----------+-------+----------------+----------+----------+---------------+--------------------+---+---------------+\n",
      "only showing top 5 rows\n",
      "\n"
     ]
    }
   ],
   "source": [
    "df_respiradores.show(5)"
   ]
  },
  {
   "cell_type": "code",
   "execution_count": 15,
   "id": "a5ac05ad",
   "metadata": {},
   "outputs": [],
   "source": [
    "df_respiradores = df_respiradores.withColumn('UF', trim(df_respiradores.UF))\n",
    "df_respiradores = df_respiradores.withColumn('DESTINO', trim(initcap(df_respiradores.DESTINO)))\n",
    "df_respiradores = df_respiradores.withColumn('DESTINATARIO', trim(upper(df_respiradores.DESTINATARIO)))\n",
    "df_respiradores = df_respiradores.withColumn('ESTADO/MUNICIPIO', trim(df_respiradores['ESTADO/MUNICIPIO']))\n",
    "df_respiradores = df_respiradores.withColumn('TIPO', upper(df_respiradores.TIPO))\n",
    "\n",
    "df_respiradores = df_respiradores.withColumnRenamed('VALOR', 'valor_(r$)')\n",
    "df_respiradores = df_respiradores.withColumn('valor_(r$)', translate(df_respiradores['valor_(r$)'], \"R$., \", \"\"))\n",
    "df_respiradores = df_respiradores.withColumn(\"valor_(r$)\", round(df_respiradores[\"valor_(r$)\"].cast(types.FloatType()), 2))"
   ]
  },
  {
   "cell_type": "code",
   "execution_count": 16,
   "id": "982d807d",
   "metadata": {},
   "outputs": [
    {
     "name": "stdout",
     "output_type": "stream",
     "text": [
      "+----------+----------+-------+----------------+----------+----------+----------+--------------------+---+---------------+\n",
      "|      DATA|FORNECEDOR|DESTINO|ESTADO/MUNICIPIO|      TIPO|QUANTIDADE|valor_(r$)|        DESTINATARIO| UF|DATA DE ENTREGA|\n",
      "+----------+----------+-------+----------------+----------+----------+----------+--------------------+---+---------------+\n",
      "|21/05/2020|    VYAIRE|   Acre|          ESTADO|       UTI|        20|     1.2E8|SECRETARIA ESTADU...| AC|     23/05/2020|\n",
      "|21/05/2020|  MAGNAMED|   Acre|          ESTADO|TRANSPORTE|        10|   4.829E7|SECRETARIA ESTADU...| AC|     23/05/2020|\n",
      "|05/06/2020|  LEISTUNG|   Acre|          ESTADO|       UTI|        30|     1.8E8|SECRETARIA ESTADU...| AC|     08/06/2020|\n",
      "|16/06/2020|    VYAIRE|   Acre|       MUNICIPIO|       UTI|         5|     3.0E7|SECRETARIA MUNICI...| AC|     24/06/2020|\n",
      "|16/06/2020|  MAGNAMED|   Acre|       MUNICIPIO|TRANSPORTE|         5|  2.4145E7|SECRETARIA MUNICI...| AC|     24/06/2020|\n",
      "+----------+----------+-------+----------------+----------+----------+----------+--------------------+---+---------------+\n",
      "only showing top 5 rows\n",
      "\n"
     ]
    }
   ],
   "source": [
    "df_respiradores.show(5)"
   ]
  },
  {
   "cell_type": "markdown",
   "id": "0c723a25",
   "metadata": {},
   "source": [
    "### Datas"
   ]
  },
  {
   "cell_type": "code",
   "execution_count": 17,
   "id": "8423c71e",
   "metadata": {},
   "outputs": [],
   "source": [
    "df_respiradores = df_respiradores.withColumn('DATA DE ENTREGA',\n",
    "                                             regexp_replace(df_respiradores['DATA DE ENTREGA'], \"21/04/20201\", \"21/04/2021\"))\n",
    "\n",
    "df_respiradores = df_respiradores.withColumn('DATA DE ENTREGA',\n",
    "                                             regexp_replace(df_respiradores['DATA DE ENTREGA'], \"31/04/2020\", \"01/05/2020\"))\n",
    "\n",
    "df_respiradores = df_respiradores.withColumn('DATA DE ENTREGA',\n",
    "                                             regexp_replace(df_respiradores['DATA DE ENTREGA'], \"29/02/2021\", \"01/03/2021\"))\n",
    "\n",
    "df_respiradores = df_respiradores.withColumn('DATA DE ENTREGA',\n",
    "                                             regexp_replace(df_respiradores['DATA DE ENTREGA'], \"30/10//2020\", \"30/10/2020\"))\n",
    "\n",
    "df_respiradores = df_respiradores.withColumn('DATA', regexp_replace(df_respiradores['DATA'], \" 00:00\", \"\"))\n",
    "\n",
    "df_respiradores = df_respiradores.withColumn('DATA DE ENTREGA',\n",
    "                                             regexp_replace(df_respiradores['DATA DE ENTREGA'], \"-1\", \"- 1\"))\n",
    "\n",
    "df_respiradores = df_respiradores.withColumn('DATA DE ENTREGA',\n",
    "                                             regexp_replace(df_respiradores['DATA DE ENTREGA'], \" - \", \" \"))"
   ]
  },
  {
   "cell_type": "code",
   "execution_count": 18,
   "id": "691dc493",
   "metadata": {},
   "outputs": [],
   "source": [
    "list_dates = list(df_respiradores.select('DATA DE ENTREGA').filter(~df_respiradores['DATA DE ENTREGA']\n",
    "                                                           .contains(':')).distinct().toPandas().values)\n",
    "\n",
    "df_respiradores = df_respiradores.withColumn('DATA', to_date(df_respiradores['DATA'], 'dd/MM/yyyy'))\n",
    "\n",
    "for i in range(0, len(list_dates)):\n",
    "    df_respiradores = df_respiradores.withColumn('DATA DE ENTREGA', \n",
    "                                                 regexp_replace(df_respiradores['DATA DE ENTREGA'], list_dates[i][0], f\"{list_dates[i][0]} 00:00\"))\n",
    "\n",
    "df_respiradores = df_respiradores.withColumn('DATA DE ENTREGA', regexp_replace(df_respiradores['DATA DE ENTREGA'], \"00:00 \", \"\"))\n",
    "df_respiradores = df_respiradores.withColumn('DATA DE ENTREGA', to_timestamp(df_respiradores['DATA DE ENTREGA'], 'd/M/y HH:mm'))"
   ]
  },
  {
   "cell_type": "code",
   "execution_count": 19,
   "id": "8b1c54f1",
   "metadata": {
    "scrolled": true
   },
   "outputs": [
    {
     "name": "stdout",
     "output_type": "stream",
     "text": [
      "+----------+--------------------+--------+----------------+----------+----------+------------+--------------------+---+-------------------+\n",
      "|      DATA|          FORNECEDOR| DESTINO|ESTADO/MUNICIPIO|      TIPO|QUANTIDADE|  valor_(r$)|        DESTINATARIO| UF|    DATA DE ENTREGA|\n",
      "+----------+--------------------+--------+----------------+----------+----------+------------+--------------------+---+-------------------+\n",
      "|2020-05-21|              VYAIRE|    Acre|          ESTADO|       UTI|        20|       1.2E8|SECRETARIA ESTADU...| AC|2020-05-23 00:00:00|\n",
      "|2020-05-21|            MAGNAMED|    Acre|          ESTADO|TRANSPORTE|        10|     4.829E7|SECRETARIA ESTADU...| AC|2020-05-23 00:00:00|\n",
      "|2020-06-05|            LEISTUNG|    Acre|          ESTADO|       UTI|        30|       1.8E8|SECRETARIA ESTADU...| AC|2020-06-08 00:00:00|\n",
      "|2020-06-16|              VYAIRE|    Acre|       MUNICIPIO|       UTI|         5|       3.0E7|SECRETARIA MUNICI...| AC|2020-06-24 00:00:00|\n",
      "|2020-06-16|            MAGNAMED|    Acre|       MUNICIPIO|TRANSPORTE|         5|    2.4145E7|SECRETARIA MUNICI...| AC|2020-06-24 00:00:00|\n",
      "|2020-06-26|            MAGNAMED|    Acre|       MUNICIPIO|TRANSPORTE|        10|     4.829E7|SECRETARIA MUNICI...| AC|2020-07-03 00:00:00|\n",
      "|2020-06-26|            MAGNAMED|    Acre|       MUNICIPIO|TRANSPORTE|        70|3.38030016E8|SECRETARIA MUNICI...| AC|2020-07-04 00:00:00|\n",
      "|2020-07-07|              VYAIRE|    Acre|       MUNICIPIO|       UTI|        10|       6.0E7|CRUZEIRO DO SUL -...| AC|2020-07-19 00:00:00|\n",
      "|2020-07-10|            MAGNAMED|    Acre|          ESTADO|TRANSPORTE|         5|    2.4145E7|RIO BRANCO - SECR...| AC|2020-07-21 00:00:00|\n",
      "|2020-07-10|              VYAIRE|    Acre|          ESTADO|       UTI|         5|       3.0E7|RIO BRANCO - SECR...| AC|2020-07-21 00:00:00|\n",
      "|2021-01-28|              VYAIRE|    Acre|          ESTADO|       UTI|        20|       1.2E8|            SES ACRE| AC|2021-01-29 00:00:00|\n",
      "|2021-02-18|                 KTK|    Acre|          ESTADO|TRANSPORTE|        20|       4.0E7|SECRETARIA ESTADU...| AC|2021-02-22 00:00:00|\n",
      "|2021-02-18|              VYAIRE|    Acre|          ESTADO|       UTI|        20|       1.2E8|SECRETARIA ESTADU...| AC|2021-02-22 00:00:00|\n",
      "|2020-05-22|                 KTK| Alagoas|          ESTADO|       UTI|        15|       9.0E7|SECRETARIA ESTADU...| AL|2020-05-24 00:00:00|\n",
      "|2020-05-22|            MAGNAMED| Alagoas|          ESTADO|TRANSPORTE|        15|    7.2435E7|SECRETARIA ESTADU...| AL|2020-05-24 00:00:00|\n",
      "|2020-06-04|              VYAIRE| Alagoas|          ESTADO|       UTI|        20|       1.2E8|SECRETARIA ESTADU...| AL|2020-06-06 00:00:00|\n",
      "|2020-06-04|            MAGNAMED| Alagoas|          ESTADO|TRANSPORTE|        17|    8.2093E7|SECRETARIA ESTADU...| AL|2020-06-06 00:00:00|\n",
      "|2020-06-04|            MAGNAMED| Alagoas|          ESTADO|TRANSPORTE|         3|    1.4487E7|SECRETARIA ESTADU...| AL|2020-06-06 00:00:00|\n",
      "|2020-06-16|            MAGNAMED| Alagoas|          ESTADO|TRANSPORTE|        50|    2.4145E8|SECRETARIA ESTADU...| AL|2020-06-18 00:00:00|\n",
      "|2020-06-26|              VYAIRE| Alagoas|       MUNICIPIO|       UTI|         1|   6000000.0|SECRETARIA MUNICI...| AL|2020-07-01 00:00:00|\n",
      "|2020-06-26|              VYAIRE| Alagoas|       MUNICIPIO|       UTI|         1|   6000000.0|SECRETARIA MUNICI...| AL|2020-06-30 00:00:00|\n",
      "|2020-06-26|              VYAIRE| Alagoas|       MUNICIPIO|       UTI|         1|   6000000.0|SECRETARIA MUNICI...| AL|2020-07-01 00:00:00|\n",
      "|2020-06-26|              VYAIRE| Alagoas|       MUNICIPIO|       UTI|         1|   6000000.0|SECRETARIA MUNICI...| AL|2020-06-30 00:00:00|\n",
      "|2020-06-26|              VYAIRE| Alagoas|       MUNICIPIO|       UTI|         1|   6000000.0|SECRETARIA MUNICI...| AL|2020-06-30 00:00:00|\n",
      "|2020-06-26|            MAGNAMED| Alagoas|       MUNICIPIO|TRANSPORTE|         5|    2.4145E7|SECRETARIA MUNICI...| AL|2020-07-01 00:00:00|\n",
      "|2020-06-26|              VYAIRE| Alagoas|       MUNICIPIO|       UTI|         5|       3.0E7|SECRETARIA MUNICI...| AL|2020-07-01 00:00:00|\n",
      "|2020-07-01|            MAGNAMED| Alagoas|          ESTADO|TRANSPORTE|        10|     4.829E7|SECRETARIA ESTADU...| AL|2020-07-03 00:00:00|\n",
      "|2020-07-01|              VYAIRE| Alagoas|          ESTADO|       UTI|        30|       1.8E8|SECRETARIA ESTADU...| AL|2020-07-03 00:00:00|\n",
      "|2020-07-04|              VYAIRE| Alagoas|          ESTADO|       UTI|        10|       6.0E7|SECRETARIA ESTADU...| AL|2020-07-06 00:00:00|\n",
      "|2020-07-17|              VYAIRE| Alagoas|          ESTADO|       UTI|         7|       4.2E7|MACEIÓ - SECRETAR...| AL|2020-07-31 00:00:00|\n",
      "|2020-07-17|                 KTK| Alagoas|          ESTADO|TRANSPORTE|        13|       2.6E7|MACEIÓ - SECRETAR...| AL|2020-07-31 00:00:00|\n",
      "|2020-07-17|              VYAIRE| Alagoas|       MUNICIPIO|       UTI|         7|       4.2E7|ARAPIRACA - SECRE...| AL|2020-07-31 00:00:00|\n",
      "|2020-07-17|                 KTK| Alagoas|       MUNICIPIO|TRANSPORTE|         8|       1.6E7|ARAPIRACA - SECRE...| AL|2020-07-31 00:00:00|\n",
      "|2020-07-24|                 KTK| Alagoas|       MUNICIPIO|TRANSPORTE|         2|   4000000.0|PALMEIRA DOS INDI...| AL|2020-08-07 00:00:00|\n",
      "|2020-08-14|            MAGNAMED| Alagoas|       MUNICIPIO|TRANSPORTE|         2|   9658000.0|SMS DE  SAO JOSE ...| AL|2020-08-18 00:00:00|\n",
      "|2020-08-21|            MAGNAMED| Alagoas|       MUNICIPIO|TRANSPORTE|         1|   4829000.0|SECR MUN DE SAUDE...| AL|2020-08-26 00:00:00|\n",
      "|2020-10-02|                 KTK| Alagoas|       MUNICIPIO|TRANSPORTE|         3|   6000000.0|SECR MUN DE SAUDE...| AL|2020-10-05 00:00:00|\n",
      "|2020-10-02|                 KTK| Alagoas|       MUNICIPIO|TRANSPORTE|         8|       1.6E7|SECR MUN DE SAUDE...| AL|2020-10-05 00:00:00|\n",
      "|2020-12-23|              VYAIRE| Alagoas|       MUNICIPIO|       UTI|         1|   6000000.0|SANTA CASA DE MIS...| AL|2020-12-28 00:00:00|\n",
      "|2021-01-08|              VYAIRE| Alagoas|          ESTADO|       UTI|        50|       3.0E8|SECRETARIA ESTADU...| AL|2021-01-11 00:00:00|\n",
      "|2021-03-11|            LIFEMED | Alagoas|          ESTADO|       UTI|        40|       2.4E8|SECRETARIA ESTADU...| AL|2021-03-12 00:00:00|\n",
      "|2020-04-11| MAGNAMED-REQUISIÇÃO|   Amapa|          ESTADO|       UTI|        10|       6.0E7|MATERNIDADE ZONA ...| AP|2020-04-11 00:00:00|\n",
      "|2020-04-18|            MAGNAMED|   Amapa|          ESTADO|TRANSPORTE|        10|     4.829E7|SECRETARIA ESTADU...| AP|2020-04-19 00:00:00|\n",
      "|2020-04-18|              VYAIRE|   Amapa|          ESTADO|       UTI|         5|       3.0E7|SECRETARIA ESTADU...| AP|2020-04-19 00:00:00|\n",
      "|2020-04-21|L C DADDE COM AT ...|   Amapa|          ESTADO|       UTI|        20|      2.19E8|SECRETARIA ESTADU...| AP|2020-04-23 00:00:00|\n",
      "|2020-05-01|            LEISTUNG|   Amapa|          ESTADO|TRANSPORTE|         2|   3700000.0|SECRETARIA ESTADU...| AP|2020-05-02 00:00:00|\n",
      "|2020-05-01|            LEISTUNG|   Amapa|          ESTADO|       UTI|        14|       8.4E7|SECRETARIA ESTADU...| AP|2020-05-02 00:00:00|\n",
      "|2020-05-01|            MAGNAMED|   Amapa|          ESTADO|TRANSPORTE|         4|    1.9316E7|SECRETARIA ESTADU...| AP|2020-05-02 00:00:00|\n",
      "|2020-05-24|              VYAIRE|   Amapa|          ESTADO|       UTI|        30|       1.8E8|SECRETARIA ESTADU...| AP|2020-05-24 00:00:00|\n",
      "|2020-05-28|              VYAIRE|   Amapa|          ESTADO|       UTI|        10|       6.0E7|SECRETARIA ESTADU...| AP|2020-05-29 00:00:00|\n",
      "|2020-06-09|              VYAIRE|   Amapa|          ESTADO|       UTI|        10|       6.0E7|SECRETARIA ESTADU...| AP|2020-06-12 00:00:00|\n",
      "|2020-06-09|            MAGNAMED|   Amapa|          ESTADO|TRANSPORTE|        10|     4.829E7|SECRETARIA ESTADU...| AP|2020-06-12 00:00:00|\n",
      "|2021-01-28|              VYAIRE|   Amapa|          ESTADO|       UTI|         8|       4.8E7|PMM U B S DR LELI...| AP|2021-02-03 00:00:00|\n",
      "|2021-02-18|                 KTK|   Amapa|          ESTADO|TRANSPORTE|         4|   8000000.0|        CENTRAL SAMU| AP|2021-02-23 00:00:00|\n",
      "|2021-03-13|             LIFEMED|   Amapa|          ESTADO|       UTI|        36|      2.16E8|          SES MACAPÁ| AP|2021-03-16 00:00:00|\n",
      "|2020-04-10| MAGNAMED-REQUISIÇÃO|Amazonas|          ESTADO|       UTI|        10|       6.0E7|HOSPITAL PRONTO S...| AM|2020-04-11 00:00:00|\n",
      "|2020-04-10| MAGNAMED-REQUISIÇÃO|Amazonas|          ESTADO|TRANSPORTE|        10|     4.829E7|HOSPITAL PRONTO S...| AM|2020-04-23 00:00:00|\n",
      "|2020-04-18|            MAGNAMED|Amazonas|          ESTADO|TRANSPORTE|        15|    7.2435E7|SECRETARIA ESTADU...| AM|2020-04-20 00:00:00|\n",
      "|2020-04-22|SUZANO/Zhongxun M...|Amazonas|          ESTADO|       UTI|        10|1.70081648E8|SECRETARIA ESTADU...| AM|2020-04-23 00:00:00|\n",
      "|2020-04-22|       SUZANO/Resmed|Amazonas|          ESTADO|       UTI|        10|  9.127084E7|SECRETARIA ESTADU...| AM|2020-04-23 00:00:00|\n",
      "|2020-04-29|              VYAIRE|Amazonas|          ESTADO|       UTI|        25|       1.5E8|SECRETARIA ESTADU...| AM|2020-04-30 00:00:00|\n",
      "|2020-04-29|            MAGNAMED|Amazonas|          ESTADO|TRANSPORTE|        10|     4.829E7|SECRETARIA ESTADU...| AM|2020-04-30 00:00:00|\n",
      "|2020-05-15|            MAGNAMED|Amazonas|       MUNICIPIO|TRANSPORTE|        10|     4.829E7|SECRETARIA MUNICI...| AM|2020-05-16 00:00:00|\n",
      "|2020-05-15|            MAGNAMED|Amazonas|       MUNICIPIO|TRANSPORTE|         8|    3.8632E7|SECRETARIA MUNICI...| AM|2020-05-16 00:00:00|\n",
      "|2020-05-16|                 KTK|Amazonas|       MUNICIPIO|       UTI|        20|       1.2E8|SECRETARIA MUNICI...| AM|2020-06-17 00:00:00|\n",
      "|2020-05-16|            MAGNAMED|Amazonas|       MUNICIPIO|TRANSPORTE|        10|     4.829E7|SECRETARIA MUNICI...| AM|2020-06-17 00:00:00|\n",
      "|2020-05-20|              VYAIRE|Amazonas|          ESTADO|       UTI|        15|       9.0E7|SECRETARIA ESTADU...| AM|2020-05-21 00:00:00|\n",
      "|2020-05-20|            MAGNAMED|Amazonas|          ESTADO|TRANSPORTE|         5|    2.4145E7|SECRETARIA ESTADU...| AM|2020-05-21 00:00:00|\n",
      "|2020-05-21|              VYAIRE|Amazonas|          ESTADO|       UTI|        14|       8.4E7|SECRETARIA ESTADU...| AM|2020-05-23 00:00:00|\n",
      "|2020-05-21|              VYAIRE|Amazonas|          ESTADO|       UTI|         1|   6000000.0|SECRETARIA ESTADU...| AM|2020-05-23 00:00:00|\n",
      "|2020-05-21|            MAGNAMED|Amazonas|          ESTADO|TRANSPORTE|         5|    2.4145E7|SECRETARIA ESTADU...| AM|2020-05-23 00:00:00|\n",
      "|2020-06-10|            MAGNAMED|Amazonas|          ESTADO|TRANSPORTE|        16|    7.7264E7|FAB MANAUS - AMAZ...| AM|2020-06-12 00:00:00|\n",
      "|2020-06-26|            MAGNAMED|Amazonas|       MUNICIPIO|TRANSPORTE|         5|    2.4145E7|SECRETARIA MUNICI...| AM|2020-07-02 00:00:00|\n",
      "|2020-06-26|              VYAIRE|Amazonas|       MUNICIPIO|       UTI|         5|       3.0E7|SECRETARIA MUNICI...| AM|2020-07-02 00:00:00|\n",
      "|2020-06-26|                 KTK|Amazonas|       MUNICIPIO|TRANSPORTE|        18|       3.6E7|SECRETARIA MUNICI...| AM|2020-07-01 00:00:00|\n",
      "|2020-10-08|                 KTK|Amazonas|          ESTADO|TRANSPORTE|        20|       4.0E7|12O BATALHAO DE S...| AM|2020-10-15 00:00:00|\n",
      "|2020-10-23|            MAGNAMED|Amazonas|          ESTADO|       UTI|        30|       1.8E8|        SES AMAZONAS| AM|2020-10-25 00:00:00|\n",
      "|2020-10-29|            MAGNAMED|Amazonas|          ESTADO|       UTI|        30|       1.8E8|        SES AMAZONAS| AM|2020-11-04 00:00:00|\n",
      "|2020-12-23|              VYAIRE|Amazonas|          ESTADO|       UTI|        10|       6.0E7|FUNDAÇÃO DE MEDIC...| AM|2020-12-24 00:00:00|\n",
      "|2020-12-23|              VYAIRE|Amazonas|          ESTADO|       UTI|         5|       3.0E7|HOSPITAL E PRONTO...| AM|2020-12-24 00:00:00|\n",
      "|2020-12-23|              VYAIRE|Amazonas|          ESTADO|       UTI|         5|       3.0E7|FUNDACAO HOSPITAL...| AM|2020-12-24 00:00:00|\n",
      "|2020-12-23|              VYAIRE|Amazonas|          ESTADO|       UTI|         5|       3.0E7|HOSPITAL PRONTO S...| AM|2020-12-24 00:00:00|\n",
      "|2020-12-23|              VYAIRE|Amazonas|          ESTADO|       UTI|        10|       6.0E7|HOSPITAL UNIVERSI...| AM|2020-12-24 00:00:00|\n",
      "|2020-12-23|              VYAIRE|Amazonas|          ESTADO|       UTI|         5|       3.0E7|INSTITUTO DE SAUD...| AM|2020-12-24 00:00:00|\n",
      "|2020-12-28|              VYAIRE|Amazonas|          ESTADO|       UTI|        50|       3.0E8|SECRETARIA ESTADU...| AM|2020-12-30 00:00:00|\n",
      "|2021-01-05|              VYAIRE|Amazonas|          ESTADO|       UTI|        40|       2.4E8|SECRETARIA ESTADU...| AM|2021-01-06 00:00:00|\n",
      "|2021-01-05|              VYAIRE|Amazonas|          ESTADO|       UTI|        38|      2.28E8|SECRETARIA ESTADU...| AM|2021-01-06 00:00:00|\n",
      "|2021-01-12|                 KTK|Amazonas|          ESTADO|TRANSPORTE|        28|       5.6E7|SECRETARIA ESTADU...| AM|2021-01-13 00:00:00|\n",
      "|2021-01-12|            MAGNAMED|Amazonas|          ESTADO|TRANSPORTE|        12|    5.7948E7|SECRETARIA ESTADU...| AM|2021-01-13 00:00:00|\n",
      "|2021-01-18|                 KTK|Amazonas|          ESTADO|TRANSPORTE|        16|       3.2E7|SECRETARIA ESTADU...| AM|2021-01-19 00:00:00|\n",
      "|2021-01-25|                 KTK|Amazonas|          ESTADO|TRANSPORTE|        30|       6.0E7|SECRETARIA ESTADU...| AM|2021-01-27 18:00:00|\n",
      "|2021-01-25|              VYAIRE|Amazonas|          ESTADO|       UTI|        40|       2.4E8|SECRETARIA ESTADU...| AM|2021-01-27 18:00:00|\n",
      "+----------+--------------------+--------+----------------+----------+----------+------------+--------------------+---+-------------------+\n",
      "only showing top 92 rows\n",
      "\n"
     ]
    }
   ],
   "source": [
    "df_respiradores.show(92)"
   ]
  },
  {
   "cell_type": "code",
   "execution_count": 20,
   "id": "1aa0894d",
   "metadata": {},
   "outputs": [
    {
     "name": "stdout",
     "output_type": "stream",
     "text": [
      "root\n",
      " |-- DATA: date (nullable = true)\n",
      " |-- FORNECEDOR: string (nullable = true)\n",
      " |-- DESTINO: string (nullable = true)\n",
      " |-- ESTADO/MUNICIPIO: string (nullable = true)\n",
      " |-- TIPO: string (nullable = true)\n",
      " |-- QUANTIDADE: integer (nullable = true)\n",
      " |-- valor_(r$): float (nullable = true)\n",
      " |-- DESTINATARIO: string (nullable = true)\n",
      " |-- UF: string (nullable = true)\n",
      " |-- DATA DE ENTREGA: timestamp (nullable = true)\n",
      "\n"
     ]
    }
   ],
   "source": [
    "df_respiradores.printSchema()"
   ]
  },
  {
   "cell_type": "markdown",
   "id": "e18ad174",
   "metadata": {},
   "source": [
    "---"
   ]
  },
  {
   "cell_type": "markdown",
   "id": "4dc68a69",
   "metadata": {},
   "source": [
    "## Salvar o tratamento"
   ]
  },
  {
   "cell_type": "code",
   "execution_count": 21,
   "id": "bfd5d8b9",
   "metadata": {},
   "outputs": [],
   "source": [
    "df_respiradores.coalesce(1).write.format(\"csv\")\\\n",
    "                                 .mode(\"overwrite\")\\\n",
    "                                 .save(\"../File/respiradores_tratado.csv\", header=\"true\")"
   ]
  },
  {
   "cell_type": "code",
   "execution_count": null,
   "id": "ccc72297",
   "metadata": {},
   "outputs": [],
   "source": []
  }
 ],
 "metadata": {
  "kernelspec": {
   "display_name": "Python 3",
   "language": "python",
   "name": "python3"
  },
  "language_info": {
   "codemirror_mode": {
    "name": "ipython",
    "version": 3
   },
   "file_extension": ".py",
   "mimetype": "text/x-python",
   "name": "python",
   "nbconvert_exporter": "python",
   "pygments_lexer": "ipython3",
   "version": "3.8.8"
  }
 },
 "nbformat": 4,
 "nbformat_minor": 5
}
