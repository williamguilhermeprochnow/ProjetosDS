{
 "cells": [
  {
   "cell_type": "code",
   "execution_count": 1,
   "id": "441591ab",
   "metadata": {},
   "outputs": [
    {
     "data": {
      "text/html": [
       "<style>pre { white-space: pre !important; }</style>"
      ],
      "text/plain": [
       "<IPython.core.display.HTML object>"
      ]
     },
     "metadata": {},
     "output_type": "display_data"
    }
   ],
   "source": [
    "import pyspark\n",
    "\n",
    "from pyspark.sql import SparkSession, types\n",
    "spark = SparkSession.builder.appName('tratamento').getOrCreate()\n",
    "\n",
    "# Habilita o scroll horizontal \n",
    "from IPython.core.display import HTML\n",
    "display(HTML(\"<style>pre { white-space: pre !important; }</style>\"));\n",
    "\n",
    "# Impede que arquivos de _SUCCESS e metadados sejam criados na hora de salvar\n",
    "spark.sparkContext._jsc.hadoopConfiguration().set(\"mapreduce.fileoutputcommitter.marksuccessfuljobs\", \"false\")\n",
    "spark.sparkContext._jsc.hadoopConfiguration().set(\"parquet.enable.summary-metadata\", \"false\")"
   ]
  },
  {
   "cell_type": "code",
   "execution_count": 2,
   "id": "ab72c8c3",
   "metadata": {},
   "outputs": [],
   "source": [
    "from pyspark.sql.functions import (trim, initcap, upper, regexp_replace, translate, to_date, to_timestamp, \n",
    "                                   format_number, round)"
   ]
  },
  {
   "cell_type": "code",
   "execution_count": 3,
   "id": "5e5d138b",
   "metadata": {},
   "outputs": [],
   "source": [
    "def spark_shape(self):\n",
    "    return (self.count(), len(self.columns))\n",
    "\n",
    "pyspark.sql.dataframe.DataFrame.shape = spark_shape"
   ]
  },
  {
   "cell_type": "code",
   "execution_count": 4,
   "id": "7e23a013",
   "metadata": {},
   "outputs": [
    {
     "name": "stdout",
     "output_type": "stream",
     "text": [
      "root\n",
      " |-- DATA: string (nullable = true)\n",
      " |-- FORNECEDOR: string (nullable = true)\n",
      " |-- DESTINO: string (nullable = true)\n",
      " |-- ESTADO/MUNICIPIO: string (nullable = true)\n",
      " |-- TIPO: string (nullable = true)\n",
      " |-- QUANTIDADE: integer (nullable = true)\n",
      " |-- VALOR: string (nullable = true)\n",
      " |-- DESTINATARIO: string (nullable = true)\n",
      " |-- UF: string (nullable = true)\n",
      " |-- DATA DE ENTREGA: string (nullable = true)\n",
      "\n"
     ]
    }
   ],
   "source": [
    "df_respiradores = spark.read.csv('../../../Projetos/Respiradores/Arquivos/distribuicao_respiradores.csv',\n",
    "                                 header=True, inferSchema=True, sep=';')\n",
    "df_respiradores.printSchema()"
   ]
  },
  {
   "cell_type": "code",
   "execution_count": 5,
   "id": "6089edc0",
   "metadata": {},
   "outputs": [
    {
     "data": {
      "text/plain": [
       "(2650, 10)"
      ]
     },
     "execution_count": 5,
     "metadata": {},
     "output_type": "execute_result"
    }
   ],
   "source": [
    "df_respiradores.shape()"
   ]
  },
  {
   "cell_type": "code",
   "execution_count": 6,
   "id": "d581763a",
   "metadata": {},
   "outputs": [
    {
     "name": "stdout",
     "output_type": "stream",
     "text": [
      "+----------+----------+-------+----------------+----------+----------+---------------+--------------------+---+---------------+\n",
      "|      DATA|FORNECEDOR|DESTINO|ESTADO/MUNICIPIO|      TIPO|QUANTIDADE|          VALOR|        DESTINATARIO| UF|DATA DE ENTREGA|\n",
      "+----------+----------+-------+----------------+----------+----------+---------------+--------------------+---+---------------+\n",
      "|21/05/2020|    VYAIRE|   ACRE|          ESTADO|       UTI|        20|R$ 1.200.000,00|Secretaria Estadu...| AC|     23/05/2020|\n",
      "|21/05/2020|  MAGNAMED|   ACRE|          ESTADO|TRANSPORTE|        10|  R$ 482.900,00|Secretaria Estadu...| AC|     23/05/2020|\n",
      "|05/06/2020|  LEISTUNG|   ACRE|          ESTADO|       UTI|        30|R$ 1.800.000,00|Secretaria Estadu...| AC|     08/06/2020|\n",
      "|16/06/2020|    VYAIRE|   ACRE|       MUNICIPIO|       UTI|         5|  R$ 300.000,00|Secretaria Munici...| AC|     24/06/2020|\n",
      "|16/06/2020|  MAGNAMED|   ACRE|       MUNICIPIO|TRANSPORTE|         5|  R$ 241.450,00|Secretaria Munici...| AC|     24/06/2020|\n",
      "|26/06/2020|  MAGNAMED|   ACRE|       MUNICIPIO|TRANSPORTE|        10|  R$ 482.900,00|Secretaria Munici...|AC |     03/07/2020|\n",
      "|26/06/2020|  MAGNAMED|   ACRE|       MUNICIPIO|TRANSPORTE|        70|R$ 3.380.300,00|Secretaria Munici...|AC |     04/07/2020|\n",
      "|07/07/2020|    VYAIRE|   ACRE|       MUNICIPIO|       UTI|        10|  R$ 600.000,00|Cruzeiro do Sul -...| AC|     19/07/2020|\n",
      "|10/07/2020|  MAGNAMED|   ACRE|          ESTADO|TRANSPORTE|         5|  R$ 241.450,00|RIO BRANCO - Secr...| AC|     21/07/2020|\n",
      "|10/07/2020|    VYAIRE|   ACRE|          ESTADO|       UTI|         5|  R$ 300.000,00|RIO BRANCO - Secr...| AC|     21/07/2020|\n",
      "|28/01/2021|    VYAIRE|   ACRE|          ESTADO|       UTI|        20|R$ 1.200.000,00|            SES ACRE| AC|     29/01/2021|\n",
      "|18/02/2021|       KTK|   ACRE|          ESTADO|TRANSPORTE|        20|  R$ 400.000,00|SECRETARIA ESTADU...| AC|     22/02/2021|\n",
      "|18/02/2021|    VYAIRE|   ACRE|          ESTADO|       UTI|        20|R$ 1.200.000,00|SECRETARIA ESTADU...| AC|     22/02/2021|\n",
      "|22/05/2020|       KTK|ALAGOAS|          ESTADO|       UTI|        15|  R$ 900.000,00|Secretaria Estadu...| AL|     24/05/2020|\n",
      "|22/05/2020|  MAGNAMED|ALAGOAS|          ESTADO|TRANSPORTE|        15|  R$ 724.350,00|Secretaria Estadu...| AL|     24/05/2020|\n",
      "|04/06/2020|    VYAIRE|ALAGOAS|          ESTADO|       UTI|        20|R$ 1.200.000,00|Secretaria Estadu...| AL|     06/06/2020|\n",
      "|04/06/2020|  MAGNAMED|ALAGOAS|          ESTADO|TRANSPORTE|        17|  R$ 820.930,00|Secretaria Estadu...| AL|     06/06/2020|\n",
      "|04/06/2020|  MAGNAMED|ALAGOAS|          ESTADO|TRANSPORTE|         3|  R$ 144.870,00|Secretaria Estadu...| AL|     06/06/2020|\n",
      "|16/06/2020|  MAGNAMED|ALAGOAS|          ESTADO|TRANSPORTE|        50|R$ 2.414.500,00|Secretaria Estadu...| AL|     18/06/2020|\n",
      "|26/06/2020|    VYAIRE|ALAGOAS|       MUNICIPIO|       UTI|         1|   R$ 60.000,00|Secretaria Munici...| AL|     01/07/2020|\n",
      "+----------+----------+-------+----------------+----------+----------+---------------+--------------------+---+---------------+\n",
      "only showing top 20 rows\n",
      "\n"
     ]
    }
   ],
   "source": [
    "df_respiradores.show()"
   ]
  },
  {
   "cell_type": "markdown",
   "id": "928d19b1",
   "metadata": {},
   "source": [
    "---"
   ]
  },
  {
   "cell_type": "markdown",
   "id": "c84df6ef",
   "metadata": {},
   "source": [
    "# Análise"
   ]
  },
  {
   "cell_type": "code",
   "execution_count": 7,
   "id": "320b5e66",
   "metadata": {},
   "outputs": [
    {
     "name": "stdout",
     "output_type": "stream",
     "text": [
      "DATA: 0\n",
      "FORNECEDOR: 0\n",
      "DESTINO: 0\n",
      "ESTADO/MUNICIPIO: 0\n",
      "TIPO: 0\n",
      "QUANTIDADE: 0\n",
      "VALOR: 0\n",
      "DESTINATARIO: 0\n",
      "UF: 0\n",
      "DATA DE ENTREGA: 0\n"
     ]
    }
   ],
   "source": [
    "list_columns = df_respiradores.columns\n",
    "\n",
    "for i in list_columns:\n",
    "    print(f\"{i}: {df_respiradores.filter(df_respiradores[i].isNull()).count()}\")"
   ]
  },
  {
   "cell_type": "code",
   "execution_count": 8,
   "id": "8fb88445",
   "metadata": {},
   "outputs": [
    {
     "name": "stdout",
     "output_type": "stream",
     "text": [
      "+------------------+\n",
      "|           DESTINO|\n",
      "+------------------+\n",
      "|              ACRE|\n",
      "|           ALAGOAS|\n",
      "|             AMAPA|\n",
      "|          AMAZONAS|\n",
      "|             BAHIA|\n",
      "|             CEARA|\n",
      "|  DISTRITO FEDERAL|\n",
      "|   ESPIRITO SANTO |\n",
      "|             GOIAS|\n",
      "|            HAITI |\n",
      "|            LIBANO|\n",
      "|          MARANHÃO|\n",
      "|      MATO GROSSO |\n",
      "|MATO GROSSO DO SUL|\n",
      "|      MINAS GERAIS|\n",
      "|              PARA|\n",
      "|           PARAIBA|\n",
      "|            PARANA|\n",
      "|        PERNAMBUCO|\n",
      "|              PERU|\n",
      "+------------------+\n",
      "only showing top 20 rows\n",
      "\n"
     ]
    },
    {
     "data": {
      "text/plain": [
       "30"
      ]
     },
     "execution_count": 8,
     "metadata": {},
     "output_type": "execute_result"
    }
   ],
   "source": [
    "df_respiradores.select('DESTINO').distinct().orderBy('DESTINO').show()\n",
    "df_respiradores.select('DESTINO').distinct().orderBy('DESTINO').count()"
   ]
  },
  {
   "cell_type": "code",
   "execution_count": 9,
   "id": "fc4aebd8",
   "metadata": {},
   "outputs": [
    {
     "name": "stdout",
     "output_type": "stream",
     "text": [
      "+---+\n",
      "| UF|\n",
      "+---+\n",
      "|  -|\n",
      "| AC|\n",
      "|AC |\n",
      "| AL|\n",
      "|AL |\n",
      "| AM|\n",
      "| AP|\n",
      "| BA|\n",
      "| CE|\n",
      "| DF|\n",
      "| ES|\n",
      "| GO|\n",
      "| MA|\n",
      "| MG|\n",
      "| MS|\n",
      "| MT|\n",
      "| PA|\n",
      "| PB|\n",
      "| PE|\n",
      "| PI|\n",
      "+---+\n",
      "only showing top 20 rows\n",
      "\n"
     ]
    }
   ],
   "source": [
    "df_respiradores.select('UF').distinct().orderBy('UF').show()"
   ]
  },
  {
   "cell_type": "code",
   "execution_count": 10,
   "id": "62732b3a",
   "metadata": {},
   "outputs": [
    {
     "name": "stdout",
     "output_type": "stream",
     "text": [
      "+----------+----------+-------+----------------+----------+----------+----------------+--------------------+---+---------------+\n",
      "|      DATA|FORNECEDOR|DESTINO|ESTADO/MUNICIPIO|      TIPO|QUANTIDADE|           VALOR|        DESTINATARIO| UF|DATA DE ENTREGA|\n",
      "+----------+----------+-------+----------------+----------+----------+----------------+--------------------+---+---------------+\n",
      "|07/08/2020|  MAGNAMED| LIBANO|               -|TRANSPORTE|       300|R$ 14.487.000,00|MISSÃO FAB (Doaçã...|  -|     08/08/2020|\n",
      "|29/12/2020|  MAGNAMED|   PERU|               -|       UTI|       100| R$ 6.000.000,00|Cooperação Humani...|  -|     28/12/2020|\n",
      "|29/12/2020|       KTK|   PERU|               -|TRANSPORTE|       230| R$ 4.600.000,00|Cooperação Humani...|  -|     28/12/2020|\n",
      "|08/01/2021|       KTK| HAITI |               -|TRANSPORTE|        50| R$ 1.000.000,00|Cooperação Humani...|  -|     12/01/2021|\n",
      "|08/01/2021|  MAGNAMED| HAITI |               -|       UTI|        50| R$ 3.000.000,00|Cooperação Humani...|  -|     12/01/2021|\n",
      "+----------+----------+-------+----------------+----------+----------+----------------+--------------------+---+---------------+\n",
      "\n"
     ]
    }
   ],
   "source": [
    "df_respiradores.filter(df_respiradores.UF.contains('-')).show()"
   ]
  },
  {
   "cell_type": "code",
   "execution_count": 11,
   "id": "719fa750",
   "metadata": {},
   "outputs": [
    {
     "name": "stdout",
     "output_type": "stream",
     "text": [
      "+--------------+\n",
      "|          TIPO|\n",
      "+--------------+\n",
      "|           UTI|\n",
      "|TRANSPORTE USA|\n",
      "|Transporte USA|\n",
      "|    TRANSPORTE|\n",
      "+--------------+\n",
      "\n"
     ]
    }
   ],
   "source": [
    "df_respiradores.select('TIPO').distinct().show()"
   ]
  },
  {
   "cell_type": "code",
   "execution_count": 12,
   "id": "9668b885",
   "metadata": {},
   "outputs": [
    {
     "name": "stdout",
     "output_type": "stream",
     "text": [
      "+----------------+\n",
      "|ESTADO/MUNICIPIO|\n",
      "+----------------+\n",
      "|       MUNICIPIO|\n",
      "|         ESTADO |\n",
      "|          ESTADO|\n",
      "|               -|\n",
      "+----------------+\n",
      "\n"
     ]
    }
   ],
   "source": [
    "df_respiradores.select('ESTADO/MUNICIPIO').distinct().show()"
   ]
  },
  {
   "cell_type": "code",
   "execution_count": 13,
   "id": "477791e8",
   "metadata": {},
   "outputs": [
    {
     "name": "stdout",
     "output_type": "stream",
     "text": [
      "+--------------------+\n",
      "|          FORNECEDOR|\n",
      "+--------------------+\n",
      "|            LIFEMED |\n",
      "|                 UTI|\n",
      "|     LEISTUNG/VYAIRE|\n",
      "|            MAGNAMED|\n",
      "| MAGNAMED/REQUISIÇÃO|\n",
      "|             VYAIRE |\n",
      "|            INSPIRAR|\n",
      "|            LEISTUNG|\n",
      "|             LIFEMED|\n",
      "|       RUSSER BRASIL|\n",
      "|            HORTRON |\n",
      "| VYAIRE LTV 1200 USA|\n",
      "|           INSPIRAR |\n",
      "|SUZANO/Zhongxun M...|\n",
      "|           LEISTUNG |\n",
      "|             HORTRON|\n",
      "|              VYAIRE|\n",
      "|              RUSSER|\n",
      "|            ALLIAGE |\n",
      "|                 KTK|\n",
      "+--------------------+\n",
      "only showing top 20 rows\n",
      "\n"
     ]
    }
   ],
   "source": [
    "df_respiradores.select('FORNECEDOR').distinct().show()"
   ]
  },
  {
   "cell_type": "markdown",
   "id": "95e9531e",
   "metadata": {},
   "source": [
    "---"
   ]
  },
  {
   "cell_type": "markdown",
   "id": "7ad95fe7",
   "metadata": {},
   "source": [
    "# Tratamentos"
   ]
  },
  {
   "cell_type": "code",
   "execution_count": 14,
   "id": "cf67922a",
   "metadata": {},
   "outputs": [
    {
     "name": "stdout",
     "output_type": "stream",
     "text": [
      "+----------+----------+-------+----------------+----------+----------+---------------+--------------------+---+---------------+\n",
      "|      DATA|FORNECEDOR|DESTINO|ESTADO/MUNICIPIO|      TIPO|QUANTIDADE|          VALOR|        DESTINATARIO| UF|DATA DE ENTREGA|\n",
      "+----------+----------+-------+----------------+----------+----------+---------------+--------------------+---+---------------+\n",
      "|21/05/2020|    VYAIRE|   ACRE|          ESTADO|       UTI|        20|R$ 1.200.000,00|Secretaria Estadu...| AC|     23/05/2020|\n",
      "|21/05/2020|  MAGNAMED|   ACRE|          ESTADO|TRANSPORTE|        10|  R$ 482.900,00|Secretaria Estadu...| AC|     23/05/2020|\n",
      "|05/06/2020|  LEISTUNG|   ACRE|          ESTADO|       UTI|        30|R$ 1.800.000,00|Secretaria Estadu...| AC|     08/06/2020|\n",
      "|16/06/2020|    VYAIRE|   ACRE|       MUNICIPIO|       UTI|         5|  R$ 300.000,00|Secretaria Munici...| AC|     24/06/2020|\n",
      "|16/06/2020|  MAGNAMED|   ACRE|       MUNICIPIO|TRANSPORTE|         5|  R$ 241.450,00|Secretaria Munici...| AC|     24/06/2020|\n",
      "+----------+----------+-------+----------------+----------+----------+---------------+--------------------+---+---------------+\n",
      "only showing top 5 rows\n",
      "\n"
     ]
    }
   ],
   "source": [
    "df_respiradores.show(5)"
   ]
  },
  {
   "cell_type": "code",
   "execution_count": 15,
   "id": "a5ac05ad",
   "metadata": {},
   "outputs": [],
   "source": [
    "df_respiradores = df_respiradores.withColumn('UF', trim(df_respiradores.UF))\n",
    "df_respiradores = df_respiradores.withColumn('DESTINO', trim(initcap(df_respiradores.DESTINO)))\n",
    "df_respiradores = df_respiradores.withColumn('DESTINATARIO', trim(upper(df_respiradores.DESTINATARIO)))\n",
    "df_respiradores = df_respiradores.withColumn('ESTADO/MUNICIPIO', trim(df_respiradores['ESTADO/MUNICIPIO']))\n",
    "df_respiradores = df_respiradores.withColumn('TIPO', upper(df_respiradores.TIPO))\n",
    "\n",
    "df_respiradores = df_respiradores.withColumnRenamed('VALOR', 'valor_(r$)')\n",
    "df_respiradores = df_respiradores.withColumn('valor_(r$)', translate(df_respiradores['valor_(r$)'], \"R$., \", \"\"))\n",
    "df_respiradores = df_respiradores.withColumn(\"valor_(r$)\", round(df_respiradores[\"valor_(r$)\"].cast(types.FloatType()), 2))"
   ]
  },
  {
   "cell_type": "code",
   "execution_count": 16,
   "id": "591320fc",
   "metadata": {},
   "outputs": [],
   "source": [
    "df_respiradores = df_respiradores.withColumn('DESTINATARIO', regexp_replace(df_respiradores['DESTINATARIO'], '\\\"', ''))\n",
    "df_respiradores = df_respiradores.withColumn('DESTINATARIO', regexp_replace(df_respiradores['DESTINATARIO'], 'PAULO ALEMAO', '\"PAULO ALEMAO\"'))\n",
    "df_respiradores = df_respiradores.withColumn('DESTINATARIO', regexp_replace(df_respiradores['DESTINATARIO'], 'ROOSEVELT FIGUEIREDO LIRA', '\"ROOSEVELT FIGUEIREDO LIRA\"'))\n",
    "\n",
    "df_respiradores = df_respiradores.withColumn('ESTADO/MUNICIPIO', regexp_replace(df_respiradores['ESTADO/MUNICIPIO'], \"-\", \"\"))\\\n",
    "                       .withColumn('UF', regexp_replace(df_respiradores['UF'], \"-\", \"\"))"
   ]
  },
  {
   "cell_type": "code",
   "execution_count": 17,
   "id": "982d807d",
   "metadata": {},
   "outputs": [
    {
     "name": "stdout",
     "output_type": "stream",
     "text": [
      "+----------+----------+-------+----------------+----------+----------+----------+--------------------+---+---------------+\n",
      "|      DATA|FORNECEDOR|DESTINO|ESTADO/MUNICIPIO|      TIPO|QUANTIDADE|valor_(r$)|        DESTINATARIO| UF|DATA DE ENTREGA|\n",
      "+----------+----------+-------+----------------+----------+----------+----------+--------------------+---+---------------+\n",
      "|21/05/2020|    VYAIRE|   Acre|          ESTADO|       UTI|        20|     1.2E8|SECRETARIA ESTADU...| AC|     23/05/2020|\n",
      "|21/05/2020|  MAGNAMED|   Acre|          ESTADO|TRANSPORTE|        10|   4.829E7|SECRETARIA ESTADU...| AC|     23/05/2020|\n",
      "|05/06/2020|  LEISTUNG|   Acre|          ESTADO|       UTI|        30|     1.8E8|SECRETARIA ESTADU...| AC|     08/06/2020|\n",
      "|16/06/2020|    VYAIRE|   Acre|       MUNICIPIO|       UTI|         5|     3.0E7|SECRETARIA MUNICI...| AC|     24/06/2020|\n",
      "|16/06/2020|  MAGNAMED|   Acre|       MUNICIPIO|TRANSPORTE|         5|  2.4145E7|SECRETARIA MUNICI...| AC|     24/06/2020|\n",
      "+----------+----------+-------+----------------+----------+----------+----------+--------------------+---+---------------+\n",
      "only showing top 5 rows\n",
      "\n"
     ]
    }
   ],
   "source": [
    "df_respiradores.show(5)"
   ]
  },
  {
   "cell_type": "markdown",
   "id": "0c723a25",
   "metadata": {},
   "source": [
    "### Datas"
   ]
  },
  {
   "cell_type": "code",
   "execution_count": 18,
   "id": "8423c71e",
   "metadata": {},
   "outputs": [],
   "source": [
    "df_respiradores = df_respiradores.withColumn('DATA DE ENTREGA',\n",
    "                                             regexp_replace(df_respiradores['DATA DE ENTREGA'], \"21/04/20201\", \"21/04/2021\"))\n",
    "\n",
    "df_respiradores = df_respiradores.withColumn('DATA DE ENTREGA',\n",
    "                                             regexp_replace(df_respiradores['DATA DE ENTREGA'], \"31/04/2020\", \"01/05/2020\"))\n",
    "\n",
    "df_respiradores = df_respiradores.withColumn('DATA DE ENTREGA',\n",
    "                                             regexp_replace(df_respiradores['DATA DE ENTREGA'], \"29/02/2021\", \"01/03/2021\"))\n",
    "\n",
    "df_respiradores = df_respiradores.withColumn('DATA DE ENTREGA',\n",
    "                                             regexp_replace(df_respiradores['DATA DE ENTREGA'], \"30/10//2020\", \"30/10/2020\"))\n",
    "\n",
    "df_respiradores = df_respiradores.withColumn('DATA', regexp_replace(df_respiradores['DATA'], \" 00:00\", \"\"))\n",
    "\n",
    "df_respiradores = df_respiradores.withColumn('DATA DE ENTREGA',\n",
    "                                             regexp_replace(df_respiradores['DATA DE ENTREGA'], \"-1\", \"- 1\"))\n",
    "\n",
    "df_respiradores = df_respiradores.withColumn('DATA DE ENTREGA',\n",
    "                                             regexp_replace(df_respiradores['DATA DE ENTREGA'], \" - \", \" \"))"
   ]
  },
  {
   "cell_type": "code",
   "execution_count": 19,
   "id": "691dc493",
   "metadata": {},
   "outputs": [],
   "source": [
    "list_dates = list(df_respiradores.select('DATA DE ENTREGA').filter(~df_respiradores['DATA DE ENTREGA']\n",
    "                                                           .contains(':')).distinct().toPandas().values)\n",
    "\n",
    "df_respiradores = df_respiradores.withColumn('DATA', to_date(df_respiradores['DATA'], 'dd/MM/yyyy'))\n",
    "\n",
    "for i in range(0, len(list_dates)):\n",
    "    df_respiradores = df_respiradores.withColumn('DATA DE ENTREGA', \n",
    "                                                 regexp_replace(df_respiradores['DATA DE ENTREGA'], list_dates[i][0], f\"{list_dates[i][0]} 00:00\"))\n",
    "\n",
    "df_respiradores = df_respiradores.withColumn('DATA DE ENTREGA', regexp_replace(df_respiradores['DATA DE ENTREGA'], \"00:00 \", \"\"))\n",
    "df_respiradores = df_respiradores.withColumn('DATA DE ENTREGA', to_timestamp(df_respiradores['DATA DE ENTREGA'], 'd/M/y HH:mm'))\n",
    "\n",
    "df_respiradores = df_respiradores.distinct()"
   ]
  },
  {
   "cell_type": "code",
   "execution_count": 20,
   "id": "8b1c54f1",
   "metadata": {
    "scrolled": true
   },
   "outputs": [
    {
     "name": "stdout",
     "output_type": "stream",
     "text": [
      "+----------+-------------------+------------------+----------------+--------------+----------+------------+--------------------+---+-------------------+\n",
      "|      DATA|         FORNECEDOR|           DESTINO|ESTADO/MUNICIPIO|          TIPO|QUANTIDADE|  valor_(r$)|        DESTINATARIO| UF|    DATA DE ENTREGA|\n",
      "+----------+-------------------+------------------+----------------+--------------+----------+------------+--------------------+---+-------------------+\n",
      "|2020-08-21|           MAGNAMED|    Espirito Santo|       MUNICIPIO|    TRANSPORTE|         1|   4829000.0| SMS DE SANTA TERESA| ES|2020-08-27 00:00:00|\n",
      "|2020-06-12|           MAGNAMED|             Goias|       MUNICIPIO|    TRANSPORTE|         2|   9658000.0|SECRETARIA MUNICI...| GO|2020-06-15 00:00:00|\n",
      "|2021-03-04|                KTK|             Goias|       MUNICIPIO|    TRANSPORTE|         6|       1.2E7|HOSPITAL MUNICIPA...| GO|2021-03-07 00:00:00|\n",
      "|2021-02-18|                KTK|          Maranhão|       MUNICIPIO|    TRANSPORTE|         1|   2000000.0|UNIDADE MISTA DRA...| MA|2021-02-23 00:00:00|\n",
      "|2020-07-10|           MAGNAMED|              Para|          ESTADO|    TRANSPORTE|         3|    1.4487E7|BELÉM - SECRETARI...| PA|2020-07-16 00:00:00|\n",
      "|2020-12-23|           MAGNAMED|        Pernambuco|       MUNICIPIO|    TRANSPORTE|         2|   9658000.0|HOSPITAL DO TRICE...| PE|2020-12-28 00:00:00|\n",
      "|2020-09-04|                KTK| Rio Grande Do Sul|       MUNICIPIO|    TRANSPORTE|         2|   4000000.0|SECR. MUN. DE SAU...| RS|2020-09-10 00:00:00|\n",
      "|2020-12-18|    VYAIRE/INTERMED| Rio Grande Do Sul|       MUNICIPIO|           UTI|         3|       1.8E7|HOSPITAL BOM PAST...| RS|2020-12-23 00:00:00|\n",
      "|2020-07-10|             VYAIRE|           Sergipe|          ESTADO|           UTI|        20|       1.2E8|ARACAJU  - SECRET...| SE|2020-07-20 00:00:00|\n",
      "|2020-06-26|           MAGNAMED|             Bahia|       MUNICIPIO|    TRANSPORTE|         1|   4829000.0|SECRETARIA MUNICI...| BA|2020-07-01 00:00:00|\n",
      "|2020-12-07|           LEISTUNG|             Bahia|       MUNICIPIO|           UTI|         1|   6000000.0|SMS DE SAO FELIX ...| BA|2020-12-09 00:00:00|\n",
      "|2021-03-04|                KTK|             Bahia|       MUNICIPIO|    TRANSPORTE|         3|   6000000.0|SMS DE CRUZ DAS A...| BA|2021-03-07 00:00:00|\n",
      "|2021-03-17|            LIFEMED|             Bahia|       MUNICIPIO|           UTI|         2|       1.2E7|SMS DE CONCEIÇÃO ...| BA|2021-03-19 00:00:00|\n",
      "|2020-07-24|           MAGNAMED|             Goias|       MUNICIPIO|           UTI|         3|       1.8E7|IDEALINA - SECRET...| GO|2020-08-03 00:00:00|\n",
      "|2020-08-14|             VYAIRE|             Goias|       MUNICIPIO|           UTI|         1|   6000000.0|SMS DE SANTA CRUZ...| GO|2020-08-20 00:00:00|\n",
      "|2020-07-31|                KTK|      Minas Gerais|       MUNICIPIO|    TRANSPORTE|         2|   4000000.0| SMS DE  BOM SUCESSO| MG|2020-08-07 00:00:00|\n",
      "|2021-02-18|VYAIRE LTV 2200 USA|      Minas Gerais|       MUNICIPIO|TRANSPORTE USA|         5| 3.1562984E7|HOSPITAL DE CLINI...| MG|2021-02-20 00:00:00|\n",
      "|2021-04-08|            LIFEMED|      Minas Gerais|       MUNICIPIO|           UTI|         5|       3.0E7|           UPA ARAXA| MG|2021-04-10 00:00:00|\n",
      "|2020-09-21|                KTK|              Para|       MUNICIPIO|    TRANSPORTE|         1|   2000000.0|  SMS DE PARAGOMINAS| PA|2020-09-28 00:00:00|\n",
      "|2021-04-16|            LIFEMED|        Pernambuco|       MUNICIPIO|           UTI|         2|       1.2E7|UNIDADE DE PRONTO...| PE|2021-04-19 00:00:00|\n",
      "|2020-06-26|                KTK|    Rio De Janeiro|       MUNICIPIO|           UTI|         2|       1.2E7|SECRETARIA MUNICI...| RJ|2020-06-30 00:00:00|\n",
      "|2021-03-11|                KTK|    Rio De Janeiro|       MUNICIPIO|    TRANSPORTE|         2|   4000000.0|       SMS DE MACUCO| RJ|2021-03-13 00:00:00|\n",
      "|2020-09-11|             VYAIRE| Rio Grande Do Sul|          ESTADO|           UTI|        70|       4.2E8|SES RIO GRANDE DO...| RS|2020-09-15 00:00:00|\n",
      "|2021-03-04|                KTK| Rio Grande Do Sul|       MUNICIPIO|    TRANSPORTE|         1|   2000000.0|HOSPITAL PADRE CA...| RS|2021-03-07 00:00:00|\n",
      "|2021-03-13|                KTK|         São Paulo|       MUNICIPIO|    TRANSPORTE|         4|   8000000.0|SECRETARIA MUNICI...| SP|2021-03-14 00:00:00|\n",
      "|2020-05-22|           MAGNAMED|           Alagoas|          ESTADO|    TRANSPORTE|        15|    7.2435E7|SECRETARIA ESTADU...| AL|2020-05-24 00:00:00|\n",
      "|2020-06-04|             VYAIRE|             Bahia|       MUNICIPIO|           UTI|        10|       6.0E7|SALVADOR - SECRET...| BA|2020-06-06 00:00:00|\n",
      "|2020-04-18|           MAGNAMED|             Ceara|          ESTADO|    TRANSPORTE|        15|    7.2435E7|HOSPITAL DR. CARL...| CE|2020-04-18 00:00:00|\n",
      "|2020-06-08|                WEG|             Ceara|       MUNICIPIO|           UTI|         5|       3.0E7|SECRETARIA MUNICI...| CE|2020-06-10 00:00:00|\n",
      "|2020-06-12|             VYAIRE|             Goias|       MUNICIPIO|           UTI|         3|       1.8E7|SECRETARIA MUNICI...| GO|2020-06-15 00:00:00|\n",
      "|2020-10-26|VYAIRE LTV 2200 USA|             Goias|       MUNICIPIO|TRANSPORTE USA|         1|   6312597.0|    SMS DE HIDROLINA| GO|2020-10-29 00:00:00|\n",
      "|2020-05-16|           LEISTUNG|          Maranhão|          ESTADO|           UTI|        20|       1.2E8|SECRETARIA ESTADU...| MA|2020-05-18 00:00:00|\n",
      "|2020-06-26|             VYAIRE|      Minas Gerais|       MUNICIPIO|           UTI|         4|       2.4E7|SECRETARIA MUNICI...| MG|2020-06-29 00:00:00|\n",
      "|2020-11-20|VYAIRE LTV 2200 USA|      Minas Gerais|       MUNICIPIO|TRANSPORTE USA|         3| 1.8937792E7|       SMS DE PASSOS| MG|2020-11-23 00:00:00|\n",
      "|2020-06-09|           MAGNAMED|Mato Grosso Do Sul|          ESTADO|    TRANSPORTE|        25|   1.20725E8|SECRETARIA ESTADU...| MS|2020-06-12 00:00:00|\n",
      "|2020-06-26|           MAGNAMED|            Parana|       MUNICIPIO|    TRANSPORTE|         2|   9658000.0|SECRETARIA MUNICI...| PR|2020-06-28 00:00:00|\n",
      "|2020-12-18|             VYAIRE|    Rio De Janeiro|       MUNICIPIO|           UTI|        10|       6.0E7|HOSPITAL GERAL DE...| RJ|2020-12-21 00:00:00|\n",
      "|2020-10-26|VYAIRE LTV 2200 USA| Rio Grande Do Sul|       MUNICIPIO|TRANSPORTE USA|         1|   6312597.0|      SMS DE MATA RS| RS|2020-10-30 00:00:00|\n",
      "|2021-02-10|             VYAIRE|         São Paulo|       MUNICIPIO|           UTI|        10|       6.0E7|        SMS DE BAURU| SP|2021-02-12 00:00:00|\n",
      "|2020-08-27|           MAGNAMED|             Bahia|       MUNICIPIO|    TRANSPORTE|         2|   9658000.0|   SMS DE MARAGOGIPE| BA|2020-08-31 00:00:00|\n",
      "|2020-08-09|           MAGNAMED|      Minas Gerais|       MUNICIPIO|    TRANSPORTE|         2|   9658000.0|SMS DE ASTOLFO DUTRA| MG|2020-08-14 00:00:00|\n",
      "|2021-01-15|             VYAIRE|      Minas Gerais|       MUNICIPIO|           UTI|         2|       1.2E7|HOSPITAL SANTA CA...| MG|2021-01-21 00:00:00|\n",
      "|2020-06-26|           MAGNAMED|           Paraiba|       MUNICIPIO|    TRANSPORTE|         3|    1.4487E7|SECRETARIA MUNICI...| PB|2020-07-01 00:00:00|\n",
      "|2020-07-17|             VYAIRE|        Pernambuco|       MUNICIPIO|           UTI|         5|       3.0E7|PETROLINA - SECRE...| PE|2020-07-31 00:00:00|\n",
      "|2020-09-11|                KTK|            Parana|       MUNICIPIO|           UTI|         1|   6000000.0|       SMS DE ÂNGULO| PR|2020-09-15 00:00:00|\n",
      "|2020-09-21|           LEISTUNG|            Parana|       MUNICIPIO|           UTI|         1|   6000000.0|      SMS DE IBIPORA| PR|2020-09-27 00:00:00|\n",
      "|2020-09-24|VYAIRE LTV 2200 USA|    Rio De Janeiro|       MUNICIPIO|TRANSPORTE USA|         5| 3.1562984E7|        SMS DE AREAL| RJ|2020-09-29 00:00:00|\n",
      "|2020-11-26|             VYAIRE|    Rio De Janeiro|          ESTADO|           UTI|         4|       2.4E7|HOSPITAL FEDERAL ...| RJ|2020-11-30 15:29:00|\n",
      "|2020-11-26|             VYAIRE|    Rio De Janeiro|          ESTADO|           UTI|         8|       4.8E7|HOSPITAL FEDERAL ...| RJ|2020-11-30 15:24:00|\n",
      "|2020-06-26|             VYAIRE|          Rondonia|       MUNICIPIO|           UTI|         2|       1.2E7|SECRETARIA MUNICI...| RO|2020-07-02 00:00:00|\n",
      "|2020-06-26|           MAGNAMED|          Rondonia|       MUNICIPIO|    TRANSPORTE|         3|    1.4487E7|SECRETARIA MUNICI...| RO|2020-06-30 00:00:00|\n",
      "|2020-07-07|             VYAIRE| Rio Grande Do Sul|       MUNICIPIO|           UTI|         5|       3.0E7| CANOAS - HPS CANOAS| RS|2020-07-11 00:00:00|\n",
      "|2020-11-20|           MAGNAMED| Rio Grande Do Sul|       MUNICIPIO|           UTI|         8|       4.8E7|SMS DE SANTA ROSA RS| RS|2020-11-25 00:00:00|\n",
      "|2021-03-11|                KTK|    Santa Catarina|       MUNICIPIO|    TRANSPORTE|         2|   4000000.0|SECR. MUN. DE SAÚ...| SC|2021-03-13 00:00:00|\n",
      "|2020-07-24|                KTK|         São Paulo|       MUNICIPIO|    TRANSPORTE|         5|       1.0E7|ITAQUAQUECETUBA -...| SP|2020-07-31 00:00:00|\n",
      "|2021-03-11|           LIFEMED |           Alagoas|          ESTADO|           UTI|        40|       2.4E8|SECRETARIA ESTADU...| AL|2021-03-12 00:00:00|\n",
      "|2020-06-12|             VYAIRE|             Bahia|       MUNICIPIO|           UTI|         4|       2.4E7|SECRETARIA MUNICI...| BA|2020-06-14 00:00:00|\n",
      "|2020-07-24|                KTK|             Bahia|       MUNICIPIO|    TRANSPORTE|         3|   6000000.0|ANDARAI - SECRETA...| BA|2020-08-07 00:00:00|\n",
      "|2020-10-08|VYAIRE LTV 2200 USA|      Minas Gerais|       MUNICIPIO|TRANSPORTE USA|         3| 1.8937792E7|SMS DE CORACAO DE...| MG|2020-10-16 00:00:00|\n",
      "|2021-04-02|      RUSSER BRASIL|       Mato Grosso|       MUNICIPIO|           UTI|         5|       3.0E7|SMS DE TANGARÁ DA...| MT|2021-04-08 00:00:00|\n",
      "|2020-07-31|                KTK|              Para|       MUNICIPIO|    TRANSPORTE|         3|   6000000.0|     SMS DE BRAGANCA| PA|2020-08-10 00:00:00|\n",
      "|2021-03-29|            LIFEMED|              Para|       MUNICIPIO|           UTI|         2|       1.2E7|   SMS DE DOM ELISEU| PA|2021-04-01 00:00:00|\n",
      "|2021-02-26|             VYAIRE|           Paraiba|       MUNICIPIO|           UTI|         5|       3.0E7|   SMS DE SANTA RITA| PB|2021-02-26 00:00:00|\n",
      "|2020-09-03|           MAGNAMED|    Rio De Janeiro|       MUNICIPIO|           UTI|         3|       1.8E7|   SMS DE NATIVIDADE| RJ|2020-09-06 00:00:00|\n",
      "|2020-12-23|VYAIRE LTV 2200 USA| Rio Grande Do Sul|       MUNICIPIO|TRANSPORTE USA|         2| 1.2625194E7|HOSPITAL DE CARID...| RS|2020-12-30 00:00:00|\n",
      "|2021-02-26|                KTK| Rio Grande Do Sul|       MUNICIPIO|    TRANSPORTE|         5|       1.0E7|UCPEL HOSPITAL UN...| RS|2021-02-26 00:00:00|\n",
      "|2020-05-28|           MAGNAMED|           Sergipe|          ESTADO|    TRANSPORTE|        20|     9.658E7|SECRETARIA ESTADU...| SE|2020-05-29 00:00:00|\n",
      "|2020-07-17|           MAGNAMED|         São Paulo|       MUNICIPIO|    TRANSPORTE|         5|    2.4145E7|BAURU - SECRETARI...| SP|2020-07-22 00:00:00|\n",
      "|2020-07-17|           MAGNAMED|         São Paulo|       MUNICIPIO|    TRANSPORTE|         1|   4829000.0|BIRIGUI - SECRETA...| SP|2020-07-22 00:00:00|\n",
      "|2020-05-01|           LEISTUNG|             Ceara|          ESTADO|           UTI|        20|       1.2E8|SECRETARIA  ESTAD...| CE|2020-05-02 00:00:00|\n",
      "|2020-08-09|           MAGNAMED|             Ceara|       MUNICIPIO|    TRANSPORTE|         1|   4829000.0|SECRETARIA MUNICI...| CE|2020-08-10 00:00:00|\n",
      "|2020-06-26|           MAGNAMED|  Distrito Federal|          ESTADO|    TRANSPORTE|        40|    1.9316E8|SECRETARIA ESTADU...| DF|2020-06-27 00:00:00|\n",
      "|2020-08-09|           MAGNAMED|             Goias|       MUNICIPIO|    TRANSPORTE|         4|    1.9316E7|   SMS DE CABECEIRAS| GO|2020-08-14 00:00:00|\n",
      "|2021-03-04|                KTK|             Goias|       MUNICIPIO|    TRANSPORTE|         3|   6000000.0|   SMS DE CRISTALINA| GO|2021-03-07 00:00:00|\n",
      "|2021-03-04|                KTK|             Goias|       MUNICIPIO|    TRANSPORTE|         2|   4000000.0|   SMS DE MUNDO NOVO| GO|2021-03-07 00:00:00|\n",
      "|2020-07-07|           MAGNAMED|          Maranhão|       MUNICIPIO|    TRANSPORTE|         5|    2.4145E7|SANTA INÊS - HOSP...| MA|2020-07-19 00:00:00|\n",
      "|2021-03-24|           INSPIRAR|          Maranhão|       MUNICIPIO|           UTI|         2|       1.2E7|CENTRO DE SAUDE S...| MA|2021-03-30 00:00:00|\n",
      "|2020-08-09|             VYAIRE|            Parana|       MUNICIPIO|           UTI|         2|       1.2E7|      SMS DE MARINGA| PR|2020-08-13 00:00:00|\n",
      "|2020-05-17|           LEISTUNG|    Rio De Janeiro|       MUNICIPIO|           UTI|         5|       3.0E7|SECRETARIA MUNICI...| RJ|2020-05-18 00:00:00|\n",
      "|2020-07-31|           LEISTUNG|           Sergipe|       MUNICIPIO|           UTI|         2|       1.2E7|       SMS DE CAPELA| SE|2020-08-07 00:00:00|\n",
      "|2020-04-18|             VYAIRE|             Amapa|          ESTADO|           UTI|         5|       3.0E7|SECRETARIA ESTADU...| AP|2020-04-19 00:00:00|\n",
      "|2020-10-29|           MAGNAMED|          Amazonas|          ESTADO|           UTI|        30|       1.8E8|        SES AMAZONAS| AM|2020-11-04 00:00:00|\n",
      "|2020-07-31|           LEISTUNG|             Bahia|       MUNICIPIO|           UTI|         5|       3.0E7|SMS DE VITORIA DA...| BA|2020-08-08 00:00:00|\n",
      "|2021-04-16|           LIFEMED |             Bahia|       MUNICIPIO|           UTI|         2|       1.2E7|HOSPITAL DE CASTR...| BA|2021-04-20 00:00:00|\n",
      "|2020-10-08|           MAGNAMED|             Ceara|       MUNICIPIO|           UTI|         2|       1.2E7|SECRETARIA MUNICI...| CE|2020-10-15 00:00:00|\n",
      "|2020-07-10|           MAGNAMED|      Minas Gerais|          ESTADO|    TRANSPORTE|        49|2.36620992E8|SECRETARIA ESTADU...| MG|2020-07-15 00:00:00|\n",
      "|2020-08-21|             VYAIRE|      Minas Gerais|       MUNICIPIO|           UTI|         2|       1.2E7|SMS DE SANTA RITA...| MG|2020-08-25 00:00:00|\n",
      "|2021-01-15|                KTK|      Minas Gerais|       MUNICIPIO|    TRANSPORTE|         3|   6000000.0|HOSPITAL DA FUNDA...| MG|2021-01-21 00:00:00|\n",
      "|2021-02-10|            VYAIRE |      Minas Gerais|       MUNICIPIO|           UTI|         1|   6000000.0|HOSPITAL NOSSA SE...| MG|2021-02-12 00:00:00|\n",
      "|2021-03-29|            LIFEMED|              Para|          ESTADO|           UTI|        50|       3.0E8|         SES DO PARA| PA|2021-04-05 00:00:00|\n",
      "|2021-04-16|            LIFEMED|            Parana|       MUNICIPIO|           UTI|         2|       1.2E7|SMS DE SÃO JOÃO D...| PR|2021-04-20 00:00:00|\n",
      "|2021-01-22|VYAIRE LTV 2200 USA|    Rio De Janeiro|       MUNICIPIO|TRANSPORTE USA|         2| 1.2625194E7| UPA 24 HS TRES RIOS| RJ|2021-01-25 00:00:00|\n",
      "+----------+-------------------+------------------+----------------+--------------+----------+------------+--------------------+---+-------------------+\n",
      "only showing top 92 rows\n",
      "\n"
     ]
    }
   ],
   "source": [
    "df_respiradores.show(92)"
   ]
  },
  {
   "cell_type": "code",
   "execution_count": 21,
   "id": "1aa0894d",
   "metadata": {},
   "outputs": [
    {
     "name": "stdout",
     "output_type": "stream",
     "text": [
      "root\n",
      " |-- DATA: date (nullable = true)\n",
      " |-- FORNECEDOR: string (nullable = true)\n",
      " |-- DESTINO: string (nullable = true)\n",
      " |-- ESTADO/MUNICIPIO: string (nullable = true)\n",
      " |-- TIPO: string (nullable = true)\n",
      " |-- QUANTIDADE: integer (nullable = true)\n",
      " |-- valor_(r$): float (nullable = true)\n",
      " |-- DESTINATARIO: string (nullable = true)\n",
      " |-- UF: string (nullable = true)\n",
      " |-- DATA DE ENTREGA: timestamp (nullable = true)\n",
      "\n"
     ]
    }
   ],
   "source": [
    "df_respiradores.printSchema()"
   ]
  },
  {
   "cell_type": "code",
   "execution_count": 22,
   "id": "861ab470",
   "metadata": {},
   "outputs": [
    {
     "data": {
      "text/plain": [
       "(2626, 10)"
      ]
     },
     "execution_count": 22,
     "metadata": {},
     "output_type": "execute_result"
    }
   ],
   "source": [
    "df_respiradores.shape()"
   ]
  },
  {
   "cell_type": "markdown",
   "id": "e18ad174",
   "metadata": {},
   "source": [
    "---"
   ]
  },
  {
   "cell_type": "markdown",
   "id": "4dc68a69",
   "metadata": {},
   "source": [
    "## Salvar o tratamento"
   ]
  },
  {
   "cell_type": "code",
   "execution_count": 23,
   "id": "bfd5d8b9",
   "metadata": {},
   "outputs": [],
   "source": [
    "df_respiradores.coalesce(1).write.format(\"csv\")\\\n",
    "                                 .mode(\"overwrite\")\\\n",
    "                                 .save(\"../File/respiradores_tratado.csv\", header=\"true\")"
   ]
  },
  {
   "cell_type": "code",
   "execution_count": null,
   "id": "4a9f65ce",
   "metadata": {},
   "outputs": [],
   "source": []
  }
 ],
 "metadata": {
  "kernelspec": {
   "display_name": "Python 3",
   "language": "python",
   "name": "python3"
  },
  "language_info": {
   "codemirror_mode": {
    "name": "ipython",
    "version": 3
   },
   "file_extension": ".py",
   "mimetype": "text/x-python",
   "name": "python",
   "nbconvert_exporter": "python",
   "pygments_lexer": "ipython3",
   "version": "3.8.8"
  }
 },
 "nbformat": 4,
 "nbformat_minor": 5
}
