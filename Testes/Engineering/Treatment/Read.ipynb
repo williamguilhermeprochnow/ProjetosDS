{
 "cells": [
  {
   "cell_type": "code",
   "execution_count": 1,
   "id": "033f5051",
   "metadata": {},
   "outputs": [
    {
     "data": {
      "text/html": [
       "<style>pre { white-space: pre !important; }</style>"
      ],
      "text/plain": [
       "<IPython.core.display.HTML object>"
      ]
     },
     "metadata": {},
     "output_type": "display_data"
    }
   ],
   "source": [
    "from pyspark.sql import SparkSession, types\n",
    "spark = SparkSession.builder.appName('leitura').getOrCreate()\n",
    "\n",
    "# Habilita o scroll horizontal \n",
    "from IPython.core.display import HTML\n",
    "display(HTML(\"<style>pre { white-space: pre !important; }</style>\"));"
   ]
  },
  {
   "cell_type": "code",
   "execution_count": 2,
   "id": "84ba8761",
   "metadata": {},
   "outputs": [
    {
     "name": "stdout",
     "output_type": "stream",
     "text": [
      "root\n",
      " |-- DATA: date (nullable = true)\n",
      " |-- FORNECEDOR: string (nullable = true)\n",
      " |-- DESTINO: string (nullable = true)\n",
      " |-- ESTADO/MUNICIPIO: string (nullable = true)\n",
      " |-- TIPO: string (nullable = true)\n",
      " |-- QUANTIDADE: integer (nullable = true)\n",
      " |-- valor_(r$): double (nullable = true)\n",
      " |-- DESTINATARIO: string (nullable = true)\n",
      " |-- UF: string (nullable = true)\n",
      " |-- DATA DE ENTREGA: timestamp (nullable = true)\n",
      "\n"
     ]
    }
   ],
   "source": [
    "schema_read = types.StructType([types.StructField('DATA', types.DateType()),\n",
    "                                types.StructField('FORNECEDOR', types.StringType()),\n",
    "                                types.StructField('DESTINO', types.StringType()),\n",
    "                                types.StructField('ESTADO/MUNICIPIO', types.StringType()),\n",
    "                                types.StructField('TIPO', types.StringType()),\n",
    "                                types.StructField('QUANTIDADE', types.IntegerType()),\n",
    "                                types.StructField('valor_(r$)', types.DoubleType()),\n",
    "                                types.StructField('DESTINATARIO', types.StringType()),\n",
    "                                types.StructField('UF', types.StringType()),\n",
    "                                types.StructField('DATA DE ENTREGA', types.TimestampType())])\n",
    "\n",
    "df_read = spark.read.csv('../File/respiradores_tratado.csv/part-00000-eb61cfd3-d1fb-41fb-af42-7872ed645b42-c000.csv',\n",
    "                         schema=schema_read, header=True)\n",
    "df_read.printSchema()"
   ]
  },
  {
   "cell_type": "code",
   "execution_count": 3,
   "id": "1a47b562",
   "metadata": {
    "scrolled": true
   },
   "outputs": [
    {
     "name": "stdout",
     "output_type": "stream",
     "text": [
      "+----------+----------+-------+----------------+----------+----------+------------+--------------------+---+-------------------+\n",
      "|      DATA|FORNECEDOR|DESTINO|ESTADO/MUNICIPIO|      TIPO|QUANTIDADE|  valor_(r$)|        DESTINATARIO| UF|    DATA DE ENTREGA|\n",
      "+----------+----------+-------+----------------+----------+----------+------------+--------------------+---+-------------------+\n",
      "|2020-05-21|    VYAIRE|   Acre|          ESTADO|       UTI|        20|       1.2E8|SECRETARIA ESTADU...| AC|2020-05-23 00:00:00|\n",
      "|2020-05-21|  MAGNAMED|   Acre|          ESTADO|TRANSPORTE|        10|     4.829E7|SECRETARIA ESTADU...| AC|2020-05-23 00:00:00|\n",
      "|2020-06-05|  LEISTUNG|   Acre|          ESTADO|       UTI|        30|       1.8E8|SECRETARIA ESTADU...| AC|2020-06-08 00:00:00|\n",
      "|2020-06-16|    VYAIRE|   Acre|       MUNICIPIO|       UTI|         5|       3.0E7|SECRETARIA MUNICI...| AC|2020-06-24 00:00:00|\n",
      "|2020-06-16|  MAGNAMED|   Acre|       MUNICIPIO|TRANSPORTE|         5|    2.4145E7|SECRETARIA MUNICI...| AC|2020-06-24 00:00:00|\n",
      "|2020-06-26|  MAGNAMED|   Acre|       MUNICIPIO|TRANSPORTE|        10|     4.829E7|SECRETARIA MUNICI...| AC|2020-07-03 00:00:00|\n",
      "|2020-06-26|  MAGNAMED|   Acre|       MUNICIPIO|TRANSPORTE|        70|3.38030016E8|SECRETARIA MUNICI...| AC|2020-07-04 00:00:00|\n",
      "|2020-07-07|    VYAIRE|   Acre|       MUNICIPIO|       UTI|        10|       6.0E7|CRUZEIRO DO SUL -...| AC|2020-07-19 00:00:00|\n",
      "|2020-07-10|  MAGNAMED|   Acre|          ESTADO|TRANSPORTE|         5|    2.4145E7|RIO BRANCO - SECR...| AC|2020-07-21 00:00:00|\n",
      "|2020-07-10|    VYAIRE|   Acre|          ESTADO|       UTI|         5|       3.0E7|RIO BRANCO - SECR...| AC|2020-07-21 00:00:00|\n",
      "|2021-01-28|    VYAIRE|   Acre|          ESTADO|       UTI|        20|       1.2E8|            SES ACRE| AC|2021-01-29 00:00:00|\n",
      "|2021-02-18|       KTK|   Acre|          ESTADO|TRANSPORTE|        20|       4.0E7|SECRETARIA ESTADU...| AC|2021-02-22 00:00:00|\n",
      "|2021-02-18|    VYAIRE|   Acre|          ESTADO|       UTI|        20|       1.2E8|SECRETARIA ESTADU...| AC|2021-02-22 00:00:00|\n",
      "|2020-05-22|       KTK|Alagoas|          ESTADO|       UTI|        15|       9.0E7|SECRETARIA ESTADU...| AL|2020-05-24 00:00:00|\n",
      "|2020-05-22|  MAGNAMED|Alagoas|          ESTADO|TRANSPORTE|        15|    7.2435E7|SECRETARIA ESTADU...| AL|2020-05-24 00:00:00|\n",
      "|2020-06-04|    VYAIRE|Alagoas|          ESTADO|       UTI|        20|       1.2E8|SECRETARIA ESTADU...| AL|2020-06-06 00:00:00|\n",
      "|2020-06-04|  MAGNAMED|Alagoas|          ESTADO|TRANSPORTE|        17|    8.2093E7|SECRETARIA ESTADU...| AL|2020-06-06 00:00:00|\n",
      "|2020-06-04|  MAGNAMED|Alagoas|          ESTADO|TRANSPORTE|         3|    1.4487E7|SECRETARIA ESTADU...| AL|2020-06-06 00:00:00|\n",
      "|2020-06-16|  MAGNAMED|Alagoas|          ESTADO|TRANSPORTE|        50|    2.4145E8|SECRETARIA ESTADU...| AL|2020-06-18 00:00:00|\n",
      "|2020-06-26|    VYAIRE|Alagoas|       MUNICIPIO|       UTI|         1|   6000000.0|SECRETARIA MUNICI...| AL|2020-07-01 00:00:00|\n",
      "+----------+----------+-------+----------------+----------+----------+------------+--------------------+---+-------------------+\n",
      "only showing top 20 rows\n",
      "\n"
     ]
    }
   ],
   "source": [
    "df_read.show()"
   ]
  },
  {
   "cell_type": "code",
   "execution_count": null,
   "id": "3bb862be",
   "metadata": {},
   "outputs": [],
   "source": []
  }
 ],
 "metadata": {
  "kernelspec": {
   "display_name": "Python 3",
   "language": "python",
   "name": "python3"
  },
  "language_info": {
   "codemirror_mode": {
    "name": "ipython",
    "version": 3
   },
   "file_extension": ".py",
   "mimetype": "text/x-python",
   "name": "python",
   "nbconvert_exporter": "python",
   "pygments_lexer": "ipython3",
   "version": "3.8.8"
  }
 },
 "nbformat": 4,
 "nbformat_minor": 5
}
