{
 "cells": [
  {
   "cell_type": "code",
   "execution_count": 1,
   "id": "033f5051",
   "metadata": {},
   "outputs": [
    {
     "data": {
      "text/html": [
       "<style>pre { white-space: pre !important; }</style>"
      ],
      "text/plain": [
       "<IPython.core.display.HTML object>"
      ]
     },
     "metadata": {},
     "output_type": "display_data"
    }
   ],
   "source": [
    "import pyspark\n",
    "\n",
    "from pyspark.sql import SparkSession, types\n",
    "spark = SparkSession.builder.appName('leitura').getOrCreate()\n",
    "\n",
    "# Habilita o scroll horizontal \n",
    "from IPython.core.display import HTML\n",
    "display(HTML(\"<style>pre { white-space: pre !important; }</style>\"));"
   ]
  },
  {
   "cell_type": "code",
   "execution_count": 2,
   "id": "4b3fcbb0",
   "metadata": {},
   "outputs": [],
   "source": [
    "def spark_shape(self):\n",
    "    return (self.count(), len(self.columns))\n",
    "\n",
    "pyspark.sql.dataframe.DataFrame.shape = spark_shape"
   ]
  },
  {
   "cell_type": "code",
   "execution_count": 3,
   "id": "84ba8761",
   "metadata": {},
   "outputs": [
    {
     "name": "stdout",
     "output_type": "stream",
     "text": [
      "root\n",
      " |-- DATA: date (nullable = true)\n",
      " |-- FORNECEDOR: string (nullable = true)\n",
      " |-- DESTINO: string (nullable = true)\n",
      " |-- ESTADO/MUNICIPIO: string (nullable = true)\n",
      " |-- TIPO: string (nullable = true)\n",
      " |-- QUANTIDADE: integer (nullable = true)\n",
      " |-- valor_(r$): double (nullable = true)\n",
      " |-- DESTINATARIO: string (nullable = true)\n",
      " |-- UF: string (nullable = true)\n",
      " |-- DATA DE ENTREGA: timestamp (nullable = true)\n",
      "\n"
     ]
    },
    {
     "data": {
      "text/plain": [
       "(2626, 10)"
      ]
     },
     "execution_count": 3,
     "metadata": {},
     "output_type": "execute_result"
    }
   ],
   "source": [
    "schema_read = types.StructType([types.StructField('DATA', types.DateType()),\n",
    "                                types.StructField('FORNECEDOR', types.StringType()),\n",
    "                                types.StructField('DESTINO', types.StringType()),\n",
    "                                types.StructField('ESTADO/MUNICIPIO', types.StringType()),\n",
    "                                types.StructField('TIPO', types.StringType()),\n",
    "                                types.StructField('QUANTIDADE', types.IntegerType()),\n",
    "                                types.StructField('valor_(r$)', types.DoubleType()),\n",
    "                                types.StructField('DESTINATARIO', types.StringType()),\n",
    "                                types.StructField('UF', types.StringType()),\n",
    "                                types.StructField('DATA DE ENTREGA', types.TimestampType())])\n",
    "\n",
    "df_read = spark.read.csv('../File/respiradores_tratado.csv/part-00000-e1eae006-f2a8-4c34-a5ac-3b85861c3b5b-c000.csv',\n",
    "                         schema=schema_read, header=True)\n",
    "df_read.printSchema()\n",
    "df_read.shape()"
   ]
  },
  {
   "cell_type": "code",
   "execution_count": 4,
   "id": "1a47b562",
   "metadata": {
    "scrolled": true
   },
   "outputs": [
    {
     "name": "stdout",
     "output_type": "stream",
     "text": [
      "+----------+-------------------+-----------------+----------------+--------------+----------+-----------+--------------------+---+-------------------+\n",
      "|      DATA|         FORNECEDOR|          DESTINO|ESTADO/MUNICIPIO|          TIPO|QUANTIDADE| valor_(r$)|        DESTINATARIO| UF|    DATA DE ENTREGA|\n",
      "+----------+-------------------+-----------------+----------------+--------------+----------+-----------+--------------------+---+-------------------+\n",
      "|2020-08-21|           MAGNAMED|   Espirito Santo|       MUNICIPIO|    TRANSPORTE|         1|  4829000.0| SMS DE SANTA TERESA| ES|2020-08-27 00:00:00|\n",
      "|2020-06-12|           MAGNAMED|            Goias|       MUNICIPIO|    TRANSPORTE|         2|  9658000.0|SECRETARIA MUNICI...| GO|2020-06-15 00:00:00|\n",
      "|2021-03-04|                KTK|            Goias|       MUNICIPIO|    TRANSPORTE|         6|      1.2E7|HOSPITAL MUNICIPA...| GO|2021-03-07 00:00:00|\n",
      "|2021-02-18|                KTK|         Maranhão|       MUNICIPIO|    TRANSPORTE|         1|  2000000.0|UNIDADE MISTA DRA...| MA|2021-02-23 00:00:00|\n",
      "|2020-07-10|           MAGNAMED|             Para|          ESTADO|    TRANSPORTE|         3|   1.4487E7|BELÉM - SECRETARI...| PA|2020-07-16 00:00:00|\n",
      "|2020-12-23|           MAGNAMED|       Pernambuco|       MUNICIPIO|    TRANSPORTE|         2|  9658000.0|HOSPITAL DO TRICE...| PE|2020-12-28 00:00:00|\n",
      "|2020-09-04|                KTK|Rio Grande Do Sul|       MUNICIPIO|    TRANSPORTE|         2|  4000000.0|SECR. MUN. DE SAU...| RS|2020-09-10 00:00:00|\n",
      "|2020-12-18|    VYAIRE/INTERMED|Rio Grande Do Sul|       MUNICIPIO|           UTI|         3|      1.8E7|HOSPITAL BOM PAST...| RS|2020-12-23 00:00:00|\n",
      "|2020-07-10|             VYAIRE|          Sergipe|          ESTADO|           UTI|        20|      1.2E8|ARACAJU  - SECRET...| SE|2020-07-20 00:00:00|\n",
      "|2020-06-26|           MAGNAMED|            Bahia|       MUNICIPIO|    TRANSPORTE|         1|  4829000.0|SECRETARIA MUNICI...| BA|2020-07-01 00:00:00|\n",
      "|2020-12-07|           LEISTUNG|            Bahia|       MUNICIPIO|           UTI|         1|  6000000.0|SMS DE SAO FELIX ...| BA|2020-12-09 00:00:00|\n",
      "|2021-03-04|                KTK|            Bahia|       MUNICIPIO|    TRANSPORTE|         3|  6000000.0|SMS DE CRUZ DAS A...| BA|2021-03-07 00:00:00|\n",
      "|2021-03-17|            LIFEMED|            Bahia|       MUNICIPIO|           UTI|         2|      1.2E7|SMS DE CONCEIÇÃO ...| BA|2021-03-19 00:00:00|\n",
      "|2020-07-24|           MAGNAMED|            Goias|       MUNICIPIO|           UTI|         3|      1.8E7|IDEALINA - SECRET...| GO|2020-08-03 00:00:00|\n",
      "|2020-08-14|             VYAIRE|            Goias|       MUNICIPIO|           UTI|         1|  6000000.0|SMS DE SANTA CRUZ...| GO|2020-08-20 00:00:00|\n",
      "|2020-07-31|                KTK|     Minas Gerais|       MUNICIPIO|    TRANSPORTE|         2|  4000000.0| SMS DE  BOM SUCESSO| MG|2020-08-07 00:00:00|\n",
      "|2021-02-18|VYAIRE LTV 2200 USA|     Minas Gerais|       MUNICIPIO|TRANSPORTE USA|         5|3.1562984E7|HOSPITAL DE CLINI...| MG|2021-02-20 00:00:00|\n",
      "|2021-04-08|            LIFEMED|     Minas Gerais|       MUNICIPIO|           UTI|         5|      3.0E7|           UPA ARAXA| MG|2021-04-10 00:00:00|\n",
      "|2020-09-21|                KTK|             Para|       MUNICIPIO|    TRANSPORTE|         1|  2000000.0|  SMS DE PARAGOMINAS| PA|2020-09-28 00:00:00|\n",
      "|2021-04-16|            LIFEMED|       Pernambuco|       MUNICIPIO|           UTI|         2|      1.2E7|UNIDADE DE PRONTO...| PE|2021-04-19 00:00:00|\n",
      "+----------+-------------------+-----------------+----------------+--------------+----------+-----------+--------------------+---+-------------------+\n",
      "only showing top 20 rows\n",
      "\n"
     ]
    }
   ],
   "source": [
    "df_read.show()"
   ]
  },
  {
   "cell_type": "code",
   "execution_count": null,
   "id": "3bb862be",
   "metadata": {},
   "outputs": [],
   "source": []
  }
 ],
 "metadata": {
  "kernelspec": {
   "display_name": "Python 3",
   "language": "python",
   "name": "python3"
  },
  "language_info": {
   "codemirror_mode": {
    "name": "ipython",
    "version": 3
   },
   "file_extension": ".py",
   "mimetype": "text/x-python",
   "name": "python",
   "nbconvert_exporter": "python",
   "pygments_lexer": "ipython3",
   "version": "3.8.8"
  }
 },
 "nbformat": 4,
 "nbformat_minor": 5
}
