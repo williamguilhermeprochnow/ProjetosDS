{
 "cells": [
  {
   "cell_type": "code",
   "execution_count": 1,
   "id": "84b8d511",
   "metadata": {},
   "outputs": [],
   "source": [
    "import pandas as pd\n",
    "import numpy as np\n",
    "import simplejson\n",
    "\n",
    "from math import sqrt\n",
    "\n",
    "from Arquivos.Base_de_Dados import avaliacoes as avaliacoesUsuario"
   ]
  },
  {
   "cell_type": "code",
   "execution_count": 2,
   "id": "cca29dfa",
   "metadata": {},
   "outputs": [
    {
     "data": {
      "text/plain": [
       "{'Ana': {'Freddy x Jason': 2.5,\n",
       "  'O Ultimato Bourne': 3.5,\n",
       "  'Star Trek': 3.0,\n",
       "  'Exterminador do Futuro': 3.5,\n",
       "  'Norbit': 2.5,\n",
       "  'Star Wars': 3.0},\n",
       " 'Marcos': {'Freddy x Jason': 3.0,\n",
       "  'O Ultimato Bourne': 3.5,\n",
       "  'Star Trek': 1.5,\n",
       "  'Exterminador do Futuro': 5.0,\n",
       "  'Star Wars': 3.0,\n",
       "  'Norbit': 3.5},\n",
       " 'Pedro': {'Freddy x Jason': 2.5,\n",
       "  'O Ultimato Bourne': 3.0,\n",
       "  'Exterminador do Futuro': 3.5,\n",
       "  'Star Wars': 4.0},\n",
       " 'Claudia': {'O Ultimato Bourne': 3.5,\n",
       "  'Star Trek': 3.0,\n",
       "  'Star Wars': 4.5,\n",
       "  'Exterminador do Futuro': 4.0,\n",
       "  'Norbit': 2.5},\n",
       " 'Adriano': {'Freddy x Jason': 3.0,\n",
       "  'O Ultimato Bourne': 4.0,\n",
       "  'Star Trek': 2.0,\n",
       "  'Exterminador do Futuro': 3.0,\n",
       "  'Star Wars': 3.0,\n",
       "  'Norbit': 2.0},\n",
       " 'Janaina': {'Freddy x Jason': 3.0,\n",
       "  'O Ultimato Bourne': 4.0,\n",
       "  'Star Wars': 3.0,\n",
       "  'Exterminador do Futuro': 5.0,\n",
       "  'Norbit': 3.5},\n",
       " 'Leonardo': {'O Ultimato Bourne': 4.5,\n",
       "  'Norbit': 1.0,\n",
       "  'Exterminador do Futuro': 4.0}}"
      ]
     },
     "execution_count": 2,
     "metadata": {},
     "output_type": "execute_result"
    }
   ],
   "source": [
    "avaliacoesUsuario"
   ]
  },
  {
   "cell_type": "code",
   "execution_count": 3,
   "id": "e0009cc3",
   "metadata": {},
   "outputs": [
    {
     "name": "stdout",
     "output_type": "stream",
     "text": [
      "<class 'pandas.core.frame.DataFrame'>\n",
      "Index: 7 entries, Ana to Leonardo\n",
      "Data columns (total 6 columns):\n",
      " #   Column                  Non-Null Count  Dtype  \n",
      "---  ------                  --------------  -----  \n",
      " 0   Freddy x Jason          5 non-null      float64\n",
      " 1   O Ultimato Bourne       7 non-null      float64\n",
      " 2   Star Trek               4 non-null      float64\n",
      " 3   Exterminador do Futuro  7 non-null      float64\n",
      " 4   Norbit                  6 non-null      float64\n",
      " 5   Star Wars               6 non-null      float64\n",
      "dtypes: float64(6)\n",
      "memory usage: 392.0+ bytes\n"
     ]
    }
   ],
   "source": [
    "df_evaluation = pd.DataFrame(avaliacoesUsuario).T\n",
    "df_evaluation.info()"
   ]
  },
  {
   "cell_type": "code",
   "execution_count": 4,
   "id": "3e882546",
   "metadata": {
    "scrolled": true
   },
   "outputs": [
    {
     "data": {
      "text/html": [
       "<div>\n",
       "<style scoped>\n",
       "    .dataframe tbody tr th:only-of-type {\n",
       "        vertical-align: middle;\n",
       "    }\n",
       "\n",
       "    .dataframe tbody tr th {\n",
       "        vertical-align: top;\n",
       "    }\n",
       "\n",
       "    .dataframe thead th {\n",
       "        text-align: right;\n",
       "    }\n",
       "</style>\n",
       "<table border=\"1\" class=\"dataframe\">\n",
       "  <thead>\n",
       "    <tr style=\"text-align: right;\">\n",
       "      <th></th>\n",
       "      <th>Freddy x Jason</th>\n",
       "      <th>O Ultimato Bourne</th>\n",
       "      <th>Star Trek</th>\n",
       "      <th>Exterminador do Futuro</th>\n",
       "      <th>Norbit</th>\n",
       "      <th>Star Wars</th>\n",
       "    </tr>\n",
       "  </thead>\n",
       "  <tbody>\n",
       "    <tr>\n",
       "      <th>Ana</th>\n",
       "      <td>2.5</td>\n",
       "      <td>3.5</td>\n",
       "      <td>3.0</td>\n",
       "      <td>3.5</td>\n",
       "      <td>2.5</td>\n",
       "      <td>3.0</td>\n",
       "    </tr>\n",
       "    <tr>\n",
       "      <th>Marcos</th>\n",
       "      <td>3.0</td>\n",
       "      <td>3.5</td>\n",
       "      <td>1.5</td>\n",
       "      <td>5.0</td>\n",
       "      <td>3.5</td>\n",
       "      <td>3.0</td>\n",
       "    </tr>\n",
       "    <tr>\n",
       "      <th>Pedro</th>\n",
       "      <td>2.5</td>\n",
       "      <td>3.0</td>\n",
       "      <td>NaN</td>\n",
       "      <td>3.5</td>\n",
       "      <td>NaN</td>\n",
       "      <td>4.0</td>\n",
       "    </tr>\n",
       "    <tr>\n",
       "      <th>Claudia</th>\n",
       "      <td>NaN</td>\n",
       "      <td>3.5</td>\n",
       "      <td>3.0</td>\n",
       "      <td>4.0</td>\n",
       "      <td>2.5</td>\n",
       "      <td>4.5</td>\n",
       "    </tr>\n",
       "    <tr>\n",
       "      <th>Adriano</th>\n",
       "      <td>3.0</td>\n",
       "      <td>4.0</td>\n",
       "      <td>2.0</td>\n",
       "      <td>3.0</td>\n",
       "      <td>2.0</td>\n",
       "      <td>3.0</td>\n",
       "    </tr>\n",
       "    <tr>\n",
       "      <th>Janaina</th>\n",
       "      <td>3.0</td>\n",
       "      <td>4.0</td>\n",
       "      <td>NaN</td>\n",
       "      <td>5.0</td>\n",
       "      <td>3.5</td>\n",
       "      <td>3.0</td>\n",
       "    </tr>\n",
       "    <tr>\n",
       "      <th>Leonardo</th>\n",
       "      <td>NaN</td>\n",
       "      <td>4.5</td>\n",
       "      <td>NaN</td>\n",
       "      <td>4.0</td>\n",
       "      <td>1.0</td>\n",
       "      <td>NaN</td>\n",
       "    </tr>\n",
       "  </tbody>\n",
       "</table>\n",
       "</div>"
      ],
      "text/plain": [
       "          Freddy x Jason  O Ultimato Bourne  Star Trek  \\\n",
       "Ana                  2.5                3.5        3.0   \n",
       "Marcos               3.0                3.5        1.5   \n",
       "Pedro                2.5                3.0        NaN   \n",
       "Claudia              NaN                3.5        3.0   \n",
       "Adriano              3.0                4.0        2.0   \n",
       "Janaina              3.0                4.0        NaN   \n",
       "Leonardo             NaN                4.5        NaN   \n",
       "\n",
       "          Exterminador do Futuro  Norbit  Star Wars  \n",
       "Ana                          3.5     2.5        3.0  \n",
       "Marcos                       5.0     3.5        3.0  \n",
       "Pedro                        3.5     NaN        4.0  \n",
       "Claudia                      4.0     2.5        4.5  \n",
       "Adriano                      3.0     2.0        3.0  \n",
       "Janaina                      5.0     3.5        3.0  \n",
       "Leonardo                     4.0     1.0        NaN  "
      ]
     },
     "execution_count": 4,
     "metadata": {},
     "output_type": "execute_result"
    }
   ],
   "source": [
    "df_evaluation"
   ]
  },
  {
   "cell_type": "markdown",
   "id": "5c20a10d",
   "metadata": {},
   "source": [
    "---"
   ]
  },
  {
   "cell_type": "code",
   "execution_count": 5,
   "id": "b5f78a0a",
   "metadata": {},
   "outputs": [],
   "source": [
    "def euclidiana(base, usuario1, usuario2):\n",
    "    si = {}\n",
    "    for item in base[usuario1]:\n",
    "        if item in base[usuario2]: si[item] = 1\n",
    "    \n",
    "    if len(si) == 0: return 0\n",
    "    \n",
    "    soma = sum([pow(base[usuario1][item] - base[usuario2][item], 2)\n",
    "               for item in base[usuario1] if item in base[usuario2]])\n",
    "    return 1/(1 + sqrt(soma))"
   ]
  },
  {
   "cell_type": "code",
   "execution_count": 6,
   "id": "aab184e7",
   "metadata": {},
   "outputs": [
    {
     "data": {
      "text/plain": [
       "0.3483314773547883"
      ]
     },
     "execution_count": 6,
     "metadata": {},
     "output_type": "execute_result"
    }
   ],
   "source": [
    "euclidiana(avaliacoesUsuario, 'Leonardo', 'Ana')"
   ]
  },
  {
   "cell_type": "markdown",
   "id": "02b24966",
   "metadata": {},
   "source": [
    "---"
   ]
  },
  {
   "cell_type": "code",
   "execution_count": 7,
   "id": "743938ca",
   "metadata": {},
   "outputs": [],
   "source": [
    "def getSimilares(base, usuario):\n",
    "    similaridade = [(euclidiana(base, usuario, outro), outro)\n",
    "                   for outro in base if outro != usuario]\n",
    "    \n",
    "    similaridade.sort(reverse=True)\n",
    "    return similaridade[0:30]"
   ]
  },
  {
   "cell_type": "code",
   "execution_count": 8,
   "id": "538fd937",
   "metadata": {},
   "outputs": [
    {
     "data": {
      "text/plain": [
       "[(0.4721359549995794, 'Pedro'),\n",
       " (0.4142135623730951, 'Adriano'),\n",
       " (0.38742588672279304, 'Claudia'),\n",
       " (0.3483314773547883, 'Leonardo'),\n",
       " (0.3405424265831667, 'Janaina'),\n",
       " (0.29429805508554946, 'Marcos')]"
      ]
     },
     "execution_count": 8,
     "metadata": {},
     "output_type": "execute_result"
    }
   ],
   "source": [
    "getSimilares(avaliacoesUsuario, 'Ana')"
   ]
  },
  {
   "cell_type": "markdown",
   "id": "b3f2e8b6",
   "metadata": {},
   "source": [
    "---"
   ]
  },
  {
   "cell_type": "code",
   "execution_count": 9,
   "id": "2303742d",
   "metadata": {},
   "outputs": [],
   "source": [
    "def getRecomendacoesUsuario(base, usuario):\n",
    "    totais = {}\n",
    "    somaSimilaridade = {}\n",
    "    \n",
    "    for outro in base:\n",
    "        if outro == usuario: continue\n",
    "        similaridade = euclidiana(base, usuario, outro)\n",
    "        \n",
    "        if similaridade <= 0: continue\n",
    "        \n",
    "        for item in base[outro]:\n",
    "            if item not in base[usuario]:\n",
    "                totais.setdefault(item, 0)\n",
    "                totais[item] += base[outro][item] * similaridade\n",
    "                somaSimilaridade.setdefault(item, 0)\n",
    "                somaSimilaridade[item] += similaridade\n",
    "    \n",
    "    rankings = [(total / somaSimilaridade[item], item) for item, total in totais.items()]\n",
    "    rankings.sort(reverse=True)\n",
    "    return rankings[0:30]"
   ]
  },
  {
   "cell_type": "code",
   "execution_count": 10,
   "id": "c2d9f96f",
   "metadata": {},
   "outputs": [
    {
     "data": {
      "text/plain": [
       "[(3.457128694491423, 'Star Wars'),\n",
       " (2.778584003814924, 'Freddy x Jason'),\n",
       " (2.422482042361917, 'Star Trek')]"
      ]
     },
     "execution_count": 10,
     "metadata": {},
     "output_type": "execute_result"
    }
   ],
   "source": [
    "getRecomendacoesUsuario(avaliacoesUsuario, 'Leonardo')"
   ]
  },
  {
   "cell_type": "code",
   "execution_count": 11,
   "id": "fc7a5057",
   "metadata": {},
   "outputs": [
    {
     "data": {
      "text/plain": [
       "[(2.4825817086405517, 'Star Trek'), (2.453379230569188, 'Norbit')]"
      ]
     },
     "execution_count": 11,
     "metadata": {},
     "output_type": "execute_result"
    }
   ],
   "source": [
    "getRecomendacoesUsuario(avaliacoesUsuario, 'Pedro')"
   ]
  },
  {
   "cell_type": "code",
   "execution_count": 12,
   "id": "0c473560",
   "metadata": {},
   "outputs": [
    {
     "data": {
      "text/plain": [
       "[(2.74908990418004, 'Freddy x Jason')]"
      ]
     },
     "execution_count": 12,
     "metadata": {},
     "output_type": "execute_result"
    }
   ],
   "source": [
    "getRecomendacoesUsuario(avaliacoesUsuario, 'Claudia')"
   ]
  },
  {
   "cell_type": "code",
   "execution_count": 13,
   "id": "d81e714b",
   "metadata": {},
   "outputs": [
    {
     "data": {
      "text/plain": [
       "[(2.203053498033553, 'Star Trek')]"
      ]
     },
     "execution_count": 13,
     "metadata": {},
     "output_type": "execute_result"
    }
   ],
   "source": [
    "getRecomendacoesUsuario(avaliacoesUsuario, 'Janaina')"
   ]
  },
  {
   "cell_type": "markdown",
   "id": "96f98acb",
   "metadata": {},
   "source": [
    "---"
   ]
  },
  {
   "cell_type": "code",
   "execution_count": 14,
   "id": "e4804c71",
   "metadata": {},
   "outputs": [],
   "source": [
    "# Colocar os filme nos lugares dos nomes (json)\n",
    "avaliacoesFilme = df_evaluation.to_dict()\n",
    "avaliacoesFilme = simplejson.loads(simplejson.dumps(avaliacoesFilme, ignore_nan=True))"
   ]
  },
  {
   "cell_type": "code",
   "execution_count": 15,
   "id": "2272a41a",
   "metadata": {},
   "outputs": [
    {
     "name": "stdout",
     "output_type": "stream",
     "text": [
      "Freddy x Jason - ['Claudia', 'Leonardo']\n",
      "O Ultimato Bourne - []\n",
      "Star Trek - ['Pedro', 'Janaina', 'Leonardo']\n",
      "Exterminador do Futuro - []\n",
      "Norbit - ['Pedro']\n",
      "Star Wars - ['Leonardo']\n"
     ]
    }
   ],
   "source": [
    "# Remover valores vazios\n",
    "venone = []\n",
    "movies = list(avaliacoesFilme.keys())\n",
    "\n",
    "for i in range(0, len(movies)):\n",
    "    for k, v in avaliacoesFilme[movies[i]].items():\n",
    "        if v is None:\n",
    "            venone.append(k)\n",
    "            \n",
    "    print(f\"{movies[i]} - {venone}\")\n",
    "\n",
    "    for k in venone:\n",
    "        del avaliacoesFilme[movies[i]][k]\n",
    "        \n",
    "    venone.clear()"
   ]
  },
  {
   "cell_type": "code",
   "execution_count": 16,
   "id": "287450e1",
   "metadata": {},
   "outputs": [
    {
     "data": {
      "text/plain": [
       "{'Freddy x Jason': {'Ana': 2.5,\n",
       "  'Marcos': 3.0,\n",
       "  'Pedro': 2.5,\n",
       "  'Adriano': 3.0,\n",
       "  'Janaina': 3.0},\n",
       " 'O Ultimato Bourne': {'Ana': 3.5,\n",
       "  'Marcos': 3.5,\n",
       "  'Pedro': 3.0,\n",
       "  'Claudia': 3.5,\n",
       "  'Adriano': 4.0,\n",
       "  'Janaina': 4.0,\n",
       "  'Leonardo': 4.5},\n",
       " 'Star Trek': {'Ana': 3.0, 'Marcos': 1.5, 'Claudia': 3.0, 'Adriano': 2.0},\n",
       " 'Exterminador do Futuro': {'Ana': 3.5,\n",
       "  'Marcos': 5.0,\n",
       "  'Pedro': 3.5,\n",
       "  'Claudia': 4.0,\n",
       "  'Adriano': 3.0,\n",
       "  'Janaina': 5.0,\n",
       "  'Leonardo': 4.0},\n",
       " 'Norbit': {'Ana': 2.5,\n",
       "  'Marcos': 3.5,\n",
       "  'Claudia': 2.5,\n",
       "  'Adriano': 2.0,\n",
       "  'Janaina': 3.5,\n",
       "  'Leonardo': 1.0},\n",
       " 'Star Wars': {'Ana': 3.0,\n",
       "  'Marcos': 3.0,\n",
       "  'Pedro': 4.0,\n",
       "  'Claudia': 4.5,\n",
       "  'Adriano': 3.0,\n",
       "  'Janaina': 3.0}}"
      ]
     },
     "execution_count": 16,
     "metadata": {},
     "output_type": "execute_result"
    }
   ],
   "source": [
    "avaliacoesFilme"
   ]
  },
  {
   "cell_type": "markdown",
   "id": "2fde2368",
   "metadata": {},
   "source": [
    "---"
   ]
  },
  {
   "cell_type": "code",
   "execution_count": 17,
   "id": "2f1ecedd",
   "metadata": {},
   "outputs": [
    {
     "data": {
      "text/plain": [
       "{'Ana': 3.0,\n",
       " 'Marcos': 3.0,\n",
       " 'Pedro': 4.0,\n",
       " 'Claudia': 4.5,\n",
       " 'Adriano': 3.0,\n",
       " 'Janaina': 3.0}"
      ]
     },
     "execution_count": 17,
     "metadata": {},
     "output_type": "execute_result"
    }
   ],
   "source": [
    "avaliacoesFilme['Star Wars']"
   ]
  },
  {
   "cell_type": "code",
   "execution_count": 18,
   "id": "6737014c",
   "metadata": {},
   "outputs": [
    {
     "data": {
      "text/plain": [
       "3.0"
      ]
     },
     "execution_count": 18,
     "metadata": {},
     "output_type": "execute_result"
    }
   ],
   "source": [
    "avaliacoesFilme['Star Wars']['Ana']"
   ]
  },
  {
   "cell_type": "code",
   "execution_count": 19,
   "id": "d30e2189",
   "metadata": {},
   "outputs": [
    {
     "data": {
      "text/plain": [
       "[(0.38742588672279304, 'Freddy x Jason'),\n",
       " (0.32037724101704074, 'O Ultimato Bourne'),\n",
       " (0.2989350844248255, 'Star Trek'),\n",
       " (0.29429805508554946, 'Norbit'),\n",
       " (0.252650308587072, 'Exterminador do Futuro')]"
      ]
     },
     "execution_count": 19,
     "metadata": {},
     "output_type": "execute_result"
    }
   ],
   "source": [
    "getSimilares(avaliacoesFilme, 'Star Wars')"
   ]
  },
  {
   "cell_type": "code",
   "execution_count": 20,
   "id": "eaf81d05",
   "metadata": {},
   "outputs": [
    {
     "data": {
      "text/plain": [
       "[(0.4494897427831781, 'Freddy x Jason'),\n",
       " (0.32037724101704074, 'Star Trek'),\n",
       " (0.29429805508554946, 'Star Wars'),\n",
       " (0.1918253663634734, 'Exterminador do Futuro'),\n",
       " (0.1886378647726465, 'O Ultimato Bourne')]"
      ]
     },
     "execution_count": 20,
     "metadata": {},
     "output_type": "execute_result"
    }
   ],
   "source": [
    "getSimilares(avaliacoesFilme, 'Norbit')"
   ]
  },
  {
   "cell_type": "code",
   "execution_count": 21,
   "id": "f3cf30fc",
   "metadata": {},
   "outputs": [
    {
     "data": {
      "text/plain": [
       "[(3.581097064761866, 'Janaina'),\n",
       " (3.2059731906295044, 'Pedro'),\n",
       " (2.936629402844435, 'Leonardo')]"
      ]
     },
     "execution_count": 21,
     "metadata": {},
     "output_type": "execute_result"
    }
   ],
   "source": [
    "getRecomendacoesUsuario(avaliacoesFilme, 'Star Trek')"
   ]
  },
  {
   "cell_type": "markdown",
   "id": "a26015b6",
   "metadata": {},
   "source": [
    "___"
   ]
  },
  {
   "cell_type": "code",
   "execution_count": 22,
   "id": "baeebe2f",
   "metadata": {},
   "outputs": [
    {
     "data": {
      "text/plain": [
       "0.32037724101704074"
      ]
     },
     "execution_count": 22,
     "metadata": {},
     "output_type": "execute_result"
    }
   ],
   "source": [
    "euclidiana(avaliacoesUsuario, 'Pedro', 'Janaina')"
   ]
  },
  {
   "cell_type": "code",
   "execution_count": 23,
   "id": "bedb5de1",
   "metadata": {},
   "outputs": [
    {
     "data": {
      "text/plain": [
       "0.2989350844248255"
      ]
     },
     "execution_count": 23,
     "metadata": {},
     "output_type": "execute_result"
    }
   ],
   "source": [
    "euclidiana(avaliacoesFilme, 'Star Wars', 'Star Trek')"
   ]
  },
  {
   "cell_type": "code",
   "execution_count": 24,
   "id": "ac14f444",
   "metadata": {},
   "outputs": [
    {
     "data": {
      "text/plain": [
       "[(0.5358983848622454, 'Claudia'),\n",
       " (0.4721359549995794, 'Ana'),\n",
       " (0.38742588672279304, 'Leonardo'),\n",
       " (0.38742588672279304, 'Adriano'),\n",
       " (0.3405424265831667, 'Marcos'),\n",
       " (0.32037724101704074, 'Janaina')]"
      ]
     },
     "execution_count": 24,
     "metadata": {},
     "output_type": "execute_result"
    }
   ],
   "source": [
    "getSimilares(avaliacoesUsuario, 'Pedro')"
   ]
  },
  {
   "cell_type": "code",
   "execution_count": 25,
   "id": "f6905bd8",
   "metadata": {},
   "outputs": [
    {
     "data": {
      "text/plain": [
       "[(0.38742588672279304, 'Freddy x Jason'),\n",
       " (0.32037724101704074, 'O Ultimato Bourne'),\n",
       " (0.2989350844248255, 'Star Trek'),\n",
       " (0.29429805508554946, 'Norbit'),\n",
       " (0.252650308587072, 'Exterminador do Futuro')]"
      ]
     },
     "execution_count": 25,
     "metadata": {},
     "output_type": "execute_result"
    }
   ],
   "source": [
    "getSimilares(avaliacoesFilme, 'Star Wars')"
   ]
  },
  {
   "cell_type": "code",
   "execution_count": 26,
   "id": "7930c520",
   "metadata": {},
   "outputs": [
    {
     "data": {
      "text/plain": [
       "[(3.457128694491423, 'Star Wars'),\n",
       " (2.778584003814924, 'Freddy x Jason'),\n",
       " (2.422482042361917, 'Star Trek')]"
      ]
     },
     "execution_count": 26,
     "metadata": {},
     "output_type": "execute_result"
    }
   ],
   "source": [
    "getRecomendacoesUsuario(avaliacoesUsuario, 'Leonardo')"
   ]
  },
  {
   "cell_type": "code",
   "execution_count": 27,
   "id": "c7b91d25",
   "metadata": {},
   "outputs": [
    {
     "data": {
      "text/plain": [
       "[(3.1667425234070894, 'Leonardo')]"
      ]
     },
     "execution_count": 27,
     "metadata": {},
     "output_type": "execute_result"
    }
   ],
   "source": [
    "getRecomendacoesUsuario(avaliacoesFilme, 'Star Wars')"
   ]
  },
  {
   "cell_type": "markdown",
   "id": "f5178dd2",
   "metadata": {},
   "source": [
    "---"
   ]
  },
  {
   "cell_type": "code",
   "execution_count": 28,
   "id": "ab600932",
   "metadata": {},
   "outputs": [],
   "source": [
    "def carregaMovieLens(path='Arquivos/ml-100k'):\n",
    "    filmes = {}\n",
    "    for linha in open(path + '/u.item'):\n",
    "        (id, titulo) = linha.split('|')[0:2]\n",
    "        filmes[id] = titulo\n",
    "    # print(filmes)\n",
    "    \n",
    "    base = {}\n",
    "    for linha in open(path + '/u.data'):\n",
    "        (usuario, idfilme, nota, tempo) = linha.split('\\t')\n",
    "        base.setdefault(usuario, {})\n",
    "        base[usuario][filmes[idfilme]] = float(nota)\n",
    "    return base"
   ]
  },
  {
   "cell_type": "code",
   "execution_count": 29,
   "id": "b53a21b3",
   "metadata": {},
   "outputs": [],
   "source": [
    "def calculaItensSimilares(base):\n",
    "    result = {}\n",
    "    for item in base:\n",
    "        notas = getSimilares(base, item)\n",
    "        result[item] = notas\n",
    "    return result"
   ]
  },
  {
   "cell_type": "code",
   "execution_count": 30,
   "id": "155b97ff",
   "metadata": {},
   "outputs": [],
   "source": [
    "def getRecomendacoesItens (baseUsuario, similaridadeItens, usuario):\n",
    "    notasUsuario = baseUsuario[usuario]\n",
    "    notas = {}\n",
    "    totalSimilaridade = {}\n",
    "    for (item, nota) in notasUsuario.items():\n",
    "        for (similaridade, item2) in similaridadeItens[item]:\n",
    "            if item2 in notasUsuario: continue\n",
    "            notas.setdefault(item2, 0)\n",
    "            notas[item2] += similaridade * nota\n",
    "            totalSimilaridade.setdefault(item2, 0)\n",
    "            totalSimilaridade[item2] += similaridade\n",
    "    rankings = [(score/totalSimilaridade[item], item) for item, score in notas.items()]\n",
    "    rankings.sort(reverse=True)\n",
    "    return rankings"
   ]
  },
  {
   "cell_type": "code",
   "execution_count": null,
   "id": "56bde610",
   "metadata": {},
   "outputs": [],
   "source": []
  }
 ],
 "metadata": {
  "kernelspec": {
   "display_name": "Python 3",
   "language": "python",
   "name": "python3"
  },
  "language_info": {
   "codemirror_mode": {
    "name": "ipython",
    "version": 3
   },
   "file_extension": ".py",
   "mimetype": "text/x-python",
   "name": "python",
   "nbconvert_exporter": "python",
   "pygments_lexer": "ipython3",
   "version": "3.8.8"
  }
 },
 "nbformat": 4,
 "nbformat_minor": 5
}
