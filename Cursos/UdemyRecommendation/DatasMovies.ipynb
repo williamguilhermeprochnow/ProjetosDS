{
 "cells": [
  {
   "cell_type": "code",
   "execution_count": 1,
   "id": "8404dd51",
   "metadata": {},
   "outputs": [
    {
     "name": "stdout",
     "output_type": "stream",
     "text": [
      "<class 'pandas.core.frame.DataFrame'>\n",
      "Index: 7 entries, Ana to Leonardo\n",
      "Data columns (total 6 columns):\n",
      " #   Column                  Non-Null Count  Dtype  \n",
      "---  ------                  --------------  -----  \n",
      " 0   Freddy x Jason          5 non-null      float64\n",
      " 1   O Ultimato Bourne       7 non-null      float64\n",
      " 2   Star Trek               4 non-null      float64\n",
      " 3   Exterminador do Futuro  7 non-null      float64\n",
      " 4   Norbit                  6 non-null      float64\n",
      " 5   Star Wars               6 non-null      float64\n",
      "dtypes: float64(6)\n",
      "memory usage: 392.0+ bytes\n",
      "Freddy x Jason - ['Claudia', 'Leonardo']\n",
      "O Ultimato Bourne - []\n",
      "Star Trek - ['Pedro', 'Janaina', 'Leonardo']\n",
      "Exterminador do Futuro - []\n",
      "Norbit - ['Pedro']\n",
      "Star Wars - ['Leonardo']\n"
     ]
    }
   ],
   "source": [
    "%run recommendation.ipynb"
   ]
  },
  {
   "cell_type": "code",
   "execution_count": 2,
   "id": "a2c634b6",
   "metadata": {},
   "outputs": [],
   "source": [
    "base = carregaMovieLens()"
   ]
  },
  {
   "cell_type": "code",
   "execution_count": 3,
   "id": "6f86eac7",
   "metadata": {},
   "outputs": [
    {
     "data": {
      "text/plain": [
       "[(1.0, '915'),\n",
       " (1.0, '866'),\n",
       " (1.0, '856'),\n",
       " (1.0, '850'),\n",
       " (1.0, '849'),\n",
       " (1.0, '837'),\n",
       " (1.0, '820'),\n",
       " (1.0, '818'),\n",
       " (1.0, '81'),\n",
       " (1.0, '809'),\n",
       " (1.0, '808'),\n",
       " (1.0, '801'),\n",
       " (1.0, '78'),\n",
       " (1.0, '770'),\n",
       " (1.0, '759'),\n",
       " (1.0, '75'),\n",
       " (1.0, '722'),\n",
       " (1.0, '71'),\n",
       " (1.0, '612'),\n",
       " (1.0, '61'),\n",
       " (1.0, '596'),\n",
       " (1.0, '584'),\n",
       " (1.0, '583'),\n",
       " (1.0, '580'),\n",
       " (1.0, '575'),\n",
       " (1.0, '572'),\n",
       " (1.0, '57'),\n",
       " (1.0, '547'),\n",
       " (1.0, '544'),\n",
       " (1.0, '53')]"
      ]
     },
     "execution_count": 3,
     "metadata": {},
     "output_type": "execute_result"
    }
   ],
   "source": [
    "getSimilares(base, '212')"
   ]
  },
  {
   "cell_type": "code",
   "execution_count": 4,
   "id": "2e2a04aa",
   "metadata": {},
   "outputs": [
    {
     "data": {
      "text/plain": [
       "[(1.0, '812'),\n",
       " (1.0, '418'),\n",
       " (1.0, '155'),\n",
       " (0.5, '729'),\n",
       " (0.5, '631'),\n",
       " (0.5, '351'),\n",
       " (0.5, '309'),\n",
       " (0.5, '273'),\n",
       " (0.4142135623730951, '876'),\n",
       " (0.4142135623730951, '485'),\n",
       " (0.4142135623730951, '111'),\n",
       " (0.36602540378443865, '687'),\n",
       " (0.36602540378443865, '105'),\n",
       " (0.3333333333333333, '895'),\n",
       " (0.3333333333333333, '811'),\n",
       " (0.3333333333333333, '685'),\n",
       " (0.3333333333333333, '531'),\n",
       " (0.3333333333333333, '39'),\n",
       " (0.3333333333333333, '356'),\n",
       " (0.3333333333333333, '341'),\n",
       " (0.3333333333333333, '282'),\n",
       " (0.3333333333333333, '260'),\n",
       " (0.3333333333333333, '107'),\n",
       " (0.3090169943749474, '9'),\n",
       " (0.3090169943749474, '842'),\n",
       " (0.3090169943749474, '820'),\n",
       " (0.3090169943749474, '696'),\n",
       " (0.3090169943749474, '547'),\n",
       " (0.3090169943749474, '520'),\n",
       " (0.3090169943749474, '516')]"
      ]
     },
     "execution_count": 4,
     "metadata": {},
     "output_type": "execute_result"
    }
   ],
   "source": [
    "getSimilares(base, '1')"
   ]
  },
  {
   "cell_type": "code",
   "execution_count": 5,
   "id": "0278f3a5",
   "metadata": {},
   "outputs": [
    {
     "data": {
      "text/plain": [
       "[(5.0, 'They Made Me a Criminal (1939)'),\n",
       " (5.0, 'Star Kid (1997)'),\n",
       " (5.0, \"Someone Else's America (1995)\"),\n",
       " (5.0, 'Santa with Muscles (1996)'),\n",
       " (5.0, 'Saint of Fort Washington, The (1993)'),\n",
       " (5.0, 'Prefontaine (1997)'),\n",
       " (5.0, 'Marlene Dietrich: Shadow and Light (1996) '),\n",
       " (5.0, 'Great Day in Harlem, A (1994)'),\n",
       " (5.0, 'Entertaining Angels: The Dorothy Day Story (1996)'),\n",
       " (5.0, 'Aiqing wansui (1994)'),\n",
       " (4.678464513946264, 'Delta of Venus (1994)'),\n",
       " (4.669110773445877, 'Innocents, The (1961)'),\n",
       " (4.6679881166781785, 'Pather Panchali (1955)'),\n",
       " (4.643210827674669, 'Letter From Death Row, A (1998)'),\n",
       " (4.636191497550252, 'Maya Lin: A Strong Clear Vision (1994)'),\n",
       " (4.6151289598408765, 'Anna (1996)'),\n",
       " (4.558310593401602, \"Some Mother's Son (1996)\"),\n",
       " (4.493969532782648, 'Shawshank Redemption, The (1994)'),\n",
       " (4.481115124220606, 'Leading Man, The (1996)'),\n",
       " (4.45837363085848, 'For the Moment (1994)'),\n",
       " (4.457258689756284, 'Third Man, The (1949)'),\n",
       " (4.445996248823582, 'Casablanca (1942)'),\n",
       " (4.431685947747432, 'Everest (1998)'),\n",
       " (4.42978055610852, 'Bitter Sugar (Azucar Amargo) (1996)'),\n",
       " (4.407495008220233, 'Rear Window (1954)'),\n",
       " (4.4065569308647765, 'Usual Suspects, The (1995)'),\n",
       " (4.378592892105554, 'Golden Earrings (1947)'),\n",
       " (4.367916150868721, 'Close Shave, A (1995)'),\n",
       " (4.367825982472788, 'Magic Hour, The (1998)'),\n",
       " (4.367501452423068, 'Wallace & Gromit: The Best of Aardman Animation (1996)')]"
      ]
     },
     "execution_count": 5,
     "metadata": {},
     "output_type": "execute_result"
    }
   ],
   "source": [
    "getRecomendacoesUsuario(base, '212')"
   ]
  },
  {
   "cell_type": "code",
   "execution_count": 6,
   "id": "fee0d41f",
   "metadata": {},
   "outputs": [
    {
     "data": {
      "text/plain": [
       "[(5.000000000000001, 'Saint of Fort Washington, The (1993)'),\n",
       " (5.0, 'They Made Me a Criminal (1939)'),\n",
       " (5.0, \"Someone Else's America (1995)\"),\n",
       " (5.0, 'Santa with Muscles (1996)'),\n",
       " (5.0, 'Prefontaine (1997)'),\n",
       " (5.0, 'Marlene Dietrich: Shadow and Light (1996) '),\n",
       " (5.0, 'Great Day in Harlem, A (1994)'),\n",
       " (5.0, 'Entertaining Angels: The Dorothy Day Story (1996)'),\n",
       " (5.0, 'Aiqing wansui (1994)'),\n",
       " (4.999999999999999, 'Star Kid (1997)'),\n",
       " (4.709540786352371, 'Pather Panchali (1955)'),\n",
       " (4.623660893418929, \"Some Mother's Son (1996)\"),\n",
       " (4.605117943969987, 'Anna (1996)'),\n",
       " (4.542493480195261, 'Letter From Death Row, A (1998)'),\n",
       " (4.514686319613309, 'Close Shave, A (1995)'),\n",
       " (4.503301065093885, \"Schindler's List (1993)\"),\n",
       " (4.474029296757844, 'Casablanca (1942)'),\n",
       " (4.44823347681708, 'Third Man, The (1949)'),\n",
       " (4.4388914364740515, 'Faust (1994)'),\n",
       " (4.412532456819868, 'Everest (1998)'),\n",
       " (4.402793159814662, 'Rear Window (1954)'),\n",
       " (4.364687978517131, 'Bitter Sugar (Azucar Amargo) (1996)'),\n",
       " (4.331480711411843, 'Secrets & Lies (1996)'),\n",
       " (4.33115138680285, 'Stonewall (1995)'),\n",
       " (4.326873957991623, 'North by Northwest (1959)'),\n",
       " (4.317101121475913, \"One Flew Over the Cuckoo's Nest (1975)\"),\n",
       " (4.310897076014406, 'To Kill a Mockingbird (1962)'),\n",
       " (4.303959889860895, 'Kaspar Hauser (1993)'),\n",
       " (4.303538676927596, 'Lawrence of Arabia (1962)'),\n",
       " (4.28865836532846, 'Manchurian Candidate, The (1962)')]"
      ]
     },
     "execution_count": 6,
     "metadata": {},
     "output_type": "execute_result"
    }
   ],
   "source": [
    "getRecomendacoesUsuario(base, '1')"
   ]
  },
  {
   "cell_type": "markdown",
   "id": "1e81460f",
   "metadata": {},
   "source": [
    "---"
   ]
  },
  {
   "cell_type": "code",
   "execution_count": 7,
   "id": "5a7021b1",
   "metadata": {},
   "outputs": [
    {
     "data": {
      "text/plain": [
       "{'O Ultimato Bourne': 4.5, 'Norbit': 1.0, 'Exterminador do Futuro': 4.0}"
      ]
     },
     "execution_count": 7,
     "metadata": {},
     "output_type": "execute_result"
    }
   ],
   "source": [
    "avaliacoesUsuario['Leonardo']"
   ]
  },
  {
   "cell_type": "code",
   "execution_count": 8,
   "id": "ce98ea99",
   "metadata": {},
   "outputs": [
    {
     "data": {
      "text/plain": [
       "[(0.3483314773547883, 'Freddy x Jason'),\n",
       " (0.32037724101704074, 'Star Wars'),\n",
       " (0.3090169943749474, 'Exterminador do Futuro'),\n",
       " (0.2553967929896867, 'Star Trek'),\n",
       " (0.1886378647726465, 'Norbit')]"
      ]
     },
     "execution_count": 8,
     "metadata": {},
     "output_type": "execute_result"
    }
   ],
   "source": [
    "getSimilares(avaliacoesFilme, 'O Ultimato Bourne')"
   ]
  },
  {
   "cell_type": "code",
   "execution_count": 9,
   "id": "4b24c93e",
   "metadata": {},
   "outputs": [
    {
     "data": {
      "text/plain": [
       "[(0.3090169943749474, 'O Ultimato Bourne'),\n",
       " (0.252650308587072, 'Star Wars'),\n",
       " (0.2402530733520421, 'Freddy x Jason'),\n",
       " (0.20799159651347807, 'Star Trek'),\n",
       " (0.1918253663634734, 'Norbit')]"
      ]
     },
     "execution_count": 9,
     "metadata": {},
     "output_type": "execute_result"
    }
   ],
   "source": [
    "getSimilares(avaliacoesFilme, 'Exterminador do Futuro')"
   ]
  },
  {
   "cell_type": "code",
   "execution_count": 10,
   "id": "845f395f",
   "metadata": {},
   "outputs": [
    {
     "data": {
      "text/plain": [
       "[(0.4494897427831781, 'Freddy x Jason'),\n",
       " (0.32037724101704074, 'Star Trek'),\n",
       " (0.29429805508554946, 'Star Wars'),\n",
       " (0.1918253663634734, 'Exterminador do Futuro'),\n",
       " (0.1886378647726465, 'O Ultimato Bourne')]"
      ]
     },
     "execution_count": 10,
     "metadata": {},
     "output_type": "execute_result"
    }
   ],
   "source": [
    "getSimilares(avaliacoesFilme, 'Norbit')"
   ]
  },
  {
   "cell_type": "markdown",
   "id": "503e7765",
   "metadata": {},
   "source": [
    "---"
   ]
  },
  {
   "cell_type": "code",
   "execution_count": 11,
   "id": "769d732d",
   "metadata": {},
   "outputs": [
    {
     "data": {
      "text/plain": [
       "[(0.3483314773547883, 'Freddy x Jason'),\n",
       " (0.32037724101704074, 'Norbit'),\n",
       " (0.2989350844248255, 'Star Wars'),\n",
       " (0.2553967929896867, 'O Ultimato Bourne'),\n",
       " (0.20799159651347807, 'Exterminador do Futuro')]"
      ]
     },
     "execution_count": 11,
     "metadata": {},
     "output_type": "execute_result"
    }
   ],
   "source": [
    "getSimilares(avaliacoesFilme, 'Star Trek')"
   ]
  },
  {
   "cell_type": "code",
   "execution_count": 12,
   "id": "18a03cb2",
   "metadata": {},
   "outputs": [
    {
     "data": {
      "text/plain": [
       "{'Freddy x Jason': [(0.4494897427831781, 'Norbit'),\n",
       "  (0.38742588672279304, 'Star Wars'),\n",
       "  (0.3483314773547883, 'Star Trek'),\n",
       "  (0.3483314773547883, 'O Ultimato Bourne'),\n",
       "  (0.2402530733520421, 'Exterminador do Futuro')],\n",
       " 'O Ultimato Bourne': [(0.3483314773547883, 'Freddy x Jason'),\n",
       "  (0.32037724101704074, 'Star Wars'),\n",
       "  (0.3090169943749474, 'Exterminador do Futuro'),\n",
       "  (0.2553967929896867, 'Star Trek'),\n",
       "  (0.1886378647726465, 'Norbit')],\n",
       " 'Star Trek': [(0.3483314773547883, 'Freddy x Jason'),\n",
       "  (0.32037724101704074, 'Norbit'),\n",
       "  (0.2989350844248255, 'Star Wars'),\n",
       "  (0.2553967929896867, 'O Ultimato Bourne'),\n",
       "  (0.20799159651347807, 'Exterminador do Futuro')],\n",
       " 'Exterminador do Futuro': [(0.3090169943749474, 'O Ultimato Bourne'),\n",
       "  (0.252650308587072, 'Star Wars'),\n",
       "  (0.2402530733520421, 'Freddy x Jason'),\n",
       "  (0.20799159651347807, 'Star Trek'),\n",
       "  (0.1918253663634734, 'Norbit')],\n",
       " 'Norbit': [(0.4494897427831781, 'Freddy x Jason'),\n",
       "  (0.32037724101704074, 'Star Trek'),\n",
       "  (0.29429805508554946, 'Star Wars'),\n",
       "  (0.1918253663634734, 'Exterminador do Futuro'),\n",
       "  (0.1886378647726465, 'O Ultimato Bourne')],\n",
       " 'Star Wars': [(0.38742588672279304, 'Freddy x Jason'),\n",
       "  (0.32037724101704074, 'O Ultimato Bourne'),\n",
       "  (0.2989350844248255, 'Star Trek'),\n",
       "  (0.29429805508554946, 'Norbit'),\n",
       "  (0.252650308587072, 'Exterminador do Futuro')]}"
      ]
     },
     "execution_count": 12,
     "metadata": {},
     "output_type": "execute_result"
    }
   ],
   "source": [
    "itensSimilares = calculaItensSimilares(avaliacoesFilme)\n",
    "itensSimilares"
   ]
  },
  {
   "cell_type": "markdown",
   "id": "ff674bf8",
   "metadata": {},
   "source": [
    "___"
   ]
  },
  {
   "cell_type": "code",
   "execution_count": 13,
   "id": "e2b1906a",
   "metadata": {},
   "outputs": [
    {
     "data": {
      "text/plain": [
       "[(3.457128694491423, 'Star Wars'),\n",
       " (2.778584003814924, 'Freddy x Jason'),\n",
       " (2.422482042361917, 'Star Trek')]"
      ]
     },
     "execution_count": 13,
     "metadata": {},
     "output_type": "execute_result"
    }
   ],
   "source": [
    "getRecomendacoesUsuario(avaliacoesUsuario, 'Leonardo')"
   ]
  },
  {
   "cell_type": "code",
   "execution_count": 14,
   "id": "fc12ee0b",
   "metadata": {},
   "outputs": [
    {
     "data": {
      "text/plain": [
       "{'Freddy x Jason': [(0.4494897427831781, 'Norbit'),\n",
       "  (0.38742588672279304, 'Star Wars'),\n",
       "  (0.3483314773547883, 'Star Trek'),\n",
       "  (0.3483314773547883, 'O Ultimato Bourne'),\n",
       "  (0.2402530733520421, 'Exterminador do Futuro')],\n",
       " 'O Ultimato Bourne': [(0.3483314773547883, 'Freddy x Jason'),\n",
       "  (0.32037724101704074, 'Star Wars'),\n",
       "  (0.3090169943749474, 'Exterminador do Futuro'),\n",
       "  (0.2553967929896867, 'Star Trek'),\n",
       "  (0.1886378647726465, 'Norbit')],\n",
       " 'Star Trek': [(0.3483314773547883, 'Freddy x Jason'),\n",
       "  (0.32037724101704074, 'Norbit'),\n",
       "  (0.2989350844248255, 'Star Wars'),\n",
       "  (0.2553967929896867, 'O Ultimato Bourne'),\n",
       "  (0.20799159651347807, 'Exterminador do Futuro')],\n",
       " 'Exterminador do Futuro': [(0.3090169943749474, 'O Ultimato Bourne'),\n",
       "  (0.252650308587072, 'Star Wars'),\n",
       "  (0.2402530733520421, 'Freddy x Jason'),\n",
       "  (0.20799159651347807, 'Star Trek'),\n",
       "  (0.1918253663634734, 'Norbit')],\n",
       " 'Norbit': [(0.4494897427831781, 'Freddy x Jason'),\n",
       "  (0.32037724101704074, 'Star Trek'),\n",
       "  (0.29429805508554946, 'Star Wars'),\n",
       "  (0.1918253663634734, 'Exterminador do Futuro'),\n",
       "  (0.1886378647726465, 'O Ultimato Bourne')],\n",
       " 'Star Wars': [(0.38742588672279304, 'Freddy x Jason'),\n",
       "  (0.32037724101704074, 'O Ultimato Bourne'),\n",
       "  (0.2989350844248255, 'Star Trek'),\n",
       "  (0.29429805508554946, 'Norbit'),\n",
       "  (0.252650308587072, 'Exterminador do Futuro')]}"
      ]
     },
     "execution_count": 14,
     "metadata": {},
     "output_type": "execute_result"
    }
   ],
   "source": [
    "listaitens = calculaItensSimilares(avaliacoesFilme)\n",
    "listaitens"
   ]
  },
  {
   "cell_type": "code",
   "execution_count": 15,
   "id": "c8e483e0",
   "metadata": {},
   "outputs": [
    {
     "data": {
      "text/plain": [
       "[(3.1667425234070894, 'Star Wars'),\n",
       " (2.9366294028444346, 'Star Trek'),\n",
       " (2.868767392626467, 'Freddy x Jason')]"
      ]
     },
     "execution_count": 15,
     "metadata": {},
     "output_type": "execute_result"
    }
   ],
   "source": [
    "getRecomendacoesItens(avaliacoesUsuario, listaitens, 'Leonardo')"
   ]
  },
  {
   "cell_type": "code",
   "execution_count": null,
   "id": "a5232168",
   "metadata": {},
   "outputs": [],
   "source": []
  }
 ],
 "metadata": {
  "kernelspec": {
   "display_name": "Python 3",
   "language": "python",
   "name": "python3"
  },
  "language_info": {
   "codemirror_mode": {
    "name": "ipython",
    "version": 3
   },
   "file_extension": ".py",
   "mimetype": "text/x-python",
   "name": "python",
   "nbconvert_exporter": "python",
   "pygments_lexer": "ipython3",
   "version": "3.8.8"
  }
 },
 "nbformat": 4,
 "nbformat_minor": 5
}
