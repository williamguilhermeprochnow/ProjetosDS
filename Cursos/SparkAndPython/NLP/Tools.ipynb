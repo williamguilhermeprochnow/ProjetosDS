{
 "cells": [
  {
   "cell_type": "code",
   "execution_count": 1,
   "id": "9b8dae22",
   "metadata": {},
   "outputs": [],
   "source": [
    "#import sys\n",
    "#print(sys.executable) = environment variable PYSPARK_PYTHON\n",
    "\n",
    "from pyspark.sql import SparkSession\n",
    "spark = SparkSession.builder.appName('tools').getOrCreate()"
   ]
  },
  {
   "cell_type": "code",
   "execution_count": 2,
   "id": "058e2280",
   "metadata": {},
   "outputs": [],
   "source": [
    "from pyspark.ml.feature import HashingTF, IDF, Tokenizer, CountVectorizer"
   ]
  },
  {
   "cell_type": "code",
   "execution_count": 3,
   "id": "1f9f0778",
   "metadata": {},
   "outputs": [
    {
     "name": "stdout",
     "output_type": "stream",
     "text": [
      "root\n",
      " |-- label: double (nullable = true)\n",
      " |-- sentence: string (nullable = true)\n",
      "\n"
     ]
    }
   ],
   "source": [
    "df_sentence = spark.createDataFrame([(0.0, 'Hi i heard about Spark'),\n",
    "                                     (0.0, 'I wish java could use case classes'),\n",
    "                                     (1.0, 'Logistic regression models are neat')],\n",
    "                                    ['label', 'sentence'])\n",
    "\n",
    "df_sentence.printSchema()"
   ]
  },
  {
   "cell_type": "code",
   "execution_count": 4,
   "id": "eafa0ddc",
   "metadata": {},
   "outputs": [
    {
     "name": "stdout",
     "output_type": "stream",
     "text": [
      "+-----+--------------------+\n",
      "|label|            sentence|\n",
      "+-----+--------------------+\n",
      "|  0.0|Hi i heard about ...|\n",
      "|  0.0|I wish java could...|\n",
      "|  1.0|Logistic regressi...|\n",
      "+-----+--------------------+\n",
      "\n"
     ]
    }
   ],
   "source": [
    "df_sentence.show()"
   ]
  },
  {
   "cell_type": "code",
   "execution_count": 5,
   "id": "cac1bdb5",
   "metadata": {},
   "outputs": [],
   "source": [
    "tokenizer = Tokenizer(inputCol='sentence', outputCol='words')"
   ]
  },
  {
   "cell_type": "code",
   "execution_count": 6,
   "id": "e6e7f336",
   "metadata": {},
   "outputs": [],
   "source": [
    "words_data = tokenizer.transform(df_sentence)"
   ]
  },
  {
   "cell_type": "code",
   "execution_count": 7,
   "id": "8110afd0",
   "metadata": {},
   "outputs": [
    {
     "name": "stdout",
     "output_type": "stream",
     "text": [
      "+-----+-----------------------------------+------------------------------------------+\n",
      "|label|sentence                           |words                                     |\n",
      "+-----+-----------------------------------+------------------------------------------+\n",
      "|0.0  |Hi i heard about Spark             |[hi, i, heard, about, spark]              |\n",
      "|0.0  |I wish java could use case classes |[i, wish, java, could, use, case, classes]|\n",
      "|1.0  |Logistic regression models are neat|[logistic, regression, models, are, neat] |\n",
      "+-----+-----------------------------------+------------------------------------------+\n",
      "\n"
     ]
    }
   ],
   "source": [
    "words_data.show(truncate=False)"
   ]
  },
  {
   "cell_type": "code",
   "execution_count": 8,
   "id": "c6189991",
   "metadata": {},
   "outputs": [],
   "source": [
    "hashing_tf = HashingTF(inputCol='words', outputCol='rawFeatures')"
   ]
  },
  {
   "cell_type": "code",
   "execution_count": 9,
   "id": "cfe4bcae",
   "metadata": {},
   "outputs": [],
   "source": [
    "featurized_data = hashing_tf.transform(words_data)"
   ]
  },
  {
   "cell_type": "code",
   "execution_count": 10,
   "id": "d9cf653e",
   "metadata": {},
   "outputs": [],
   "source": [
    "idf = IDF(inputCol='rawFeatures', outputCol='features')"
   ]
  },
  {
   "cell_type": "code",
   "execution_count": 11,
   "id": "8f203f5a",
   "metadata": {},
   "outputs": [],
   "source": [
    "idf_model = idf.fit(featurized_data)"
   ]
  },
  {
   "cell_type": "code",
   "execution_count": 12,
   "id": "d5803b7d",
   "metadata": {},
   "outputs": [],
   "source": [
    "rescaled_data = idf_model.transform(featurized_data)"
   ]
  },
  {
   "cell_type": "code",
   "execution_count": 13,
   "id": "e64705af",
   "metadata": {},
   "outputs": [
    {
     "name": "stdout",
     "output_type": "stream",
     "text": [
      "+-----+--------------------+\n",
      "|label|            features|\n",
      "+-----+--------------------+\n",
      "|  0.0|(262144,[18700,19...|\n",
      "|  0.0|(262144,[19036,20...|\n",
      "|  1.0|(262144,[46243,58...|\n",
      "+-----+--------------------+\n",
      "\n"
     ]
    }
   ],
   "source": [
    "rescaled_data.select('label', 'features').show()"
   ]
  },
  {
   "cell_type": "code",
   "execution_count": 14,
   "id": "de5b362f",
   "metadata": {},
   "outputs": [],
   "source": [
    "df = spark.createDataFrame([(0, \"a b c\".split(\" \")),\n",
    "                            (1, \"a b b c a\".split(\" \"))],\n",
    "                           [\"id\", \"words\"])"
   ]
  },
  {
   "cell_type": "code",
   "execution_count": 15,
   "id": "a1b2d124",
   "metadata": {},
   "outputs": [
    {
     "name": "stdout",
     "output_type": "stream",
     "text": [
      "+---+---------------+\n",
      "| id|          words|\n",
      "+---+---------------+\n",
      "|  0|      [a, b, c]|\n",
      "|  1|[a, b, b, c, a]|\n",
      "+---+---------------+\n",
      "\n"
     ]
    }
   ],
   "source": [
    "df.show()"
   ]
  },
  {
   "cell_type": "code",
   "execution_count": 16,
   "id": "6f1884a6",
   "metadata": {},
   "outputs": [],
   "source": [
    "cv = CountVectorizer(inputCol='words', outputCol='feature', vocabSize=3, minDF=2.0)"
   ]
  },
  {
   "cell_type": "code",
   "execution_count": 17,
   "id": "4ddc2363",
   "metadata": {},
   "outputs": [],
   "source": [
    "model = cv.fit(df)"
   ]
  },
  {
   "cell_type": "code",
   "execution_count": 18,
   "id": "77b35dd0",
   "metadata": {},
   "outputs": [],
   "source": [
    "result = model.transform(df)"
   ]
  },
  {
   "cell_type": "code",
   "execution_count": 19,
   "id": "9ac90492",
   "metadata": {},
   "outputs": [
    {
     "name": "stdout",
     "output_type": "stream",
     "text": [
      "+---+---------------+-------------------------+\n",
      "|id |words          |feature                  |\n",
      "+---+---------------+-------------------------+\n",
      "|0  |[a, b, c]      |(3,[0,1,2],[1.0,1.0,1.0])|\n",
      "|1  |[a, b, b, c, a]|(3,[0,1,2],[2.0,2.0,1.0])|\n",
      "+---+---------------+-------------------------+\n",
      "\n"
     ]
    }
   ],
   "source": [
    "result.show(truncate=False)"
   ]
  },
  {
   "cell_type": "code",
   "execution_count": null,
   "id": "09fcab62",
   "metadata": {},
   "outputs": [],
   "source": []
  }
 ],
 "metadata": {
  "kernelspec": {
   "display_name": "Python 3",
   "language": "python",
   "name": "python3"
  },
  "language_info": {
   "codemirror_mode": {
    "name": "ipython",
    "version": 3
   },
   "file_extension": ".py",
   "mimetype": "text/x-python",
   "name": "python",
   "nbconvert_exporter": "python",
   "pygments_lexer": "ipython3",
   "version": "3.8.8"
  }
 },
 "nbformat": 4,
 "nbformat_minor": 5
}
