{
 "cells": [
  {
   "cell_type": "code",
   "execution_count": 29,
   "id": "a562dab3",
   "metadata": {},
   "outputs": [],
   "source": [
    "from pyspark.sql import SparkSession, types\n",
    "spark = SparkSession.builder.appName('logreconsult').getOrCreate()\n",
    "\n",
    "from pyspark.ml.feature import VectorAssembler\n",
    "from pyspark.ml.classification import LogisticRegression\n",
    "from pyspark.ml.evaluation import BinaryClassificationEvaluator"
   ]
  },
  {
   "cell_type": "code",
   "execution_count": 41,
   "id": "711e04f5",
   "metadata": {},
   "outputs": [
    {
     "name": "stdout",
     "output_type": "stream",
     "text": [
      "root\n",
      " |-- Names: string (nullable = true)\n",
      " |-- Age: double (nullable = true)\n",
      " |-- Total_Purchase: double (nullable = true)\n",
      " |-- Account_Manager: integer (nullable = true)\n",
      " |-- Years: double (nullable = true)\n",
      " |-- Num_Sites: double (nullable = true)\n",
      " |-- Onboard_date: timestamp (nullable = true)\n",
      " |-- Location: string (nullable = true)\n",
      " |-- Company: string (nullable = true)\n",
      " |-- Churn: integer (nullable = true)\n",
      "\n"
     ]
    }
   ],
   "source": [
    "schema_df = types.StructType([types.StructField('Names', types.StringType()),\n",
    "                              types.StructField('Age', types.DoubleType()),\n",
    "                              types.StructField('Total_Purchase', types.DoubleType()),\n",
    "                              types.StructField('Account_Manager', types.IntegerType()), \n",
    "                              types.StructField('Years', types.DoubleType()),\n",
    "                              types.StructField('Num_Sites', types.DoubleType()),\n",
    "                              types.StructField('Onboard_date', types.TimestampType()),\n",
    "                              types.StructField('Location', types.StringType()),\n",
    "                              types.StructField('Company', types.StringType()),\n",
    "                              types.StructField('Churn', types.IntegerType())])\n",
    "\n",
    "df = spark.read.csv('../Arquivos/customer_churn.csv', schema_df, header=True)\n",
    "df.printSchema()"
   ]
  },
  {
   "cell_type": "code",
   "execution_count": 18,
   "id": "f1e88fe2",
   "metadata": {},
   "outputs": [
    {
     "name": "stdout",
     "output_type": "stream",
     "text": [
      "+----------------+----+--------------+---------------+-----+---------+-------------------+--------------------+--------------------+-----+\n",
      "|           Names| Age|Total_Purchase|Account_Manager|Years|Num_Sites|       Onboard_date|            Location|             Company|Churn|\n",
      "+----------------+----+--------------+---------------+-----+---------+-------------------+--------------------+--------------------+-----+\n",
      "|Cameron Williams|42.0|       11066.8|              0| 7.22|      8.0|2013-08-30 07:00:40|10265 Elizabeth M...|          Harvey LLC|    1|\n",
      "|   Kevin Mueller|41.0|      11916.22|              0|  6.5|     11.0|2013-08-13 00:38:46|6157 Frank Garden...|          Wilson PLC|    1|\n",
      "|     Eric Lozano|38.0|      12884.75|              0| 6.67|     12.0|2016-06-29 06:20:07|1331 Keith Court ...|Miller, Johnson a...|    1|\n",
      "|   Phillip White|42.0|       8010.76|              0| 6.71|     10.0|2014-04-22 12:43:12|13120 Daniel Moun...|           Smith Inc|    1|\n",
      "|  Cynthia Norton|37.0|       9191.58|              0| 5.56|      9.0|2016-01-19 15:31:15|765 Tricia Row Ka...|          Love-Jones|    1|\n",
      "+----------------+----+--------------+---------------+-----+---------+-------------------+--------------------+--------------------+-----+\n",
      "only showing top 5 rows\n",
      "\n"
     ]
    }
   ],
   "source": [
    "df.show(5)"
   ]
  },
  {
   "cell_type": "code",
   "execution_count": 15,
   "id": "75f872d2",
   "metadata": {},
   "outputs": [
    {
     "data": {
      "text/html": [
       "<div>\n",
       "<style scoped>\n",
       "    .dataframe tbody tr th:only-of-type {\n",
       "        vertical-align: middle;\n",
       "    }\n",
       "\n",
       "    .dataframe tbody tr th {\n",
       "        vertical-align: top;\n",
       "    }\n",
       "\n",
       "    .dataframe thead th {\n",
       "        text-align: right;\n",
       "    }\n",
       "</style>\n",
       "<table border=\"1\" class=\"dataframe\">\n",
       "  <thead>\n",
       "    <tr style=\"text-align: right;\">\n",
       "      <th></th>\n",
       "      <th>Age</th>\n",
       "      <th>Total_Purchase</th>\n",
       "      <th>Account_Manager</th>\n",
       "      <th>Years</th>\n",
       "      <th>Num_Sites</th>\n",
       "      <th>Churn</th>\n",
       "    </tr>\n",
       "  </thead>\n",
       "  <tbody>\n",
       "    <tr>\n",
       "      <th>count</th>\n",
       "      <td>900.000000</td>\n",
       "      <td>900.000000</td>\n",
       "      <td>900.000000</td>\n",
       "      <td>900.000000</td>\n",
       "      <td>900.000000</td>\n",
       "      <td>900.000000</td>\n",
       "    </tr>\n",
       "    <tr>\n",
       "      <th>mean</th>\n",
       "      <td>41.816667</td>\n",
       "      <td>10062.824033</td>\n",
       "      <td>0.481111</td>\n",
       "      <td>5.273156</td>\n",
       "      <td>8.587778</td>\n",
       "      <td>0.166667</td>\n",
       "    </tr>\n",
       "    <tr>\n",
       "      <th>std</th>\n",
       "      <td>6.127560</td>\n",
       "      <td>2408.644532</td>\n",
       "      <td>0.499921</td>\n",
       "      <td>1.274449</td>\n",
       "      <td>1.764836</td>\n",
       "      <td>0.372885</td>\n",
       "    </tr>\n",
       "    <tr>\n",
       "      <th>min</th>\n",
       "      <td>22.000000</td>\n",
       "      <td>100.000000</td>\n",
       "      <td>0.000000</td>\n",
       "      <td>1.000000</td>\n",
       "      <td>3.000000</td>\n",
       "      <td>0.000000</td>\n",
       "    </tr>\n",
       "    <tr>\n",
       "      <th>25%</th>\n",
       "      <td>38.000000</td>\n",
       "      <td>8497.122500</td>\n",
       "      <td>0.000000</td>\n",
       "      <td>4.450000</td>\n",
       "      <td>7.000000</td>\n",
       "      <td>0.000000</td>\n",
       "    </tr>\n",
       "    <tr>\n",
       "      <th>50%</th>\n",
       "      <td>42.000000</td>\n",
       "      <td>10045.870000</td>\n",
       "      <td>0.000000</td>\n",
       "      <td>5.215000</td>\n",
       "      <td>8.000000</td>\n",
       "      <td>0.000000</td>\n",
       "    </tr>\n",
       "    <tr>\n",
       "      <th>75%</th>\n",
       "      <td>46.000000</td>\n",
       "      <td>11760.105000</td>\n",
       "      <td>1.000000</td>\n",
       "      <td>6.110000</td>\n",
       "      <td>10.000000</td>\n",
       "      <td>0.000000</td>\n",
       "    </tr>\n",
       "    <tr>\n",
       "      <th>max</th>\n",
       "      <td>65.000000</td>\n",
       "      <td>18026.010000</td>\n",
       "      <td>1.000000</td>\n",
       "      <td>9.150000</td>\n",
       "      <td>14.000000</td>\n",
       "      <td>1.000000</td>\n",
       "    </tr>\n",
       "  </tbody>\n",
       "</table>\n",
       "</div>"
      ],
      "text/plain": [
       "              Age  Total_Purchase  Account_Manager       Years   Num_Sites  \\\n",
       "count  900.000000      900.000000       900.000000  900.000000  900.000000   \n",
       "mean    41.816667    10062.824033         0.481111    5.273156    8.587778   \n",
       "std      6.127560     2408.644532         0.499921    1.274449    1.764836   \n",
       "min     22.000000      100.000000         0.000000    1.000000    3.000000   \n",
       "25%     38.000000     8497.122500         0.000000    4.450000    7.000000   \n",
       "50%     42.000000    10045.870000         0.000000    5.215000    8.000000   \n",
       "75%     46.000000    11760.105000         1.000000    6.110000   10.000000   \n",
       "max     65.000000    18026.010000         1.000000    9.150000   14.000000   \n",
       "\n",
       "            Churn  \n",
       "count  900.000000  \n",
       "mean     0.166667  \n",
       "std      0.372885  \n",
       "min      0.000000  \n",
       "25%      0.000000  \n",
       "50%      0.000000  \n",
       "75%      0.000000  \n",
       "max      1.000000  "
      ]
     },
     "execution_count": 15,
     "metadata": {},
     "output_type": "execute_result"
    }
   ],
   "source": [
    "df.toPandas().describe()"
   ]
  },
  {
   "cell_type": "code",
   "execution_count": 16,
   "id": "83d3968d",
   "metadata": {},
   "outputs": [
    {
     "data": {
      "text/plain": [
       "['Names',\n",
       " 'Age',\n",
       " 'Total_Purchase',\n",
       " 'Account_Manager',\n",
       " 'Years',\n",
       " 'Num_Sites',\n",
       " 'Onboard_date',\n",
       " 'Location',\n",
       " 'Company',\n",
       " 'Churn']"
      ]
     },
     "execution_count": 16,
     "metadata": {},
     "output_type": "execute_result"
    }
   ],
   "source": [
    "df.columns"
   ]
  },
  {
   "cell_type": "code",
   "execution_count": 19,
   "id": "e6e4be98",
   "metadata": {},
   "outputs": [],
   "source": [
    "assembler = VectorAssembler(inputCols=['Age', 'Total_Purchase', 'Account_Manager', 'Years', 'Num_Sites'],\n",
    "                            outputCol='features')"
   ]
  },
  {
   "cell_type": "code",
   "execution_count": 20,
   "id": "89ef7be9",
   "metadata": {},
   "outputs": [],
   "source": [
    "output = assembler.transform(df)"
   ]
  },
  {
   "cell_type": "code",
   "execution_count": 21,
   "id": "e54f64af",
   "metadata": {},
   "outputs": [],
   "source": [
    "df = output.select('features', 'churn')"
   ]
  },
  {
   "cell_type": "code",
   "execution_count": 22,
   "id": "45b5f03b",
   "metadata": {},
   "outputs": [],
   "source": [
    "train_churn, test_churn = df.randomSplit([0.7, 0.3])"
   ]
  },
  {
   "cell_type": "code",
   "execution_count": 24,
   "id": "74791756",
   "metadata": {},
   "outputs": [],
   "source": [
    "lr_churn = LogisticRegression(labelCol='churn')"
   ]
  },
  {
   "cell_type": "code",
   "execution_count": 25,
   "id": "e1f9580c",
   "metadata": {},
   "outputs": [],
   "source": [
    "fitted_churn_model = lr_churn.fit(train_churn)"
   ]
  },
  {
   "cell_type": "code",
   "execution_count": 26,
   "id": "da5d5f6a",
   "metadata": {},
   "outputs": [],
   "source": [
    "training_sum = fitted_churn_model.summary"
   ]
  },
  {
   "cell_type": "code",
   "execution_count": 28,
   "id": "caaff692",
   "metadata": {},
   "outputs": [
    {
     "name": "stdout",
     "output_type": "stream",
     "text": [
      "+-------+-------------------+-------------------+\n",
      "|summary|              churn|         prediction|\n",
      "+-------+-------------------+-------------------+\n",
      "|  count|                627|                627|\n",
      "|   mean|0.16267942583732056|0.11961722488038277|\n",
      "| stddev| 0.3693676025615052|0.32477248889504956|\n",
      "|    min|                0.0|                0.0|\n",
      "|    max|                1.0|                1.0|\n",
      "+-------+-------------------+-------------------+\n",
      "\n"
     ]
    }
   ],
   "source": [
    "training_sum.predictions.describe().show();"
   ]
  },
  {
   "cell_type": "code",
   "execution_count": 30,
   "id": "78f3fcdb",
   "metadata": {},
   "outputs": [],
   "source": [
    "pred_and_labels = fitted_churn_model.evaluate(test_churn)"
   ]
  },
  {
   "cell_type": "code",
   "execution_count": 32,
   "id": "5078712d",
   "metadata": {},
   "outputs": [
    {
     "name": "stdout",
     "output_type": "stream",
     "text": [
      "+--------------------+-----+--------------------+--------------------+----------+\n",
      "|            features|churn|       rawPrediction|         probability|prediction|\n",
      "+--------------------+-----+--------------------+--------------------+----------+\n",
      "|[22.0,11254.38,1....|    0|[5.02870929600791...|[0.99349533203597...|       0.0|\n",
      "|[26.0,8939.61,0.0...|    0|[7.25298295203407...|[0.99929244186386...|       0.0|\n",
      "|[29.0,8688.17,1.0...|    1|[2.91288904978004...|[0.94847992320011...|       0.0|\n",
      "|[29.0,9378.24,0.0...|    0|[5.46100148652585...|[0.99576868213210...|       0.0|\n",
      "|[29.0,9617.59,0.0...|    0|[5.15082440178562...|[0.99423875857991...|       0.0|\n",
      "|[29.0,11274.46,1....|    0|[4.80548587919856...|[0.99188172259261...|       0.0|\n",
      "|[29.0,13240.01,1....|    0|[7.31929950461997...|[0.99933781256747...|       0.0|\n",
      "|[29.0,13255.05,1....|    0|[4.46119569704069...|[0.98858329982652...|       0.0|\n",
      "|[30.0,6744.87,0.0...|    0|[4.06309908609127...|[0.98309504593286...|       0.0|\n",
      "|[30.0,7960.64,1.0...|    1|[3.11786932778892...|[0.95762384885627...|       0.0|\n",
      "|[30.0,8403.78,1.0...|    0|[6.38332742753134...|[0.99831335763722...|       0.0|\n",
      "|[30.0,13473.35,0....|    0|[3.07156522774450...|[0.95570448114676...|       0.0|\n",
      "|[31.0,5387.75,0.0...|    0|[3.15929531672520...|[0.95927342482614...|       0.0|\n",
      "|[31.0,7073.61,0.0...|    0|[3.66040518724929...|[0.97492294585009...|       0.0|\n",
      "|[31.0,8688.21,0.0...|    0|[7.41644838822956...|[0.99939908044746...|       0.0|\n",
      "|[31.0,9574.89,0.0...|    0|[4.02382659062855...|[0.98242983426390...|       0.0|\n",
      "|[31.0,11743.24,0....|    0|[7.69351939685069...|[0.99954443632715...|       0.0|\n",
      "|[32.0,6367.22,1.0...|    0|[2.98979983479916...|[0.95211118434816...|       0.0|\n",
      "|[32.0,7896.65,0.0...|    0|[4.15310245207665...|[0.98452757427731...|       0.0|\n",
      "|[32.0,8011.38,0.0...|    0|[2.39748192449512...|[0.91663508601041...|       0.0|\n",
      "+--------------------+-----+--------------------+--------------------+----------+\n",
      "only showing top 20 rows\n",
      "\n"
     ]
    }
   ],
   "source": [
    "pred_and_labels.predictions.show();"
   ]
  },
  {
   "cell_type": "code",
   "execution_count": 33,
   "id": "66b21f53",
   "metadata": {},
   "outputs": [],
   "source": [
    "churn_eval = BinaryClassificationEvaluator(rawPredictionCol='prediction', labelCol='churn')"
   ]
  },
  {
   "cell_type": "code",
   "execution_count": 35,
   "id": "7a358f5d",
   "metadata": {},
   "outputs": [],
   "source": [
    "auc = churn_eval.evaluate(pred_and_labels.predictions);"
   ]
  },
  {
   "cell_type": "code",
   "execution_count": 36,
   "id": "e2f4ea29",
   "metadata": {},
   "outputs": [
    {
     "data": {
      "text/plain": [
       "0.7820833333333332"
      ]
     },
     "execution_count": 36,
     "metadata": {},
     "output_type": "execute_result"
    }
   ],
   "source": [
    "auc"
   ]
  },
  {
   "cell_type": "markdown",
   "id": "b6f870f0",
   "metadata": {},
   "source": [
    "## Predict on new data"
   ]
  },
  {
   "cell_type": "code",
   "execution_count": 37,
   "id": "d1fcc2d6",
   "metadata": {},
   "outputs": [],
   "source": [
    "new_lr_model = lr_churn.fit(df)"
   ]
  },
  {
   "cell_type": "code",
   "execution_count": 42,
   "id": "c6623020",
   "metadata": {},
   "outputs": [
    {
     "name": "stdout",
     "output_type": "stream",
     "text": [
      "root\n",
      " |-- Names: string (nullable = true)\n",
      " |-- Age: double (nullable = true)\n",
      " |-- Total_Purchase: double (nullable = true)\n",
      " |-- Account_Manager: integer (nullable = true)\n",
      " |-- Years: double (nullable = true)\n",
      " |-- Num_Sites: double (nullable = true)\n",
      " |-- Onboard_date: timestamp (nullable = true)\n",
      " |-- Location: string (nullable = true)\n",
      " |-- Company: string (nullable = true)\n",
      "\n"
     ]
    }
   ],
   "source": [
    "schema_df_new_customers = types.StructType([types.StructField('Names', types.StringType()),\n",
    "                                            types.StructField('Age', types.DoubleType()),\n",
    "                                            types.StructField('Total_Purchase', types.DoubleType()),\n",
    "                                            types.StructField('Account_Manager', types.IntegerType()), \n",
    "                                            types.StructField('Years', types.DoubleType()),\n",
    "                                            types.StructField('Num_Sites', types.DoubleType()),\n",
    "                                            types.StructField('Onboard_date', types.TimestampType()),\n",
    "                                            types.StructField('Location', types.StringType()),\n",
    "                                            types.StructField('Company', types.StringType())])\n",
    "\n",
    "\n",
    "df_new_customers = spark.read.csv('../Arquivos/new_customers.csv', schema_df_new_customers, header=True)\n",
    "df_new_customers.printSchema()"
   ]
  },
  {
   "cell_type": "code",
   "execution_count": 43,
   "id": "d438c605",
   "metadata": {},
   "outputs": [],
   "source": [
    "test_new_customers = assembler.transform(df_new_customers)"
   ]
  },
  {
   "cell_type": "code",
   "execution_count": 44,
   "id": "ac71b517",
   "metadata": {},
   "outputs": [
    {
     "name": "stdout",
     "output_type": "stream",
     "text": [
      "root\n",
      " |-- Names: string (nullable = true)\n",
      " |-- Age: double (nullable = true)\n",
      " |-- Total_Purchase: double (nullable = true)\n",
      " |-- Account_Manager: integer (nullable = true)\n",
      " |-- Years: double (nullable = true)\n",
      " |-- Num_Sites: double (nullable = true)\n",
      " |-- Onboard_date: timestamp (nullable = true)\n",
      " |-- Location: string (nullable = true)\n",
      " |-- Company: string (nullable = true)\n",
      " |-- features: vector (nullable = true)\n",
      "\n"
     ]
    }
   ],
   "source": [
    "test_new_customers.printSchema()"
   ]
  },
  {
   "cell_type": "code",
   "execution_count": 45,
   "id": "649d0ff7",
   "metadata": {},
   "outputs": [],
   "source": [
    "new_results = new_lr_model.transform(test_new_customers)"
   ]
  },
  {
   "cell_type": "code",
   "execution_count": 47,
   "id": "e8ad88bb",
   "metadata": {
    "scrolled": true
   },
   "outputs": [
    {
     "data": {
      "text/html": [
       "<div>\n",
       "<style scoped>\n",
       "    .dataframe tbody tr th:only-of-type {\n",
       "        vertical-align: middle;\n",
       "    }\n",
       "\n",
       "    .dataframe tbody tr th {\n",
       "        vertical-align: top;\n",
       "    }\n",
       "\n",
       "    .dataframe thead th {\n",
       "        text-align: right;\n",
       "    }\n",
       "</style>\n",
       "<table border=\"1\" class=\"dataframe\">\n",
       "  <thead>\n",
       "    <tr style=\"text-align: right;\">\n",
       "      <th></th>\n",
       "      <th>Names</th>\n",
       "      <th>Age</th>\n",
       "      <th>Total_Purchase</th>\n",
       "      <th>Account_Manager</th>\n",
       "      <th>Years</th>\n",
       "      <th>Num_Sites</th>\n",
       "      <th>Onboard_date</th>\n",
       "      <th>Location</th>\n",
       "      <th>Company</th>\n",
       "      <th>features</th>\n",
       "      <th>rawPrediction</th>\n",
       "      <th>probability</th>\n",
       "      <th>prediction</th>\n",
       "    </tr>\n",
       "  </thead>\n",
       "  <tbody>\n",
       "    <tr>\n",
       "      <th>0</th>\n",
       "      <td>Andrew Mccall</td>\n",
       "      <td>37.0</td>\n",
       "      <td>9935.53</td>\n",
       "      <td>1</td>\n",
       "      <td>7.71</td>\n",
       "      <td>8.0</td>\n",
       "      <td>2011-08-29 18:37:54</td>\n",
       "      <td>38612 Johnny Stravenue Nataliebury, WI 15717-8316</td>\n",
       "      <td>King Ltd</td>\n",
       "      <td>[37.0, 9935.53, 1.0, 7.71, 8.0]</td>\n",
       "      <td>[2.2216868057254757, -2.2216868057254757]</td>\n",
       "      <td>[0.9021801592176494, 0.09781984078235062]</td>\n",
       "      <td>0.0</td>\n",
       "    </tr>\n",
       "    <tr>\n",
       "      <th>1</th>\n",
       "      <td>Michele Wright</td>\n",
       "      <td>23.0</td>\n",
       "      <td>7526.94</td>\n",
       "      <td>1</td>\n",
       "      <td>9.28</td>\n",
       "      <td>15.0</td>\n",
       "      <td>2013-07-22 18:19:54</td>\n",
       "      <td>21083 Nicole Junction Suite 332, Youngport, ME...</td>\n",
       "      <td>Cannon-Benson</td>\n",
       "      <td>[23.0, 7526.94, 1.0, 9.28, 15.0]</td>\n",
       "      <td>[-6.22075399918457, 6.22075399918457]</td>\n",
       "      <td>[0.001983802597841992, 0.998016197402158]</td>\n",
       "      <td>1.0</td>\n",
       "    </tr>\n",
       "    <tr>\n",
       "      <th>2</th>\n",
       "      <td>Jeremy Chang</td>\n",
       "      <td>65.0</td>\n",
       "      <td>100.00</td>\n",
       "      <td>1</td>\n",
       "      <td>1.00</td>\n",
       "      <td>15.0</td>\n",
       "      <td>2006-12-11 07:48:13</td>\n",
       "      <td>085 Austin Views Lake Julialand, WY 63726-4298</td>\n",
       "      <td>Barron-Robertson</td>\n",
       "      <td>[65.0, 100.0, 1.0, 1.0, 15.0]</td>\n",
       "      <td>[-3.7691606662874264, 3.7691606662874264]</td>\n",
       "      <td>[0.022551133124331425, 0.9774488668756686]</td>\n",
       "      <td>1.0</td>\n",
       "    </tr>\n",
       "    <tr>\n",
       "      <th>3</th>\n",
       "      <td>Megan Ferguson</td>\n",
       "      <td>32.0</td>\n",
       "      <td>6487.50</td>\n",
       "      <td>0</td>\n",
       "      <td>9.40</td>\n",
       "      <td>14.0</td>\n",
       "      <td>2016-10-28 05:32:13</td>\n",
       "      <td>922 Wright Branch North Cynthialand, NC 64721</td>\n",
       "      <td>Sexton-Golden</td>\n",
       "      <td>[32.0, 6487.5, 0.0, 9.4, 14.0]</td>\n",
       "      <td>[-5.095623136273915, 5.095623136273915]</td>\n",
       "      <td>[0.006086220767149351, 0.9939137792328506]</td>\n",
       "      <td>1.0</td>\n",
       "    </tr>\n",
       "    <tr>\n",
       "      <th>4</th>\n",
       "      <td>Taylor Young</td>\n",
       "      <td>32.0</td>\n",
       "      <td>13147.71</td>\n",
       "      <td>1</td>\n",
       "      <td>10.00</td>\n",
       "      <td>8.0</td>\n",
       "      <td>2012-03-20 00:36:46</td>\n",
       "      <td>Unit 0789 Box 0734 DPO AP 39702</td>\n",
       "      <td>Wood LLC</td>\n",
       "      <td>[32.0, 13147.71, 1.0, 10.0, 8.0]</td>\n",
       "      <td>[1.104758063833092, -1.104758063833092]</td>\n",
       "      <td>[0.7511505614489966, 0.2488494385510034]</td>\n",
       "      <td>0.0</td>\n",
       "    </tr>\n",
       "    <tr>\n",
       "      <th>5</th>\n",
       "      <td>Jessica Drake</td>\n",
       "      <td>22.0</td>\n",
       "      <td>8445.26</td>\n",
       "      <td>1</td>\n",
       "      <td>3.46</td>\n",
       "      <td>14.0</td>\n",
       "      <td>2011-02-04 19:29:27</td>\n",
       "      <td>1148 Tina Stravenue Apt. 978 South Carlos TX 2...</td>\n",
       "      <td>Parks-Robbins</td>\n",
       "      <td>[22.0, 8445.26, 1.0, 3.46, 14.0]</td>\n",
       "      <td>[-1.6896020251072734, 1.6896020251072734]</td>\n",
       "      <td>[0.1558281848636939, 0.8441718151363061]</td>\n",
       "      <td>1.0</td>\n",
       "    </tr>\n",
       "  </tbody>\n",
       "</table>\n",
       "</div>"
      ],
      "text/plain": [
       "            Names   Age  Total_Purchase  Account_Manager  Years  Num_Sites  \\\n",
       "0   Andrew Mccall  37.0         9935.53                1   7.71        8.0   \n",
       "1  Michele Wright  23.0         7526.94                1   9.28       15.0   \n",
       "2    Jeremy Chang  65.0          100.00                1   1.00       15.0   \n",
       "3  Megan Ferguson  32.0         6487.50                0   9.40       14.0   \n",
       "4    Taylor Young  32.0        13147.71                1  10.00        8.0   \n",
       "5   Jessica Drake  22.0         8445.26                1   3.46       14.0   \n",
       "\n",
       "         Onboard_date                                           Location  \\\n",
       "0 2011-08-29 18:37:54  38612 Johnny Stravenue Nataliebury, WI 15717-8316   \n",
       "1 2013-07-22 18:19:54  21083 Nicole Junction Suite 332, Youngport, ME...   \n",
       "2 2006-12-11 07:48:13     085 Austin Views Lake Julialand, WY 63726-4298   \n",
       "3 2016-10-28 05:32:13      922 Wright Branch North Cynthialand, NC 64721   \n",
       "4 2012-03-20 00:36:46                    Unit 0789 Box 0734 DPO AP 39702   \n",
       "5 2011-02-04 19:29:27  1148 Tina Stravenue Apt. 978 South Carlos TX 2...   \n",
       "\n",
       "            Company                          features  \\\n",
       "0          King Ltd   [37.0, 9935.53, 1.0, 7.71, 8.0]   \n",
       "1     Cannon-Benson  [23.0, 7526.94, 1.0, 9.28, 15.0]   \n",
       "2  Barron-Robertson     [65.0, 100.0, 1.0, 1.0, 15.0]   \n",
       "3     Sexton-Golden    [32.0, 6487.5, 0.0, 9.4, 14.0]   \n",
       "4          Wood LLC  [32.0, 13147.71, 1.0, 10.0, 8.0]   \n",
       "5     Parks-Robbins  [22.0, 8445.26, 1.0, 3.46, 14.0]   \n",
       "\n",
       "                               rawPrediction  \\\n",
       "0  [2.2216868057254757, -2.2216868057254757]   \n",
       "1      [-6.22075399918457, 6.22075399918457]   \n",
       "2  [-3.7691606662874264, 3.7691606662874264]   \n",
       "3    [-5.095623136273915, 5.095623136273915]   \n",
       "4    [1.104758063833092, -1.104758063833092]   \n",
       "5  [-1.6896020251072734, 1.6896020251072734]   \n",
       "\n",
       "                                  probability  prediction  \n",
       "0   [0.9021801592176494, 0.09781984078235062]         0.0  \n",
       "1   [0.001983802597841992, 0.998016197402158]         1.0  \n",
       "2  [0.022551133124331425, 0.9774488668756686]         1.0  \n",
       "3  [0.006086220767149351, 0.9939137792328506]         1.0  \n",
       "4    [0.7511505614489966, 0.2488494385510034]         0.0  \n",
       "5    [0.1558281848636939, 0.8441718151363061]         1.0  "
      ]
     },
     "execution_count": 47,
     "metadata": {},
     "output_type": "execute_result"
    }
   ],
   "source": [
    "new_results.toPandas()"
   ]
  },
  {
   "cell_type": "code",
   "execution_count": 49,
   "id": "8003e5f5",
   "metadata": {},
   "outputs": [
    {
     "name": "stdout",
     "output_type": "stream",
     "text": [
      "+----------------+----------+\n",
      "|         Company|prediction|\n",
      "+----------------+----------+\n",
      "|        King Ltd|       0.0|\n",
      "|   Cannon-Benson|       1.0|\n",
      "|Barron-Robertson|       1.0|\n",
      "|   Sexton-Golden|       1.0|\n",
      "|        Wood LLC|       0.0|\n",
      "|   Parks-Robbins|       1.0|\n",
      "+----------------+----------+\n",
      "\n"
     ]
    }
   ],
   "source": [
    "new_results.select('Company', 'prediction').show()"
   ]
  },
  {
   "cell_type": "code",
   "execution_count": 51,
   "id": "49b891c3",
   "metadata": {},
   "outputs": [
    {
     "data": {
      "text/html": [
       "<div>\n",
       "<style scoped>\n",
       "    .dataframe tbody tr th:only-of-type {\n",
       "        vertical-align: middle;\n",
       "    }\n",
       "\n",
       "    .dataframe tbody tr th {\n",
       "        vertical-align: top;\n",
       "    }\n",
       "\n",
       "    .dataframe thead th {\n",
       "        text-align: right;\n",
       "    }\n",
       "</style>\n",
       "<table border=\"1\" class=\"dataframe\">\n",
       "  <thead>\n",
       "    <tr style=\"text-align: right;\">\n",
       "      <th></th>\n",
       "      <th>Age</th>\n",
       "      <th>Total_Purchase</th>\n",
       "      <th>Account_Manager</th>\n",
       "      <th>Years</th>\n",
       "      <th>Num_Sites</th>\n",
       "    </tr>\n",
       "  </thead>\n",
       "  <tbody>\n",
       "    <tr>\n",
       "      <th>count</th>\n",
       "      <td>6.000000</td>\n",
       "      <td>6.000000</td>\n",
       "      <td>6.000000</td>\n",
       "      <td>6.000000</td>\n",
       "      <td>6.000000</td>\n",
       "    </tr>\n",
       "    <tr>\n",
       "      <th>mean</th>\n",
       "      <td>35.166667</td>\n",
       "      <td>7607.156667</td>\n",
       "      <td>0.833333</td>\n",
       "      <td>6.808333</td>\n",
       "      <td>12.333333</td>\n",
       "    </tr>\n",
       "    <tr>\n",
       "      <th>std</th>\n",
       "      <td>15.715173</td>\n",
       "      <td>4346.008233</td>\n",
       "      <td>0.408248</td>\n",
       "      <td>3.708738</td>\n",
       "      <td>3.386247</td>\n",
       "    </tr>\n",
       "    <tr>\n",
       "      <th>min</th>\n",
       "      <td>22.000000</td>\n",
       "      <td>100.000000</td>\n",
       "      <td>0.000000</td>\n",
       "      <td>1.000000</td>\n",
       "      <td>8.000000</td>\n",
       "    </tr>\n",
       "    <tr>\n",
       "      <th>25%</th>\n",
       "      <td>25.250000</td>\n",
       "      <td>6747.360000</td>\n",
       "      <td>1.000000</td>\n",
       "      <td>4.522500</td>\n",
       "      <td>9.500000</td>\n",
       "    </tr>\n",
       "    <tr>\n",
       "      <th>50%</th>\n",
       "      <td>32.000000</td>\n",
       "      <td>7986.100000</td>\n",
       "      <td>1.000000</td>\n",
       "      <td>8.495000</td>\n",
       "      <td>14.000000</td>\n",
       "    </tr>\n",
       "    <tr>\n",
       "      <th>75%</th>\n",
       "      <td>35.750000</td>\n",
       "      <td>9562.962500</td>\n",
       "      <td>1.000000</td>\n",
       "      <td>9.370000</td>\n",
       "      <td>14.750000</td>\n",
       "    </tr>\n",
       "    <tr>\n",
       "      <th>max</th>\n",
       "      <td>65.000000</td>\n",
       "      <td>13147.710000</td>\n",
       "      <td>1.000000</td>\n",
       "      <td>10.000000</td>\n",
       "      <td>15.000000</td>\n",
       "    </tr>\n",
       "  </tbody>\n",
       "</table>\n",
       "</div>"
      ],
      "text/plain": [
       "             Age  Total_Purchase  Account_Manager      Years  Num_Sites\n",
       "count   6.000000        6.000000         6.000000   6.000000   6.000000\n",
       "mean   35.166667     7607.156667         0.833333   6.808333  12.333333\n",
       "std    15.715173     4346.008233         0.408248   3.708738   3.386247\n",
       "min    22.000000      100.000000         0.000000   1.000000   8.000000\n",
       "25%    25.250000     6747.360000         1.000000   4.522500   9.500000\n",
       "50%    32.000000     7986.100000         1.000000   8.495000  14.000000\n",
       "75%    35.750000     9562.962500         1.000000   9.370000  14.750000\n",
       "max    65.000000    13147.710000         1.000000  10.000000  15.000000"
      ]
     },
     "execution_count": 51,
     "metadata": {},
     "output_type": "execute_result"
    }
   ],
   "source": [
    "test_new_customers.toPandas().describe()"
   ]
  },
  {
   "cell_type": "code",
   "execution_count": null,
   "id": "43bcecc5",
   "metadata": {},
   "outputs": [],
   "source": []
  }
 ],
 "metadata": {
  "kernelspec": {
   "display_name": "Python 3",
   "language": "python",
   "name": "python3"
  },
  "language_info": {
   "codemirror_mode": {
    "name": "ipython",
    "version": 3
   },
   "file_extension": ".py",
   "mimetype": "text/x-python",
   "name": "python",
   "nbconvert_exporter": "python",
   "pygments_lexer": "ipython3",
   "version": "3.8.8"
  }
 },
 "nbformat": 4,
 "nbformat_minor": 5
}
