{
 "cells": [
  {
   "cell_type": "code",
   "execution_count": 1,
   "id": "a50dbf06",
   "metadata": {},
   "outputs": [],
   "source": [
    "import findspark\n",
    "findspark.init('../../../../../../../Program Files/Spark/spark-3.2.0-bin-hadoop3.2')"
   ]
  },
  {
   "cell_type": "code",
   "execution_count": 2,
   "id": "65e738e8",
   "metadata": {},
   "outputs": [],
   "source": [
    "from pyspark import SparkContext\n",
    "from pyspark.streaming import StreamingContext"
   ]
  },
  {
   "cell_type": "code",
   "execution_count": 3,
   "id": "bdb1f287",
   "metadata": {},
   "outputs": [],
   "source": [
    "sc = SparkContext('local[2]', 'NetworkWordCount')"
   ]
  },
  {
   "cell_type": "code",
   "execution_count": 4,
   "id": "dd9e5d7b",
   "metadata": {},
   "outputs": [],
   "source": [
    "ssc = StreamingContext(sc, 1)"
   ]
  },
  {
   "cell_type": "code",
   "execution_count": 5,
   "id": "f4a01464",
   "metadata": {},
   "outputs": [],
   "source": [
    "lines = ssc.socketTextStream('localhost', 9999)"
   ]
  },
  {
   "cell_type": "code",
   "execution_count": 6,
   "id": "c70f9dc7",
   "metadata": {},
   "outputs": [],
   "source": [
    "words = lines.flatMap(lambda line: line.split(' '))"
   ]
  },
  {
   "cell_type": "code",
   "execution_count": 7,
   "id": "33353862",
   "metadata": {},
   "outputs": [],
   "source": [
    "pairs = words.map(lambda word:(word, 1))"
   ]
  },
  {
   "cell_type": "code",
   "execution_count": 8,
   "id": "c5da74a5",
   "metadata": {},
   "outputs": [],
   "source": [
    "word_counts = pairs.reduceByKey(lambda num1, num2: num1 + num2)"
   ]
  },
  {
   "cell_type": "code",
   "execution_count": 9,
   "id": "5a16c5d6",
   "metadata": {},
   "outputs": [],
   "source": [
    "word_counts.pprint()"
   ]
  },
  {
   "cell_type": "code",
   "execution_count": 10,
   "id": "d7495669",
   "metadata": {},
   "outputs": [],
   "source": [
    "ssc.start() #Download netcat"
   ]
  },
  {
   "cell_type": "code",
   "execution_count": null,
   "id": "39f38008",
   "metadata": {},
   "outputs": [],
   "source": []
  }
 ],
 "metadata": {
  "kernelspec": {
   "display_name": "Python 3",
   "language": "python",
   "name": "python3"
  },
  "language_info": {
   "codemirror_mode": {
    "name": "ipython",
    "version": 3
   },
   "file_extension": ".py",
   "mimetype": "text/x-python",
   "name": "python",
   "nbconvert_exporter": "python",
   "pygments_lexer": "ipython3",
   "version": "3.8.8"
  }
 },
 "nbformat": 4,
 "nbformat_minor": 5
}
