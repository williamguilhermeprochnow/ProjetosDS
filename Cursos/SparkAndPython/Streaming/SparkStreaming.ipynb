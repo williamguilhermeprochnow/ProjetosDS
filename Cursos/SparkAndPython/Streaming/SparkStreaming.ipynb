{
 "cells": [
  {
   "cell_type": "code",
   "execution_count": null,
   "id": "7ec479e2",
   "metadata": {},
   "outputs": [],
   "source": [
    "import findspark\n",
    "import warnings\n",
    "warnings.filterwarnings('ignore')"
   ]
  },
  {
   "cell_type": "code",
   "execution_count": null,
   "id": "7c7e0c95",
   "metadata": {},
   "outputs": [],
   "source": [
    "findspark.init('../../../../../../../Program Files/Spark/spark-3.2.0-bin-hadoop3.2')"
   ]
  },
  {
   "cell_type": "code",
   "execution_count": null,
   "id": "a7903aeb",
   "metadata": {},
   "outputs": [],
   "source": [
    "from pyspark import SparkContext\n",
    "from pyspark.streaming import StreamingContext\n",
    "from pyspark.sql import SQLContext\n",
    "from pyspark.sql.functions import desc\n",
    "from collections import namedtuple\n",
    "from IPython import display\n",
    "\n",
    "import time\n",
    "import matplotlib.pyplot as plt\n",
    "import seaborn as sns\n",
    "\n",
    "%matplotlib inline"
   ]
  },
  {
   "cell_type": "code",
   "execution_count": null,
   "id": "1329c82b",
   "metadata": {},
   "outputs": [],
   "source": [
    "sc = SparkContext()"
   ]
  },
  {
   "cell_type": "code",
   "execution_count": null,
   "id": "f323e78d",
   "metadata": {},
   "outputs": [],
   "source": [
    "ssc = StreamingContext(sc, 10)\n",
    "sqlContext = SQLContext(sc)"
   ]
  },
  {
   "cell_type": "code",
   "execution_count": null,
   "id": "ea6dd32c",
   "metadata": {},
   "outputs": [],
   "source": [
    "socket_stream = ssc.socketTextStream('127.0.0.1', 9998)"
   ]
  },
  {
   "cell_type": "code",
   "execution_count": null,
   "id": "fbf8d106",
   "metadata": {},
   "outputs": [],
   "source": [
    "lines = socket_stream.window(20)"
   ]
  },
  {
   "cell_type": "code",
   "execution_count": null,
   "id": "5fb80d6b",
   "metadata": {},
   "outputs": [],
   "source": [
    "fields = (\"tag\", \"count\")\n",
    "Tweet = namedtuple('Tweet', fields)"
   ]
  },
  {
   "cell_type": "code",
   "execution_count": null,
   "id": "4cdb5a71",
   "metadata": {},
   "outputs": [],
   "source": [
    "(lines.flatMap(lambda text: text.split(\" \")) # Splits to a list\n",
    "      .filter(lambda word: word.lower().startwith(\"#\")) # Checks for hashtag calls\n",
    "      .map(lambda word: (word.lower(), 1)) # Lower cases the word\n",
    "      .reduceByKey(lambda a, b: a + b) # Reduces\n",
    "      .map(lambda rec: Tweet(rec[0], rec[1])) # Stores in a Tweet Object\n",
    "      .foreachRDD(lambda rdd: rdd.toDF().sort(desc(\"count\")) # Sorts Them in a DF\n",
    "      .limit(10).creteOrReplaceTempView(\"Tweets\"))) # Registers to a table."
   ]
  },
  {
   "cell_type": "code",
   "execution_count": null,
   "id": "8c84b2a9",
   "metadata": {},
   "outputs": [],
   "source": [
    "ssc.start()"
   ]
  },
  {
   "cell_type": "code",
   "execution_count": null,
   "id": "3e920d29",
   "metadata": {},
   "outputs": [],
   "source": [
    "count = 0\n",
    "while count < 10:\n",
    "    time.sleep(3)\n",
    "    top_10_tweets = sqlContext.sql('Select tag, count from tweets')\n",
    "    df_top10 = top_10_tweets.toPandas()\n",
    "    display.clear_output(wait=True)\n",
    "    plt.figure(figsize=(10,8))\n",
    "    sns.barplot(data=df_top10, x='count', y='tag')\n",
    "    plt.show()\n",
    "    count = count + 1"
   ]
  },
  {
   "cell_type": "code",
   "execution_count": null,
   "id": "84972739",
   "metadata": {},
   "outputs": [],
   "source": [
    "ssc.stop()"
   ]
  },
  {
   "cell_type": "code",
   "execution_count": null,
   "id": "4e7e62c5",
   "metadata": {},
   "outputs": [],
   "source": []
  }
 ],
 "metadata": {
  "kernelspec": {
   "display_name": "Python 3",
   "language": "python",
   "name": "python3"
  },
  "language_info": {
   "codemirror_mode": {
    "name": "ipython",
    "version": 3
   },
   "file_extension": ".py",
   "mimetype": "text/x-python",
   "name": "python",
   "nbconvert_exporter": "python",
   "pygments_lexer": "ipython3",
   "version": "3.8.8"
  }
 },
 "nbformat": 4,
 "nbformat_minor": 5
}
