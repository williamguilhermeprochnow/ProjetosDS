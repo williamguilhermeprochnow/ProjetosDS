{
 "cells": [
  {
   "cell_type": "code",
   "execution_count": 53,
   "metadata": {},
   "outputs": [],
   "source": [
    "import matplotlib.pyplot as plt\n",
    "import pandas as pd\n",
    "import numpy as np\n",
    "import pickle\n",
    "\n",
    "from sklearn.model_selection import train_test_split\n",
    "from sklearn.linear_model import LinearRegression\n",
    "from sklearn.metrics import mean_squared_error\n",
    "from matplotlib import style"
   ]
  },
  {
   "cell_type": "code",
   "execution_count": 54,
   "metadata": {},
   "outputs": [
    {
     "data": {
      "text/html": [
       "<div>\n",
       "<style scoped>\n",
       "    .dataframe tbody tr th:only-of-type {\n",
       "        vertical-align: middle;\n",
       "    }\n",
       "\n",
       "    .dataframe tbody tr th {\n",
       "        vertical-align: top;\n",
       "    }\n",
       "\n",
       "    .dataframe thead th {\n",
       "        text-align: right;\n",
       "    }\n",
       "</style>\n",
       "<table border=\"1\" class=\"dataframe\">\n",
       "  <thead>\n",
       "    <tr style=\"text-align: right;\">\n",
       "      <th></th>\n",
       "      <th>school</th>\n",
       "      <th>sex</th>\n",
       "      <th>age</th>\n",
       "      <th>address</th>\n",
       "      <th>famsize</th>\n",
       "      <th>Pstatus</th>\n",
       "      <th>Medu</th>\n",
       "      <th>Fedu</th>\n",
       "      <th>Mjob</th>\n",
       "      <th>Fjob</th>\n",
       "      <th>...</th>\n",
       "      <th>famrel</th>\n",
       "      <th>freetime</th>\n",
       "      <th>goout</th>\n",
       "      <th>Dalc</th>\n",
       "      <th>Walc</th>\n",
       "      <th>health</th>\n",
       "      <th>absences</th>\n",
       "      <th>G1</th>\n",
       "      <th>G2</th>\n",
       "      <th>G3</th>\n",
       "    </tr>\n",
       "  </thead>\n",
       "  <tbody>\n",
       "    <tr>\n",
       "      <th>0</th>\n",
       "      <td>GP</td>\n",
       "      <td>F</td>\n",
       "      <td>18</td>\n",
       "      <td>U</td>\n",
       "      <td>GT3</td>\n",
       "      <td>A</td>\n",
       "      <td>4</td>\n",
       "      <td>4</td>\n",
       "      <td>at_home</td>\n",
       "      <td>teacher</td>\n",
       "      <td>...</td>\n",
       "      <td>4</td>\n",
       "      <td>3</td>\n",
       "      <td>4</td>\n",
       "      <td>1</td>\n",
       "      <td>1</td>\n",
       "      <td>3</td>\n",
       "      <td>6</td>\n",
       "      <td>5</td>\n",
       "      <td>6</td>\n",
       "      <td>6</td>\n",
       "    </tr>\n",
       "    <tr>\n",
       "      <th>1</th>\n",
       "      <td>GP</td>\n",
       "      <td>F</td>\n",
       "      <td>17</td>\n",
       "      <td>U</td>\n",
       "      <td>GT3</td>\n",
       "      <td>T</td>\n",
       "      <td>1</td>\n",
       "      <td>1</td>\n",
       "      <td>at_home</td>\n",
       "      <td>other</td>\n",
       "      <td>...</td>\n",
       "      <td>5</td>\n",
       "      <td>3</td>\n",
       "      <td>3</td>\n",
       "      <td>1</td>\n",
       "      <td>1</td>\n",
       "      <td>3</td>\n",
       "      <td>4</td>\n",
       "      <td>5</td>\n",
       "      <td>5</td>\n",
       "      <td>6</td>\n",
       "    </tr>\n",
       "    <tr>\n",
       "      <th>2</th>\n",
       "      <td>GP</td>\n",
       "      <td>F</td>\n",
       "      <td>15</td>\n",
       "      <td>U</td>\n",
       "      <td>LE3</td>\n",
       "      <td>T</td>\n",
       "      <td>1</td>\n",
       "      <td>1</td>\n",
       "      <td>at_home</td>\n",
       "      <td>other</td>\n",
       "      <td>...</td>\n",
       "      <td>4</td>\n",
       "      <td>3</td>\n",
       "      <td>2</td>\n",
       "      <td>2</td>\n",
       "      <td>3</td>\n",
       "      <td>3</td>\n",
       "      <td>10</td>\n",
       "      <td>7</td>\n",
       "      <td>8</td>\n",
       "      <td>10</td>\n",
       "    </tr>\n",
       "    <tr>\n",
       "      <th>3</th>\n",
       "      <td>GP</td>\n",
       "      <td>F</td>\n",
       "      <td>15</td>\n",
       "      <td>U</td>\n",
       "      <td>GT3</td>\n",
       "      <td>T</td>\n",
       "      <td>4</td>\n",
       "      <td>2</td>\n",
       "      <td>health</td>\n",
       "      <td>services</td>\n",
       "      <td>...</td>\n",
       "      <td>3</td>\n",
       "      <td>2</td>\n",
       "      <td>2</td>\n",
       "      <td>1</td>\n",
       "      <td>1</td>\n",
       "      <td>5</td>\n",
       "      <td>2</td>\n",
       "      <td>15</td>\n",
       "      <td>14</td>\n",
       "      <td>15</td>\n",
       "    </tr>\n",
       "    <tr>\n",
       "      <th>4</th>\n",
       "      <td>GP</td>\n",
       "      <td>F</td>\n",
       "      <td>16</td>\n",
       "      <td>U</td>\n",
       "      <td>GT3</td>\n",
       "      <td>T</td>\n",
       "      <td>3</td>\n",
       "      <td>3</td>\n",
       "      <td>other</td>\n",
       "      <td>other</td>\n",
       "      <td>...</td>\n",
       "      <td>4</td>\n",
       "      <td>3</td>\n",
       "      <td>2</td>\n",
       "      <td>1</td>\n",
       "      <td>2</td>\n",
       "      <td>5</td>\n",
       "      <td>4</td>\n",
       "      <td>6</td>\n",
       "      <td>10</td>\n",
       "      <td>10</td>\n",
       "    </tr>\n",
       "  </tbody>\n",
       "</table>\n",
       "<p>5 rows × 33 columns</p>\n",
       "</div>"
      ],
      "text/plain": [
       "  school sex  age address famsize Pstatus  Medu  Fedu     Mjob      Fjob  ...  \\\n",
       "0     GP   F   18       U     GT3       A     4     4  at_home   teacher  ...   \n",
       "1     GP   F   17       U     GT3       T     1     1  at_home     other  ...   \n",
       "2     GP   F   15       U     LE3       T     1     1  at_home     other  ...   \n",
       "3     GP   F   15       U     GT3       T     4     2   health  services  ...   \n",
       "4     GP   F   16       U     GT3       T     3     3    other     other  ...   \n",
       "\n",
       "  famrel freetime  goout  Dalc  Walc health absences  G1  G2  G3  \n",
       "0      4        3      4     1     1      3        6   5   6   6  \n",
       "1      5        3      3     1     1      3        4   5   5   6  \n",
       "2      4        3      2     2     3      3       10   7   8  10  \n",
       "3      3        2      2     1     1      5        2  15  14  15  \n",
       "4      4        3      2     1     2      5        4   6  10  10  \n",
       "\n",
       "[5 rows x 33 columns]"
      ]
     },
     "execution_count": 54,
     "metadata": {},
     "output_type": "execute_result"
    }
   ],
   "source": [
    "df = pd.read_csv(r'https://raw.githubusercontent.com/guipsamora/pandas_exercises/master/04_Apply/Students_Alcohol_Consumption/student-mat.csv')\n",
    "df.head()"
   ]
  },
  {
   "cell_type": "code",
   "execution_count": 55,
   "metadata": {},
   "outputs": [],
   "source": [
    "df = df[['G1', 'G2', 'G3', 'studytime', 'failures', 'absences']]\n",
    "\n",
    "predict = 'G3'\n",
    "\n",
    "X = np.array(df.drop([predict], axis=1))\n",
    "\n",
    "y = np.array(df[predict])"
   ]
  },
  {
   "cell_type": "code",
   "execution_count": 56,
   "metadata": {},
   "outputs": [],
   "source": [
    "x_train, x_test, y_train, y_test = train_test_split(X, y, test_size=0.1)"
   ]
  },
  {
   "cell_type": "code",
   "execution_count": 57,
   "metadata": {},
   "outputs": [
    {
     "name": "stdout",
     "output_type": "stream",
     "text": [
      " 72.43%\n"
     ]
    }
   ],
   "source": [
    "# Passo 1:\n",
    "\n",
    "linear = LinearRegression()\n",
    "\n",
    "# Passo 2:\n",
    "linear.fit(x_train, y_train)\n",
    "\n",
    "acc = linear.score(x_test, y_test)\n",
    "\n",
    "predictions = linear.predict(x_test)\n",
    "\n",
    "print(f'{acc*100: .2f}%')"
   ]
  },
  {
   "cell_type": "code",
   "execution_count": 58,
   "metadata": {},
   "outputs": [
    {
     "name": "stdout",
     "output_type": "stream",
     "text": [
      "Coeficiente: [ 0.14504563  0.97634785 -0.19582687 -0.28519147  0.03838979]\n",
      "Intercept: -1.3075092467046154\n",
      "MSE: 4.641337093546244\n"
     ]
    }
   ],
   "source": [
    "print(f'Coeficiente: {linear.coef_}')\n",
    "print(f'Intercept: {linear.intercept_}')\n",
    "print(f'MSE: {mean_squared_error(y_test, predictions)}')"
   ]
  },
  {
   "cell_type": "code",
   "execution_count": 59,
   "metadata": {},
   "outputs": [
    {
     "name": "stdout",
     "output_type": "stream",
     "text": [
      "    Predictions  RealValues               Input\n",
      "0      8.401892          10     [8, 9, 2, 0, 4]\n",
      "1      7.348764           8     [8, 8, 2, 0, 2]\n",
      "2      7.336179           8     [8, 8, 1, 1, 4]\n",
      "3      8.611326           9    [10, 9, 3, 0, 7]\n",
      "4     14.439994          15   [13, 15, 4, 0, 0]\n",
      "5     14.635821          15   [13, 15, 3, 0, 0]\n",
      "6      9.855644          10   [11, 10, 1, 0, 0]\n",
      "7      6.005546           0     [6, 7, 2, 0, 0]\n",
      "8      7.131839           0     [9, 8, 2, 1, 0]\n",
      "9      5.733768           9     [7, 7, 2, 2, 4]\n",
      "10    14.272952          14   [14, 14, 1, 0, 2]\n",
      "11     9.455019          10    [8, 10, 2, 0, 6]\n",
      "12    13.906081          15   [12, 14, 1, 0, 0]\n",
      "13    10.831992          10   [11, 11, 1, 0, 0]\n",
      "14    11.885120          11   [11, 12, 1, 0, 2]\n",
      "15     8.090702           8     [7, 9, 1, 1, 2]\n",
      "16     9.327458          10    [9, 10, 3, 0, 4]\n",
      "17    10.712945          10   [11, 11, 2, 0, 2]\n",
      "18     7.473152           7     [5, 9, 2, 2, 6]\n",
      "19     8.121142           8    [6, 9, 1, 2, 14]\n",
      "20    10.543206           8    [9, 9, 2, 0, 56]\n",
      "21     7.746076           7    [9, 8, 2, 1, 16]\n",
      "22     9.574067          10    [8, 10, 1, 0, 4]\n",
      "23    13.991374          14   [11, 14, 1, 0, 6]\n",
      "24    19.147060          18  [17, 18, 2, 0, 21]\n",
      "25     9.523285          10    [9, 10, 2, 0, 4]\n",
      "26    12.883394          13  [11, 13, 1, 1, 10]\n",
      "27    16.312156          16  [16, 16, 4, 0, 12]\n",
      "28    13.177557          13   [14, 13, 2, 0, 4]\n",
      "29    18.076781          18   [16, 18, 3, 0, 2]\n",
      "30     8.419377           8    [10, 9, 3, 0, 2]\n",
      "31    13.526943          13   [14, 13, 1, 0, 8]\n",
      "32     8.108187           0     [9, 9, 2, 1, 0]\n",
      "33     8.636108           9     [8, 9, 1, 0, 5]\n",
      "34    15.343564          15   [16, 15, 2, 0, 2]\n",
      "35     9.787378          10   [10, 10, 1, 0, 2]\n",
      "36     8.398842           9    [9, 9, 2, 2, 15]\n",
      "37    13.100320          12  [10, 13, 1, 0, 12]\n",
      "38     8.691983           9    [10, 9, 2, 0, 4]\n",
      "39     9.353457          11   [10, 10, 4, 0, 6]\n"
     ]
    }
   ],
   "source": [
    "_d = {'Predictions': predictions, 'RealValues': y_test, 'Input':x_test.tolist()}\n",
    "result_df = pd.DataFrame(_d)\n",
    "result_df.loc[result_df.Predictions < 0.00,'Predictions'] = 0\n",
    "print(result_df)"
   ]
  },
  {
   "cell_type": "code",
   "execution_count": 60,
   "metadata": {},
   "outputs": [
    {
     "data": {
      "text/plain": [
       "array([19.88843305, 20.33537963,  5.02468628])"
      ]
     },
     "execution_count": 60,
     "metadata": {},
     "output_type": "execute_result"
    }
   ],
   "source": [
    "a = [[18, 19, 1, 0, 6], [13, 20, 0, 0, 6], [10, 5, 0, 0, 0]]\n",
    "linear.predict(a)"
   ]
  },
  {
   "cell_type": "code",
   "execution_count": 61,
   "metadata": {},
   "outputs": [],
   "source": [
    "with open('studentmodel.pickle', 'wb') as f:\n",
    "    pickle.dump(linear, f)\n",
    "\n",
    "pickle_in = open('studentmodel.pickle', 'rb')\n",
    "linear = pickle.load(pickle_in)"
   ]
  },
  {
   "cell_type": "code",
   "execution_count": 64,
   "metadata": {},
   "outputs": [
    {
     "data": {
      "image/png": "[encoded data removed]",
      "text/plain": [
       "<Figure size 432x288 with 1 Axes>"
      ]
     },
     "metadata": {},
     "output_type": "display_data"
    },
    {
     "data": {
      "image/png": "[encoded data removed]",
      "text/plain": [
       "<Figure size 432x288 with 1 Axes>"
      ]
     },
     "metadata": {},
     "output_type": "display_data"
    },
    {
     "data": {
      "image/png": "[encoded data removed]",
      "text/plain": [
       "<Figure size 432x288 with 1 Axes>"
      ]
     },
     "metadata": {},
     "output_type": "display_data"
    },
    {
     "data": {
      "image/png": "[encoded data removed]",
      "text/plain": [
       "<Figure size 432x288 with 1 Axes>"
      ]
     },
     "metadata": {},
     "output_type": "display_data"
    },
    {
     "data": {
      "image/png": "[encoded data removed]",
      "text/plain": [
       "<Figure size 432x288 with 1 Axes>"
      ]
     },
     "metadata": {},
     "output_type": "display_data"
    }
   ],
   "source": [
    "style.use('ggplot')\n",
    "for p in df.columns:\n",
    "    if p == 'G3':\n",
    "        continue\n",
    "\n",
    "    plt.scatter(df[p], df['G3'])\n",
    "    plt.xlabel(p)\n",
    "    plt.ylabel('Final Grades')\n",
    "    plt.show()"
   ]
  },
  {
   "cell_type": "code",
   "execution_count": null,
   "metadata": {},
   "outputs": [],
   "source": []
  }
 ],
 "metadata": {
  "kernelspec": {
   "display_name": "Python 3",
   "language": "python",
   "name": "python3"
  },
  "language_info": {
   "codemirror_mode": {
    "name": "ipython",
    "version": 3
   },
   "file_extension": ".py",
   "mimetype": "text/x-python",
   "name": "python",
   "nbconvert_exporter": "python",
   "pygments_lexer": "ipython3",
   "version": "3.8.5"
  }
 },
 "nbformat": 4,
 "nbformat_minor": 4
}
