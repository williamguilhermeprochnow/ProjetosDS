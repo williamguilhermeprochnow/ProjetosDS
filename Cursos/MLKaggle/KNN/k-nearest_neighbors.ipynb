{
 "cells": [
  {
   "cell_type": "code",
   "execution_count": 34,
   "metadata": {},
   "outputs": [],
   "source": [
    "import matplotlib.pyplot as plt\n",
    "import numpy as np\n",
    "import pandas as pd\n",
    "import sklearn\n",
    "import os\n",
    "\n",
    "from matplotlib import style\n",
    "from matplotlib.pyplot import figure\n",
    "from sklearn.utils import shuffle\n",
    "from sklearn.neighbors import KNeighborsClassifier\n",
    "from sklearn import linear_model, preprocessing\n",
    "from sklearn.metrics import classification_report\n",
    "\n",
    "\n",
    "for dirname, _, filenames in os.walk('/kaggle/input'):\n",
    "    for filename in filenames:\n",
    "        print(os.path.join(dirname, filename))"
   ]
  },
  {
   "cell_type": "code",
   "execution_count": 39,
   "metadata": {},
   "outputs": [
    {
     "data": {
      "text/html": [
       "<div>\n",
       "<style scoped>\n",
       "    .dataframe tbody tr th:only-of-type {\n",
       "        vertical-align: middle;\n",
       "    }\n",
       "\n",
       "    .dataframe tbody tr th {\n",
       "        vertical-align: top;\n",
       "    }\n",
       "\n",
       "    .dataframe thead th {\n",
       "        text-align: right;\n",
       "    }\n",
       "</style>\n",
       "<table border=\"1\" class=\"dataframe\">\n",
       "  <thead>\n",
       "    <tr style=\"text-align: right;\">\n",
       "      <th></th>\n",
       "      <th>buying</th>\n",
       "      <th>maint</th>\n",
       "      <th>doors</th>\n",
       "      <th>persons</th>\n",
       "      <th>lug_boot</th>\n",
       "      <th>safety</th>\n",
       "      <th>class</th>\n",
       "    </tr>\n",
       "  </thead>\n",
       "  <tbody>\n",
       "    <tr>\n",
       "      <th>0</th>\n",
       "      <td>vhigh</td>\n",
       "      <td>vhigh</td>\n",
       "      <td>2</td>\n",
       "      <td>2</td>\n",
       "      <td>small</td>\n",
       "      <td>low</td>\n",
       "      <td>unacc</td>\n",
       "    </tr>\n",
       "    <tr>\n",
       "      <th>1</th>\n",
       "      <td>vhigh</td>\n",
       "      <td>vhigh</td>\n",
       "      <td>2</td>\n",
       "      <td>2</td>\n",
       "      <td>small</td>\n",
       "      <td>med</td>\n",
       "      <td>unacc</td>\n",
       "    </tr>\n",
       "    <tr>\n",
       "      <th>2</th>\n",
       "      <td>vhigh</td>\n",
       "      <td>vhigh</td>\n",
       "      <td>2</td>\n",
       "      <td>2</td>\n",
       "      <td>small</td>\n",
       "      <td>high</td>\n",
       "      <td>unacc</td>\n",
       "    </tr>\n",
       "    <tr>\n",
       "      <th>3</th>\n",
       "      <td>vhigh</td>\n",
       "      <td>vhigh</td>\n",
       "      <td>2</td>\n",
       "      <td>2</td>\n",
       "      <td>med</td>\n",
       "      <td>low</td>\n",
       "      <td>unacc</td>\n",
       "    </tr>\n",
       "    <tr>\n",
       "      <th>4</th>\n",
       "      <td>vhigh</td>\n",
       "      <td>vhigh</td>\n",
       "      <td>2</td>\n",
       "      <td>2</td>\n",
       "      <td>med</td>\n",
       "      <td>med</td>\n",
       "      <td>unacc</td>\n",
       "    </tr>\n",
       "  </tbody>\n",
       "</table>\n",
       "</div>"
      ],
      "text/plain": [
       "  buying  maint doors persons lug_boot safety  class\n",
       "0  vhigh  vhigh     2       2    small    low  unacc\n",
       "1  vhigh  vhigh     2       2    small    med  unacc\n",
       "2  vhigh  vhigh     2       2    small   high  unacc\n",
       "3  vhigh  vhigh     2       2      med    low  unacc\n",
       "4  vhigh  vhigh     2       2      med    med  unacc"
      ]
     },
     "execution_count": 39,
     "metadata": {},
     "output_type": "execute_result"
    }
   ],
   "source": [
    "data = pd.read_csv(r'C:\\Users\\william.prochnow\\Documents\\ProjetosDS\\Cursos\\MLKaggle\\KNN\\Arquivos\\car_evaluation.csv', names=['buying', 'maint', 'doors', 'persons', 'lug_boot', 'safety', 'class'])\n",
    "data.head()"
   ]
  },
  {
   "cell_type": "code",
   "execution_count": 40,
   "metadata": {},
   "outputs": [],
   "source": [
    "le = preprocessing.LabelEncoder() #Transformar os labels em inteiros\n",
    "buying = le.fit_transform(list(data['buying']))\n",
    "maint = le.fit_transform(list(data['maint']))\n",
    "doors = le.fit_transform(list(data['doors']))\n",
    "persons = le.fit_transform(list(data['persons']))\n",
    "lug_boot = le.fit_transform(list(data['lug_boot']))\n",
    "safety = le.fit_transform(list(data['safety']))\n",
    "clss = le.fit_transform(list(data['class']))\n",
    "\n",
    "predict = 'class'"
   ]
  },
  {
   "cell_type": "code",
   "execution_count": 41,
   "metadata": {},
   "outputs": [
    {
     "name": "stdout",
     "output_type": "stream",
     "text": [
      "0       vhigh\n",
      "1       vhigh\n",
      "2       vhigh\n",
      "3       vhigh\n",
      "4       vhigh\n",
      "        ...  \n",
      "1723      low\n",
      "1724      low\n",
      "1725      low\n",
      "1726      low\n",
      "1727      low\n",
      "Name: buying, Length: 1728, dtype: object\n",
      "[3 3 3 ... 1 1 1]\n"
     ]
    }
   ],
   "source": [
    "print(data.buying)\n",
    "print(buying)"
   ]
  },
  {
   "cell_type": "code",
   "execution_count": 42,
   "metadata": {},
   "outputs": [],
   "source": [
    "#Features\n",
    "X = list(zip(buying, maint, doors, persons, lug_boot, safety))\n",
    "\n",
    "#Labels\n",
    "y = list(clss)"
   ]
  },
  {
   "cell_type": "code",
   "execution_count": 43,
   "metadata": {},
   "outputs": [],
   "source": [
    "#Separando novamente o conjunto de treinamento/teste\n",
    "x_train, x_test, y_train, y_test = sklearn.model_selection.train_test_split(X, y, test_size = 0.1)"
   ]
  },
  {
   "cell_type": "code",
   "execution_count": 44,
   "metadata": {},
   "outputs": [
    {
     "name": "stdout",
     "output_type": "stream",
     "text": [
      "0.8323699421965318\n"
     ]
    }
   ],
   "source": [
    "model = KNeighborsClassifier(n_neighbors=3)\n",
    "\n",
    "model.fit(x_train, y_train)\n",
    "acc = model.score(x_test, y_test)\n",
    "print(acc)"
   ]
  },
  {
   "cell_type": "code",
   "execution_count": 45,
   "metadata": {},
   "outputs": [
    {
     "name": "stdout",
     "output_type": "stream",
     "text": [
      "[0.838150289017341, 0.7976878612716763, 0.8323699421965318, 0.8497109826589595, 0.9132947976878613, 0.9248554913294798, 0.953757225433526, 0.9421965317919075, 0.9421965317919075, 0.9479768786127167, 0.9075144508670521, 0.8901734104046243, 0.8901734104046243, 0.8670520231213873, 0.8554913294797688, 0.8439306358381503, 0.8439306358381503, 0.8554913294797688, 0.8439306358381503, 0.8323699421965318, 0.8208092485549133, 0.8323699421965318, 0.815028901734104, 0.8092485549132948, 0.791907514450867, 0.7861271676300579, 0.791907514450867, 0.7861271676300579, 0.8092485549132948, 0.7976878612716763, 0.7861271676300579, 0.7803468208092486, 0.791907514450867, 0.7745664739884393, 0.7745664739884393, 0.7803468208092486, 0.7803468208092486, 0.7745664739884393, 0.7687861271676301, 0.7572254335260116, 0.7630057803468208, 0.7514450867052023, 0.7514450867052023, 0.7456647398843931, 0.7456647398843931, 0.7456647398843931, 0.7456647398843931, 0.7456647398843931, 0.7456647398843931]\n"
     ]
    }
   ],
   "source": [
    "acc = []\n",
    "for i in range(1, 50):\n",
    "    model = KNeighborsClassifier(n_neighbors=i)\n",
    "    model.fit(x_train, y_train)\n",
    "    acc.append(model.score(x_test, y_test))\n",
    "print(acc)"
   ]
  },
  {
   "cell_type": "code",
   "execution_count": 46,
   "metadata": {},
   "outputs": [
    {
     "data": {
      "image/png": "[encoded data removed]",
      "text/plain": [
       "<Figure size 1800x900 with 1 Axes>"
      ]
     },
     "metadata": {},
     "output_type": "display_data"
    }
   ],
   "source": [
    "figure(figsize=(12, 6), dpi=150)\n",
    "\n",
    "#modificando o estilo da grid\n",
    "style.use('ggplot')\n",
    "\n",
    "plt.plot(range(1,50), acc)\n",
    "plt.xlabel('Size of K')\n",
    "plt.ylabel('Accuracy')\n",
    "plt.winter;"
   ]
  },
  {
   "cell_type": "code",
   "execution_count": 47,
   "metadata": {},
   "outputs": [
    {
     "name": "stdout",
     "output_type": "stream",
     "text": [
      "[0 2 2 0 2 2 2 0 2 0 2 0 2 2 2 2 1 2 2 2 2 2 2 2 2 2 0 2 0 2 0 2 2 2 2 2 2\n",
      " 2 2 2 2 2 2 2 2 2 0 2 2 0 2 0 0 2 0 2 2 0 2 2 2 2 2 2 0 2 2 0 0 2 2 2 2 2\n",
      " 0 1 2 2 0 0 1 0 3 2 2 2 0 2 0 2 2 2 2 0 0 3 2 0 2 2 2 2 0 0 2 2 2 2 2 2 2\n",
      " 0 2 0 2 2 2 2 2 2 0 2 2 2 2 0 2 2 2 2 0 3 2 2 2 2 2 0 0 2 0 0 2 0 0 0 0 2\n",
      " 2 2 2 1 2 2 2 2 2 2 2 0 0 2 2 3 2 2 2 2 2 0 2 2 2]\n"
     ]
    }
   ],
   "source": [
    "model = KNeighborsClassifier(n_neighbors=9)\n",
    "model.fit(x_train, y_train)\n",
    "predicted = model.predict(x_test)\n",
    "\n",
    "print(predicted)"
   ]
  },
  {
   "cell_type": "code",
   "execution_count": 48,
   "metadata": {},
   "outputs": [
    {
     "name": "stdout",
     "output_type": "stream",
     "text": [
      "              precision    recall  f1-score   support\n",
      "\n",
      "       unacc       0.86      0.90      0.88        42\n",
      "         acc       1.00      0.57      0.73         7\n",
      "       vgood       0.97      0.98      0.97       119\n",
      "        good       1.00      0.80      0.89         5\n",
      "\n",
      "    accuracy                           0.94       173\n",
      "   macro avg       0.96      0.81      0.87       173\n",
      "weighted avg       0.94      0.94      0.94       173\n",
      "\n"
     ]
    }
   ],
   "source": [
    "types = data['class'].unique()\n",
    "\n",
    "print(classification_report(y_test, predicted, target_names=types))"
   ]
  },
  {
   "cell_type": "code",
   "execution_count": 49,
   "metadata": {},
   "outputs": [
    {
     "name": "stdout",
     "output_type": "stream",
     "text": [
      "Predicted: unacc, Data: (2, 3, 2, 2, 1, 0), Actual: unacc\n",
      "Predicted: good, Data: (3, 0, 2, 2, 1, 2), Actual: good\n",
      "Predicted: good, Data: (1, 1, 1, 0, 0, 1), Actual: good\n",
      "Predicted: unacc, Data: (2, 1, 0, 1, 0, 2), Actual: acc\n",
      "Predicted: good, Data: (3, 2, 2, 1, 1, 1), Actual: good\n",
      "Predicted: good, Data: (3, 2, 1, 1, 2, 2), Actual: good\n",
      "Predicted: good, Data: (1, 3, 2, 0, 0, 2), Actual: good\n",
      "Predicted: unacc, Data: (0, 1, 0, 2, 2, 0), Actual: good\n",
      "Predicted: good, Data: (1, 1, 3, 0, 0, 1), Actual: good\n",
      "Predicted: unacc, Data: (1, 3, 2, 2, 1, 2), Actual: unacc\n",
      "Predicted: good, Data: (0, 0, 3, 0, 2, 2), Actual: good\n",
      "Predicted: unacc, Data: (2, 0, 2, 2, 0, 0), Actual: unacc\n",
      "Predicted: good, Data: (2, 2, 2, 0, 2, 0), Actual: good\n",
      "Predicted: good, Data: (0, 1, 1, 1, 2, 2), Actual: good\n",
      "Predicted: good, Data: (0, 2, 0, 2, 1, 1), Actual: good\n",
      "Predicted: good, Data: (0, 3, 0, 1, 0, 2), Actual: good\n",
      "Predicted: acc, Data: (1, 1, 0, 1, 1, 0), Actual: acc\n",
      "Predicted: good, Data: (3, 1, 1, 1, 0, 1), Actual: good\n",
      "Predicted: good, Data: (3, 2, 1, 1, 2, 1), Actual: good\n",
      "Predicted: good, Data: (0, 3, 3, 0, 0, 0), Actual: good\n",
      "Predicted: good, Data: (2, 3, 2, 0, 2, 2), Actual: good\n",
      "Predicted: good, Data: (2, 2, 0, 0, 0, 2), Actual: good\n",
      "Predicted: good, Data: (0, 0, 2, 1, 2, 1), Actual: good\n",
      "Predicted: good, Data: (2, 0, 3, 1, 2, 1), Actual: good\n",
      "Predicted: good, Data: (1, 2, 1, 1, 0, 1), Actual: good\n",
      "Predicted: good, Data: (0, 3, 0, 0, 1, 2), Actual: good\n",
      "Predicted: unacc, Data: (2, 0, 3, 1, 0, 2), Actual: unacc\n",
      "Predicted: good, Data: (3, 1, 2, 0, 2, 2), Actual: good\n",
      "Predicted: unacc, Data: (0, 1, 3, 2, 1, 0), Actual: unacc\n",
      "Predicted: good, Data: (0, 0, 0, 0, 1, 1), Actual: good\n",
      "Predicted: unacc, Data: (3, 2, 0, 1, 0, 0), Actual: unacc\n",
      "Predicted: good, Data: (2, 0, 0, 2, 2, 2), Actual: good\n",
      "Predicted: good, Data: (0, 3, 2, 0, 0, 2), Actual: good\n",
      "Predicted: good, Data: (3, 0, 0, 1, 0, 2), Actual: good\n",
      "Predicted: good, Data: (0, 3, 3, 1, 2, 2), Actual: good\n",
      "Predicted: good, Data: (0, 0, 0, 1, 2, 2), Actual: good\n",
      "Predicted: good, Data: (2, 1, 0, 0, 2, 0), Actual: good\n",
      "Predicted: good, Data: (0, 1, 1, 1, 1, 1), Actual: good\n",
      "Predicted: good, Data: (0, 3, 2, 0, 2, 1), Actual: good\n",
      "Predicted: good, Data: (3, 2, 2, 0, 0, 1), Actual: good\n",
      "Predicted: good, Data: (3, 3, 2, 0, 1, 2), Actual: good\n",
      "Predicted: good, Data: (1, 0, 2, 0, 2, 1), Actual: good\n",
      "Predicted: good, Data: (3, 1, 2, 0, 0, 0), Actual: good\n",
      "Predicted: good, Data: (2, 3, 2, 1, 2, 2), Actual: good\n",
      "Predicted: good, Data: (3, 2, 1, 0, 2, 0), Actual: good\n",
      "Predicted: good, Data: (0, 2, 1, 0, 1, 1), Actual: good\n",
      "Predicted: unacc, Data: (3, 2, 3, 1, 1, 2), Actual: unacc\n",
      "Predicted: good, Data: (0, 1, 2, 0, 0, 1), Actual: good\n",
      "Predicted: good, Data: (1, 2, 2, 0, 2, 2), Actual: good\n",
      "Predicted: unacc, Data: (1, 2, 3, 2, 2, 0), Actual: acc\n",
      "Predicted: good, Data: (2, 0, 2, 1, 1, 1), Actual: good\n",
      "Predicted: unacc, Data: (1, 0, 3, 1, 1, 2), Actual: unacc\n",
      "Predicted: unacc, Data: (1, 3, 1, 1, 2, 0), Actual: unacc\n",
      "Predicted: good, Data: (0, 1, 0, 1, 1, 2), Actual: good\n",
      "Predicted: unacc, Data: (1, 0, 2, 2, 0, 2), Actual: unacc\n",
      "Predicted: good, Data: (2, 0, 1, 0, 0, 2), Actual: good\n",
      "Predicted: good, Data: (1, 0, 3, 2, 0, 1), Actual: good\n",
      "Predicted: unacc, Data: (0, 0, 3, 2, 0, 0), Actual: unacc\n",
      "Predicted: good, Data: (1, 3, 2, 1, 1, 2), Actual: unacc\n",
      "Predicted: good, Data: (3, 1, 1, 2, 1, 1), Actual: good\n",
      "Predicted: good, Data: (3, 0, 2, 1, 2, 0), Actual: good\n",
      "Predicted: good, Data: (3, 3, 1, 0, 2, 0), Actual: good\n",
      "Predicted: good, Data: (3, 2, 0, 1, 0, 2), Actual: unacc\n",
      "Predicted: good, Data: (0, 1, 1, 0, 1, 1), Actual: good\n",
      "Predicted: unacc, Data: (0, 1, 1, 2, 2, 0), Actual: unacc\n",
      "Predicted: good, Data: (3, 0, 2, 2, 0, 0), Actual: good\n",
      "Predicted: good, Data: (2, 0, 0, 1, 0, 2), Actual: unacc\n",
      "Predicted: unacc, Data: (0, 2, 0, 2, 0, 0), Actual: unacc\n",
      "Predicted: unacc, Data: (1, 1, 1, 2, 1, 2), Actual: acc\n",
      "Predicted: good, Data: (1, 3, 0, 1, 1, 1), Actual: good\n",
      "Predicted: good, Data: (3, 0, 3, 2, 0, 0), Actual: good\n",
      "Predicted: good, Data: (1, 2, 1, 2, 0, 1), Actual: good\n",
      "Predicted: good, Data: (2, 0, 1, 2, 1, 1), Actual: good\n",
      "Predicted: good, Data: (1, 1, 2, 0, 2, 0), Actual: good\n",
      "Predicted: unacc, Data: (2, 0, 1, 1, 0, 0), Actual: unacc\n",
      "Predicted: acc, Data: (2, 1, 2, 1, 0, 2), Actual: acc\n",
      "Predicted: good, Data: (3, 1, 0, 2, 1, 2), Actual: good\n",
      "Predicted: good, Data: (3, 3, 0, 0, 2, 0), Actual: good\n",
      "Predicted: unacc, Data: (0, 1, 2, 2, 2, 0), Actual: unacc\n",
      "Predicted: unacc, Data: (0, 0, 2, 2, 1, 0), Actual: unacc\n",
      "Predicted: acc, Data: (1, 1, 3, 1, 2, 0), Actual: acc\n",
      "Predicted: unacc, Data: (2, 2, 1, 1, 2, 2), Actual: unacc\n",
      "Predicted: vgood, Data: (2, 2, 0, 1, 0, 0), Actual: vgood\n",
      "Predicted: good, Data: (2, 3, 3, 1, 1, 2), Actual: unacc\n",
      "Predicted: good, Data: (0, 0, 1, 1, 1, 2), Actual: good\n",
      "Predicted: good, Data: (0, 0, 0, 2, 2, 2), Actual: good\n",
      "Predicted: unacc, Data: (1, 0, 3, 2, 1, 0), Actual: vgood\n",
      "Predicted: good, Data: (0, 2, 3, 0, 0, 1), Actual: good\n",
      "Predicted: unacc, Data: (3, 2, 3, 2, 0, 0), Actual: unacc\n",
      "Predicted: good, Data: (0, 0, 3, 1, 1, 1), Actual: good\n",
      "Predicted: good, Data: (3, 2, 0, 0, 2, 1), Actual: good\n",
      "Predicted: good, Data: (1, 0, 1, 0, 2, 0), Actual: good\n",
      "Predicted: good, Data: (1, 3, 3, 2, 0, 1), Actual: good\n",
      "Predicted: unacc, Data: (2, 0, 1, 2, 1, 2), Actual: unacc\n",
      "Predicted: unacc, Data: (2, 3, 1, 2, 2, 0), Actual: unacc\n",
      "Predicted: vgood, Data: (1, 1, 1, 2, 1, 0), Actual: vgood\n",
      "Predicted: good, Data: (3, 1, 2, 0, 0, 2), Actual: good\n",
      "Predicted: unacc, Data: (3, 2, 1, 2, 2, 0), Actual: unacc\n",
      "Predicted: good, Data: (0, 3, 1, 0, 1, 0), Actual: good\n",
      "Predicted: good, Data: (1, 2, 3, 0, 0, 0), Actual: good\n",
      "Predicted: good, Data: (2, 3, 2, 2, 2, 2), Actual: good\n",
      "Predicted: good, Data: (3, 0, 2, 0, 0, 1), Actual: good\n",
      "Predicted: unacc, Data: (2, 0, 3, 1, 2, 2), Actual: good\n",
      "Predicted: unacc, Data: (3, 1, 2, 2, 2, 0), Actual: unacc\n",
      "Predicted: good, Data: (2, 1, 3, 0, 1, 1), Actual: good\n",
      "Predicted: good, Data: (1, 1, 3, 0, 2, 1), Actual: good\n",
      "Predicted: good, Data: (0, 2, 1, 2, 2, 1), Actual: good\n",
      "Predicted: good, Data: (0, 1, 0, 0, 1, 0), Actual: good\n",
      "Predicted: good, Data: (1, 0, 3, 0, 0, 2), Actual: good\n",
      "Predicted: good, Data: (2, 3, 0, 0, 2, 1), Actual: good\n",
      "Predicted: good, Data: (2, 0, 0, 2, 1, 1), Actual: good\n",
      "Predicted: unacc, Data: (2, 3, 3, 2, 2, 0), Actual: unacc\n",
      "Predicted: good, Data: (3, 0, 0, 0, 2, 1), Actual: good\n",
      "Predicted: unacc, Data: (2, 3, 2, 2, 0, 0), Actual: unacc\n",
      "Predicted: good, Data: (3, 3, 1, 0, 0, 0), Actual: good\n",
      "Predicted: good, Data: (0, 3, 2, 2, 1, 2), Actual: good\n",
      "Predicted: good, Data: (2, 3, 1, 0, 2, 1), Actual: good\n",
      "Predicted: good, Data: (2, 1, 0, 0, 2, 1), Actual: good\n",
      "Predicted: good, Data: (1, 0, 0, 0, 2, 0), Actual: good\n",
      "Predicted: good, Data: (1, 0, 2, 0, 2, 2), Actual: good\n",
      "Predicted: unacc, Data: (0, 1, 0, 2, 0, 0), Actual: unacc\n",
      "Predicted: good, Data: (0, 1, 3, 0, 2, 0), Actual: good\n",
      "Predicted: good, Data: (0, 2, 0, 0, 1, 2), Actual: good\n",
      "Predicted: good, Data: (3, 3, 1, 2, 1, 1), Actual: good\n",
      "Predicted: good, Data: (0, 3, 0, 0, 2, 1), Actual: good\n",
      "Predicted: unacc, Data: (1, 0, 0, 2, 0, 2), Actual: unacc\n",
      "Predicted: good, Data: (2, 2, 0, 1, 1, 1), Actual: good\n",
      "Predicted: good, Data: (3, 3, 1, 1, 2, 1), Actual: good\n",
      "Predicted: good, Data: (2, 2, 1, 0, 1, 2), Actual: good\n",
      "Predicted: good, Data: (0, 1, 1, 0, 2, 0), Actual: good\n",
      "Predicted: unacc, Data: (1, 0, 2, 1, 0, 2), Actual: unacc\n",
      "Predicted: vgood, Data: (1, 1, 3, 1, 0, 0), Actual: vgood\n",
      "Predicted: good, Data: (3, 0, 1, 1, 0, 0), Actual: good\n",
      "Predicted: good, Data: (0, 1, 0, 2, 2, 1), Actual: good\n",
      "Predicted: good, Data: (0, 1, 0, 1, 2, 2), Actual: good\n",
      "Predicted: good, Data: (3, 1, 2, 2, 0, 1), Actual: good\n",
      "Predicted: good, Data: (1, 1, 1, 0, 2, 1), Actual: good\n",
      "Predicted: unacc, Data: (1, 3, 2, 2, 2, 0), Actual: unacc\n",
      "Predicted: unacc, Data: (2, 3, 3, 1, 0, 2), Actual: unacc\n",
      "Predicted: good, Data: (0, 2, 2, 0, 2, 0), Actual: good\n",
      "Predicted: unacc, Data: (1, 1, 0, 2, 1, 2), Actual: unacc\n",
      "Predicted: unacc, Data: (1, 3, 0, 2, 1, 0), Actual: unacc\n",
      "Predicted: good, Data: (2, 1, 1, 0, 2, 1), Actual: good\n",
      "Predicted: unacc, Data: (2, 2, 1, 1, 0, 2), Actual: unacc\n",
      "Predicted: unacc, Data: (3, 2, 3, 2, 1, 0), Actual: unacc\n",
      "Predicted: unacc, Data: (2, 1, 2, 2, 2, 2), Actual: unacc\n",
      "Predicted: unacc, Data: (0, 2, 3, 2, 2, 0), Actual: unacc\n",
      "Predicted: good, Data: (1, 2, 1, 0, 0, 2), Actual: good\n",
      "Predicted: good, Data: (2, 2, 1, 2, 0, 1), Actual: good\n",
      "Predicted: good, Data: (0, 3, 2, 0, 0, 0), Actual: good\n",
      "Predicted: good, Data: (0, 3, 0, 0, 2, 0), Actual: good\n",
      "Predicted: acc, Data: (2, 1, 2, 2, 1, 2), Actual: acc\n",
      "Predicted: good, Data: (1, 2, 3, 0, 1, 1), Actual: good\n",
      "Predicted: good, Data: (1, 3, 3, 1, 2, 2), Actual: good\n",
      "Predicted: good, Data: (3, 0, 3, 2, 0, 2), Actual: good\n",
      "Predicted: good, Data: (3, 0, 1, 2, 1, 0), Actual: good\n",
      "Predicted: good, Data: (3, 2, 1, 0, 2, 2), Actual: good\n",
      "Predicted: good, Data: (1, 3, 3, 0, 2, 0), Actual: good\n",
      "Predicted: good, Data: (2, 3, 2, 0, 0, 2), Actual: good\n",
      "Predicted: unacc, Data: (2, 0, 0, 1, 1, 0), Actual: unacc\n",
      "Predicted: unacc, Data: (0, 2, 0, 1, 2, 0), Actual: unacc\n",
      "Predicted: good, Data: (0, 0, 3, 1, 2, 1), Actual: good\n",
      "Predicted: good, Data: (3, 1, 2, 1, 2, 1), Actual: good\n",
      "Predicted: vgood, Data: (2, 1, 1, 1, 0, 0), Actual: vgood\n",
      "Predicted: good, Data: (0, 0, 0, 1, 2, 1), Actual: good\n",
      "Predicted: good, Data: (0, 0, 0, 2, 0, 1), Actual: good\n",
      "Predicted: good, Data: (1, 2, 2, 2, 2, 1), Actual: good\n",
      "Predicted: good, Data: (0, 2, 0, 1, 1, 1), Actual: good\n",
      "Predicted: good, Data: (3, 3, 2, 2, 0, 1), Actual: good\n",
      "Predicted: unacc, Data: (3, 2, 3, 1, 1, 0), Actual: unacc\n",
      "Predicted: good, Data: (3, 3, 3, 0, 1, 0), Actual: good\n",
      "Predicted: good, Data: (3, 3, 0, 1, 0, 1), Actual: good\n",
      "Predicted: good, Data: (1, 3, 3, 0, 2, 2), Actual: good\n"
     ]
    }
   ],
   "source": [
    "names = ['unacc', 'acc', 'good', 'vgood']\n",
    "for i in range(len(predicted)):\n",
    "    print(f'Predicted: {names[predicted[i]]}, Data: {x_test[i]}, Actual: {names[y_test[i]]}')"
   ]
  },
  {
   "cell_type": "code",
   "execution_count": null,
   "metadata": {},
   "outputs": [],
   "source": []
  }
 ],
 "metadata": {
  "kernelspec": {
   "display_name": "Python 3",
   "language": "python",
   "name": "python3"
  },
  "language_info": {
   "codemirror_mode": {
    "name": "ipython",
    "version": 3
   },
   "file_extension": ".py",
   "mimetype": "text/x-python",
   "name": "python",
   "nbconvert_exporter": "python",
   "pygments_lexer": "ipython3",
   "version": "3.8.5"
  }
 },
 "nbformat": 4,
 "nbformat_minor": 4
}
