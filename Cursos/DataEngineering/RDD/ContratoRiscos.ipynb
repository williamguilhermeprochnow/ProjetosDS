{
 "cells": [
  {
   "cell_type": "code",
   "execution_count": 1,
   "id": "9cab4b2a",
   "metadata": {},
   "outputs": [],
   "source": [
    "from pyspark.sql import SparkSession, types\n",
    "spark = SparkSession.builder.appName('count').getOrCreate()"
   ]
  },
  {
   "cell_type": "code",
   "execution_count": 2,
   "id": "8010bab4",
   "metadata": {},
   "outputs": [],
   "source": [
    "from pyspark.sql.functions import to_timestamp"
   ]
  },
  {
   "cell_type": "code",
   "execution_count": 3,
   "id": "a52f1aeb",
   "metadata": {},
   "outputs": [
    {
     "name": "stdout",
     "output_type": "stream",
     "text": [
      "root\n",
      " |-- contrato: string (nullable = true)\n",
      " |-- datacadastro: string (nullable = true)\n",
      " |-- idcliente: long (nullable = true)\n",
      " |-- idcontrato: long (nullable = true)\n",
      "\n"
     ]
    }
   ],
   "source": [
    "df = spark.read.json('../Arquivos/contratos.json')\n",
    "df.printSchema()"
   ]
  },
  {
   "cell_type": "code",
   "execution_count": 4,
   "id": "679d020c",
   "metadata": {},
   "outputs": [
    {
     "name": "stdout",
     "output_type": "stream",
     "text": [
      "root\n",
      " |-- contrato: string (nullable = true)\n",
      " |-- datacadastro: timestamp (nullable = true)\n",
      " |-- idcliente: integer (nullable = true)\n",
      " |-- idcontrato: long (nullable = true)\n",
      "\n"
     ]
    }
   ],
   "source": [
    "df = df.withColumn('datacadastro', to_timestamp(df['datacadastro'], 'dd-MM-yyyy'))\n",
    "df = df.withColumn('idcliente', df.idcliente.cast(types.IntegerType()))\n",
    "df.printSchema()"
   ]
  },
  {
   "cell_type": "code",
   "execution_count": 5,
   "id": "e21403db",
   "metadata": {},
   "outputs": [
    {
     "name": "stdout",
     "output_type": "stream",
     "text": [
      "+--------------------+-------------------+---------+----------+\n",
      "|            contrato|       datacadastro|idcliente|idcontrato|\n",
      "+--------------------+-------------------+---------+----------+\n",
      "|CONTRATO DE LOCAÇ...|2019-01-25 00:00:00|        1|     66429|\n",
      "|CONTRATO DE LOCAÇ...|2019-01-15 00:00:00|        2|     22082|\n",
      "|CONTRATO DE LOCAÇ...|2019-04-09 00:00:00|        3|     83667|\n",
      "|CONTRATO DE LOCAÇ...|2019-05-26 00:00:00|        4|     23784|\n",
      "|CONTRATO DE LOCAÇ...|2019-01-28 00:00:00|        5|     63068|\n",
      "|CONTRATO DE LOCAÇ...|2019-05-23 00:00:00|        6|     21708|\n",
      "|CONTRATO DE LOCAÇ...|2019-04-17 00:00:00|        7|     28230|\n",
      "|CONTRATO DE LOCAÇ...|2019-05-13 00:00:00|        8|     26102|\n",
      "|CONTRATO DE LOCAÇ...|2019-04-04 00:00:00|        9|     21813|\n",
      "|CONTRATO DE LOCAÇ...|2019-05-04 00:00:00|       10|     56786|\n",
      "|CONTRATO DE LOCAÇ...|2019-02-18 00:00:00|       11|     95158|\n",
      "|CONTRATO DE LOCAÇ...|2019-06-30 00:00:00|       12|     86195|\n",
      "|CONTRATO DE LOCAÇ...|2019-05-24 00:00:00|       13|     43839|\n",
      "|CONTRATO DE LOCAÇ...|2019-02-13 00:00:00|       14|     93963|\n",
      "|CONTRATO DE LOCAÇ...|2019-06-28 00:00:00|       15|     35602|\n",
      "|CONTRATO DE LOCAÇ...|2019-04-09 00:00:00|       16|    105523|\n",
      "|CONTRATO DE LOCAÇ...|2019-02-09 00:00:00|       17|     94815|\n",
      "|CONTRATO DE LOCAÇ...|2019-05-10 00:00:00|       18|     70379|\n",
      "|CONTRATO DE LOCAÇ...|2019-05-27 00:00:00|       19|     60221|\n",
      "|CONTRATO DE LOCAÇ...|2019-02-15 00:00:00|       20|     61854|\n",
      "+--------------------+-------------------+---------+----------+\n",
      "only showing top 20 rows\n",
      "\n"
     ]
    }
   ],
   "source": [
    "df.show()"
   ]
  },
  {
   "cell_type": "code",
   "execution_count": 6,
   "id": "873171ae",
   "metadata": {},
   "outputs": [
    {
     "name": "stdout",
     "output_type": "stream",
     "text": [
      "+--------------------+-------------------+---------+----------+\n",
      "|            contrato|       datacadastro|idcliente|idcontrato|\n",
      "+--------------------+-------------------+---------+----------+\n",
      "|CONTRATO DE LOCAÇ...|2019-01-15 00:00:00|        2|     22082|\n",
      "|CONTRATO DE LOCAÇ...|2019-05-26 00:00:00|        4|     23784|\n",
      "|CONTRATO DE LOCAÇ...|2019-04-04 00:00:00|        9|     21813|\n",
      "|CONTRATO DE LOCAÇ...|2019-02-13 00:00:00|       14|     93963|\n",
      "|CONTRATO DE LOCAÇ...|2019-02-15 00:00:00|       20|     61854|\n",
      "+--------------------+-------------------+---------+----------+\n",
      "\n"
     ]
    },
    {
     "data": {
      "text/plain": [
       "5"
      ]
     },
     "execution_count": 6,
     "metadata": {},
     "output_type": "execute_result"
    }
   ],
   "source": [
    "df.filter(df.contrato.contains('risco')).show()\n",
    "df.filter(df.contrato.contains('risco')).count()"
   ]
  },
  {
   "cell_type": "code",
   "execution_count": 7,
   "id": "a679a8e7",
   "metadata": {},
   "outputs": [
    {
     "name": "stdout",
     "output_type": "stream",
     "text": [
      "+--------------------+-------------------+---------+\n",
      "|            contrato|       datacadastro|idcliente|\n",
      "+--------------------+-------------------+---------+\n",
      "|CONTRATO DE LOCAÇ...|2019-01-15 00:00:00|        2|\n",
      "|CONTRATO DE LOCAÇ...|2019-05-26 00:00:00|        4|\n",
      "|CONTRATO DE LOCAÇ...|2019-04-04 00:00:00|        9|\n",
      "|CONTRATO DE LOCAÇ...|2019-02-13 00:00:00|       14|\n",
      "|CONTRATO DE LOCAÇ...|2019-02-15 00:00:00|       20|\n",
      "+--------------------+-------------------+---------+\n",
      "\n"
     ]
    }
   ],
   "source": [
    "df.select(['contrato', 'datacadastro', 'idcliente']).filter(df.contrato.contains('risco')).show()"
   ]
  },
  {
   "cell_type": "code",
   "execution_count": null,
   "id": "f62dc01b",
   "metadata": {},
   "outputs": [],
   "source": []
  }
 ],
 "metadata": {
  "kernelspec": {
   "display_name": "Python 3",
   "language": "python",
   "name": "python3"
  },
  "language_info": {
   "codemirror_mode": {
    "name": "ipython",
    "version": 3
   },
   "file_extension": ".py",
   "mimetype": "text/x-python",
   "name": "python",
   "nbconvert_exporter": "python",
   "pygments_lexer": "ipython3",
   "version": "3.8.8"
  }
 },
 "nbformat": 4,
 "nbformat_minor": 5
}
