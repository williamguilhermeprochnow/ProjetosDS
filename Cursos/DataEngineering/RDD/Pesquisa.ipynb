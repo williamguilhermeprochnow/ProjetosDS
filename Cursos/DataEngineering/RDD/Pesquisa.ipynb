{
 "cells": [
  {
   "cell_type": "code",
   "execution_count": 1,
   "id": "1e99ea0c",
   "metadata": {},
   "outputs": [],
   "source": [
    "from pyspark.sql import SparkSession\n",
    "spark = SparkSession.builder.appName('pesquisa').getOrCreate()\n",
    "sc = spark.sparkContext\n",
    "\n",
    "# Impede que arquivos de _SUCCESS e metadados sejam criados na hora de salvar\n",
    "spark.sparkContext._jsc.hadoopConfiguration().set(\"mapreduce.fileoutputcommitter.marksuccessfuljobs\", \"false\")\n",
    "spark.sparkContext._jsc.hadoopConfiguration().set(\"parquet.enable.summary-metadata\", \"false\")"
   ]
  },
  {
   "cell_type": "code",
   "execution_count": 2,
   "id": "88000fc2",
   "metadata": {},
   "outputs": [
    {
     "data": {
      "text/plain": [
       "['Elite', 'Elite', 'BigWhell', 'BigWhell', 'BigWhell']"
      ]
     },
     "execution_count": 2,
     "metadata": {},
     "output_type": "execute_result"
    }
   ],
   "source": [
    "pesquisa = sc.textFile('../Arquivos/pesquisabike.txt')\n",
    "pesquisa.take(5)"
   ]
  },
  {
   "cell_type": "code",
   "execution_count": 3,
   "id": "69189c68",
   "metadata": {},
   "outputs": [],
   "source": [
    "contagem = pesquisa.flatMap(lambda palavra: palavra.split(' '))\n",
    "contagem = contagem.map(lambda palavra: (palavra, 1))\n",
    "contagem = contagem.reduceByKey(lambda a, b: a + b)"
   ]
  },
  {
   "cell_type": "code",
   "execution_count": 4,
   "id": "ec2a69b9",
   "metadata": {
    "scrolled": true
   },
   "outputs": [
    {
     "data": {
      "text/plain": [
       "[('Elite', 286),\n",
       " ('BigWhell', 130),\n",
       " ('SL429F', 78),\n",
       " ('Riff50SR', 104),\n",
       " ('ImpactPro', 26)]"
      ]
     },
     "execution_count": 4,
     "metadata": {},
     "output_type": "execute_result"
    }
   ],
   "source": [
    "contagem.take(5)"
   ]
  },
  {
   "cell_type": "code",
   "execution_count": 5,
   "id": "ed14e044",
   "metadata": {
    "scrolled": true
   },
   "outputs": [],
   "source": [
    "contagem.coalesce(1).saveAsTextFile(\"../Arquivos/conta\")"
   ]
  },
  {
   "cell_type": "code",
   "execution_count": 6,
   "id": "9f953710",
   "metadata": {},
   "outputs": [
    {
     "name": "stdout",
     "output_type": "stream",
     "text": [
      "root\n",
      " |-- ValoresSalvos: string (nullable = true)\n",
      "\n"
     ]
    }
   ],
   "source": [
    "df_read = spark.read.text('../Arquivos/conta/part-00000').selectExpr('value as ValoresSalvos')\n",
    "df_read.printSchema()"
   ]
  },
  {
   "cell_type": "code",
   "execution_count": 7,
   "id": "db962fc5",
   "metadata": {},
   "outputs": [
    {
     "name": "stdout",
     "output_type": "stream",
     "text": [
      "+---------------------+\n",
      "|ValoresSalvos        |\n",
      "+---------------------+\n",
      "|('Elite', 286)       |\n",
      "|('BigWhell', 130)    |\n",
      "|('SL429F', 78)       |\n",
      "|('Riff50SR', 104)    |\n",
      "|('ImpactPro', 26)    |\n",
      "|('StradaRacing', 130)|\n",
      "|('Auge555', 364)     |\n",
      "|('AudaxVentus', 104) |\n",
      "+---------------------+\n",
      "\n"
     ]
    }
   ],
   "source": [
    "df_read.show(truncate=False)"
   ]
  },
  {
   "cell_type": "code",
   "execution_count": null,
   "id": "2af60d43",
   "metadata": {},
   "outputs": [],
   "source": []
  }
 ],
 "metadata": {
  "kernelspec": {
   "display_name": "Python 3",
   "language": "python",
   "name": "python3"
  },
  "language_info": {
   "codemirror_mode": {
    "name": "ipython",
    "version": 3
   },
   "file_extension": ".py",
   "mimetype": "text/x-python",
   "name": "python",
   "nbconvert_exporter": "python",
   "pygments_lexer": "ipython3",
   "version": "3.8.8"
  }
 },
 "nbformat": 4,
 "nbformat_minor": 5
}
