{
 "cells": [
  {
   "cell_type": "code",
   "execution_count": 1,
   "id": "d75834c5",
   "metadata": {},
   "outputs": [],
   "source": [
    "from pyspark.sql import SparkSession\n",
    "spark = SparkSession.builder.appName('rdd').getOrCreate()"
   ]
  },
  {
   "cell_type": "code",
   "execution_count": 2,
   "id": "6ae4fe63",
   "metadata": {},
   "outputs": [],
   "source": [
    "from pyspark import StorageLevel"
   ]
  },
  {
   "cell_type": "code",
   "execution_count": 3,
   "id": "dc4f8fe6",
   "metadata": {},
   "outputs": [],
   "source": [
    "sc = spark.sparkContext"
   ]
  },
  {
   "cell_type": "code",
   "execution_count": 4,
   "id": "b05a56f6",
   "metadata": {},
   "outputs": [],
   "source": [
    "numeros = sc.parallelize([1, 2, 3, 4, 5, 6, 7, 8, 9, 10])"
   ]
  },
  {
   "cell_type": "code",
   "execution_count": 5,
   "id": "9d66445b",
   "metadata": {},
   "outputs": [
    {
     "data": {
      "text/plain": [
       "1"
      ]
     },
     "execution_count": 5,
     "metadata": {},
     "output_type": "execute_result"
    }
   ],
   "source": [
    "numeros.first()"
   ]
  },
  {
   "cell_type": "code",
   "execution_count": 6,
   "id": "f558d5ac",
   "metadata": {},
   "outputs": [
    {
     "data": {
      "text/plain": [
       "[1, 2, 3, 4, 5]"
      ]
     },
     "execution_count": 6,
     "metadata": {},
     "output_type": "execute_result"
    }
   ],
   "source": [
    "numeros.take(5)"
   ]
  },
  {
   "cell_type": "code",
   "execution_count": 7,
   "id": "d874adeb",
   "metadata": {},
   "outputs": [
    {
     "data": {
      "text/plain": [
       "[10, 9, 8, 7, 6]"
      ]
     },
     "execution_count": 7,
     "metadata": {},
     "output_type": "execute_result"
    }
   ],
   "source": [
    "numeros.top(5)"
   ]
  },
  {
   "cell_type": "code",
   "execution_count": 8,
   "id": "8327d3a0",
   "metadata": {},
   "outputs": [
    {
     "data": {
      "text/plain": [
       "[1, 2, 3, 4, 5, 6, 7, 8, 9, 10]"
      ]
     },
     "execution_count": 8,
     "metadata": {},
     "output_type": "execute_result"
    }
   ],
   "source": [
    "numeros.collect()"
   ]
  },
  {
   "cell_type": "code",
   "execution_count": 9,
   "id": "4c1c5136",
   "metadata": {},
   "outputs": [
    {
     "data": {
      "text/plain": [
       "10"
      ]
     },
     "execution_count": 9,
     "metadata": {},
     "output_type": "execute_result"
    }
   ],
   "source": [
    "numeros.count()"
   ]
  },
  {
   "cell_type": "code",
   "execution_count": 10,
   "id": "cf508cdd",
   "metadata": {},
   "outputs": [
    {
     "data": {
      "text/plain": [
       "5.5"
      ]
     },
     "execution_count": 10,
     "metadata": {},
     "output_type": "execute_result"
    }
   ],
   "source": [
    "numeros.mean()"
   ]
  },
  {
   "cell_type": "code",
   "execution_count": 11,
   "id": "90ee5c9e",
   "metadata": {},
   "outputs": [
    {
     "data": {
      "text/plain": [
       "55"
      ]
     },
     "execution_count": 11,
     "metadata": {},
     "output_type": "execute_result"
    }
   ],
   "source": [
    "numeros.sum()"
   ]
  },
  {
   "cell_type": "code",
   "execution_count": 12,
   "id": "c9cf1a2f",
   "metadata": {},
   "outputs": [
    {
     "data": {
      "text/plain": [
       "10"
      ]
     },
     "execution_count": 12,
     "metadata": {},
     "output_type": "execute_result"
    }
   ],
   "source": [
    "numeros.max()"
   ]
  },
  {
   "cell_type": "code",
   "execution_count": 13,
   "id": "06f52af5",
   "metadata": {},
   "outputs": [
    {
     "data": {
      "text/plain": [
       "1"
      ]
     },
     "execution_count": 13,
     "metadata": {},
     "output_type": "execute_result"
    }
   ],
   "source": [
    "numeros.min()"
   ]
  },
  {
   "cell_type": "code",
   "execution_count": 14,
   "id": "0d0db299",
   "metadata": {},
   "outputs": [
    {
     "data": {
      "text/plain": [
       "2.8722813232690143"
      ]
     },
     "execution_count": 14,
     "metadata": {},
     "output_type": "execute_result"
    }
   ],
   "source": [
    "numeros.stdev()"
   ]
  },
  {
   "cell_type": "code",
   "execution_count": 15,
   "id": "1e20f311",
   "metadata": {},
   "outputs": [
    {
     "data": {
      "text/plain": [
       "ParallelCollectionRDD[0] at readRDDFromFile at PythonRDD.scala:274"
      ]
     },
     "execution_count": 15,
     "metadata": {},
     "output_type": "execute_result"
    }
   ],
   "source": [
    "numeros.persist(StorageLevel.MEMORY_ONLY)"
   ]
  },
  {
   "cell_type": "code",
   "execution_count": 16,
   "id": "ee16d855",
   "metadata": {},
   "outputs": [
    {
     "data": {
      "text/plain": [
       "ParallelCollectionRDD[0] at readRDDFromFile at PythonRDD.scala:274"
      ]
     },
     "execution_count": 16,
     "metadata": {},
     "output_type": "execute_result"
    }
   ],
   "source": [
    "numeros.unpersist()"
   ]
  },
  {
   "cell_type": "code",
   "execution_count": 17,
   "id": "970f7155",
   "metadata": {},
   "outputs": [
    {
     "data": {
      "text/plain": [
       "[3, 4, 5, 6, 7, 8, 9, 10]"
      ]
     },
     "execution_count": 17,
     "metadata": {},
     "output_type": "execute_result"
    }
   ],
   "source": [
    "filtro = numeros.filter(lambda filtro: filtro > 2)\n",
    "filtro.collect()"
   ]
  },
  {
   "cell_type": "code",
   "execution_count": 18,
   "id": "9b5887b8",
   "metadata": {},
   "outputs": [
    {
     "data": {
      "text/plain": [
       "[3, 4, 4, 5, 6, 10]"
      ]
     },
     "execution_count": 18,
     "metadata": {},
     "output_type": "execute_result"
    }
   ],
   "source": [
    "amostra = numeros.sample(True, 0.5, 1)\n",
    "amostra.collect()"
   ]
  },
  {
   "cell_type": "code",
   "execution_count": 19,
   "id": "a5944252",
   "metadata": {},
   "outputs": [
    {
     "data": {
      "text/plain": [
       "[2, 4, 6, 8, 10, 12, 14, 16, 18, 20]"
      ]
     },
     "execution_count": 19,
     "metadata": {},
     "output_type": "execute_result"
    }
   ],
   "source": [
    "map_multi = numeros.map(lambda mapa: mapa * 2)\n",
    "map_multi.collect()"
   ]
  },
  {
   "cell_type": "code",
   "execution_count": 20,
   "id": "a39ee5a2",
   "metadata": {},
   "outputs": [],
   "source": [
    "numeros2 = sc.parallelize([6, 7, 8, 9, 10])"
   ]
  },
  {
   "cell_type": "code",
   "execution_count": 21,
   "id": "34908f87",
   "metadata": {},
   "outputs": [
    {
     "data": {
      "text/plain": [
       "[1, 2, 3, 4, 5, 6, 7, 8, 9, 10, 6, 7, 8, 9, 10]"
      ]
     },
     "execution_count": 21,
     "metadata": {},
     "output_type": "execute_result"
    }
   ],
   "source": [
    "uniao = numeros.union(numeros2)\n",
    "uniao.collect()"
   ]
  },
  {
   "cell_type": "code",
   "execution_count": 22,
   "id": "1caef3e2",
   "metadata": {},
   "outputs": [
    {
     "data": {
      "text/plain": [
       "[6, 7, 8, 9, 10]"
      ]
     },
     "execution_count": 22,
     "metadata": {},
     "output_type": "execute_result"
    }
   ],
   "source": [
    "inter = numeros.intersection(numeros2)\n",
    "inter.collect()"
   ]
  },
  {
   "cell_type": "code",
   "execution_count": 23,
   "id": "3c3d776d",
   "metadata": {},
   "outputs": [
    {
     "data": {
      "text/plain": [
       "[1, 2, 3, 4, 5]"
      ]
     },
     "execution_count": 23,
     "metadata": {},
     "output_type": "execute_result"
    }
   ],
   "source": [
    "sub = numeros.subtract(numeros2)\n",
    "sub.collect()"
   ]
  },
  {
   "cell_type": "code",
   "execution_count": 24,
   "id": "f6f171e6",
   "metadata": {
    "scrolled": true
   },
   "outputs": [
    {
     "data": {
      "text/plain": [
       "[(1, 6),\n",
       " (1, 7),\n",
       " (1, 8),\n",
       " (1, 9),\n",
       " (1, 10),\n",
       " (2, 6),\n",
       " (2, 7),\n",
       " (2, 8),\n",
       " (2, 9),\n",
       " (2, 10),\n",
       " (3, 6),\n",
       " (3, 7),\n",
       " (3, 8),\n",
       " (3, 9),\n",
       " (3, 10),\n",
       " (4, 6),\n",
       " (5, 6),\n",
       " (4, 7),\n",
       " (5, 7),\n",
       " (4, 8),\n",
       " (5, 8),\n",
       " (4, 9),\n",
       " (5, 9),\n",
       " (4, 10),\n",
       " (5, 10),\n",
       " (6, 6),\n",
       " (6, 7),\n",
       " (6, 8),\n",
       " (6, 9),\n",
       " (6, 10),\n",
       " (7, 6),\n",
       " (7, 7),\n",
       " (7, 8),\n",
       " (7, 9),\n",
       " (7, 10),\n",
       " (8, 6),\n",
       " (8, 7),\n",
       " (8, 8),\n",
       " (8, 9),\n",
       " (8, 10),\n",
       " (9, 6),\n",
       " (10, 6),\n",
       " (9, 7),\n",
       " (10, 7),\n",
       " (9, 8),\n",
       " (10, 8),\n",
       " (9, 9),\n",
       " (10, 9),\n",
       " (9, 10),\n",
       " (10, 10)]"
      ]
     },
     "execution_count": 24,
     "metadata": {},
     "output_type": "execute_result"
    }
   ],
   "source": [
    "cart = numeros.cartesian(numeros2)\n",
    "cart.collect()"
   ]
  },
  {
   "cell_type": "code",
   "execution_count": 25,
   "id": "b274eea5",
   "metadata": {
    "scrolled": true
   },
   "outputs": [
    {
     "data": {
      "text/plain": [
       "defaultdict(int,\n",
       "            {(1, 6): 1,\n",
       "             (1, 7): 1,\n",
       "             (1, 8): 1,\n",
       "             (1, 9): 1,\n",
       "             (1, 10): 1,\n",
       "             (2, 6): 1,\n",
       "             (2, 7): 1,\n",
       "             (2, 8): 1,\n",
       "             (2, 9): 1,\n",
       "             (2, 10): 1,\n",
       "             (3, 6): 1,\n",
       "             (3, 7): 1,\n",
       "             (3, 8): 1,\n",
       "             (3, 9): 1,\n",
       "             (3, 10): 1,\n",
       "             (4, 6): 1,\n",
       "             (5, 6): 1,\n",
       "             (4, 7): 1,\n",
       "             (5, 7): 1,\n",
       "             (4, 8): 1,\n",
       "             (5, 8): 1,\n",
       "             (4, 9): 1,\n",
       "             (5, 9): 1,\n",
       "             (4, 10): 1,\n",
       "             (5, 10): 1,\n",
       "             (6, 6): 1,\n",
       "             (6, 7): 1,\n",
       "             (6, 8): 1,\n",
       "             (6, 9): 1,\n",
       "             (6, 10): 1,\n",
       "             (7, 6): 1,\n",
       "             (7, 7): 1,\n",
       "             (7, 8): 1,\n",
       "             (7, 9): 1,\n",
       "             (7, 10): 1,\n",
       "             (8, 6): 1,\n",
       "             (8, 7): 1,\n",
       "             (8, 8): 1,\n",
       "             (8, 9): 1,\n",
       "             (8, 10): 1,\n",
       "             (9, 6): 1,\n",
       "             (10, 6): 1,\n",
       "             (9, 7): 1,\n",
       "             (10, 7): 1,\n",
       "             (9, 8): 1,\n",
       "             (10, 8): 1,\n",
       "             (9, 9): 1,\n",
       "             (10, 9): 1,\n",
       "             (9, 10): 1,\n",
       "             (10, 10): 1})"
      ]
     },
     "execution_count": 25,
     "metadata": {},
     "output_type": "execute_result"
    }
   ],
   "source": [
    "cart.countByValue()"
   ]
  },
  {
   "cell_type": "code",
   "execution_count": null,
   "id": "0268e7a1",
   "metadata": {},
   "outputs": [],
   "source": []
  }
 ],
 "metadata": {
  "kernelspec": {
   "display_name": "Python 3",
   "language": "python",
   "name": "python3"
  },
  "language_info": {
   "codemirror_mode": {
    "name": "ipython",
    "version": 3
   },
   "file_extension": ".py",
   "mimetype": "text/x-python",
   "name": "python",
   "nbconvert_exporter": "python",
   "pygments_lexer": "ipython3",
   "version": "3.8.8"
  }
 },
 "nbformat": 4,
 "nbformat_minor": 5
}
