{
 "cells": [
  {
   "cell_type": "code",
   "execution_count": 1,
   "id": "3a531c55",
   "metadata": {},
   "outputs": [],
   "source": [
    "from pyspark.sql import SparkSession\n",
    "spark = SparkSession.builder.appName('compras').getOrCreate()\n",
    "sc = spark.sparkContext"
   ]
  },
  {
   "cell_type": "code",
   "execution_count": 2,
   "id": "96d2f35f",
   "metadata": {},
   "outputs": [],
   "source": [
    "compras = sc.parallelize([(1, 200), (2, 300), (3, 120), (4, 250), (5, 78)])"
   ]
  },
  {
   "cell_type": "code",
   "execution_count": 3,
   "id": "a966e9f9",
   "metadata": {},
   "outputs": [
    {
     "data": {
      "text/plain": [
       "[1, 2, 3, 4, 5]"
      ]
     },
     "execution_count": 3,
     "metadata": {},
     "output_type": "execute_result"
    }
   ],
   "source": [
    "chaves = compras.keys()\n",
    "chaves.collect()"
   ]
  },
  {
   "cell_type": "code",
   "execution_count": 4,
   "id": "84996dd6",
   "metadata": {},
   "outputs": [
    {
     "data": {
      "text/plain": [
       "[200, 300, 120, 250, 78]"
      ]
     },
     "execution_count": 4,
     "metadata": {},
     "output_type": "execute_result"
    }
   ],
   "source": [
    "valores = compras.values()\n",
    "valores.collect()"
   ]
  },
  {
   "cell_type": "code",
   "execution_count": 5,
   "id": "42f4edf2",
   "metadata": {},
   "outputs": [
    {
     "data": {
      "text/plain": [
       "defaultdict(int, {1: 1, 2: 1, 3: 1, 4: 1, 5: 1})"
      ]
     },
     "execution_count": 5,
     "metadata": {},
     "output_type": "execute_result"
    }
   ],
   "source": [
    "compras.countByKey()"
   ]
  },
  {
   "cell_type": "code",
   "execution_count": 6,
   "id": "469a536e",
   "metadata": {},
   "outputs": [
    {
     "data": {
      "text/plain": [
       "[(1, 201), (2, 301), (3, 121), (4, 251), (5, 79)]"
      ]
     },
     "execution_count": 6,
     "metadata": {},
     "output_type": "execute_result"
    }
   ],
   "source": [
    "soma = compras.mapValues(lambda soma: soma + 1)\n",
    "soma.collect()"
   ]
  },
  {
   "cell_type": "code",
   "execution_count": 7,
   "id": "f9313ce6",
   "metadata": {},
   "outputs": [
    {
     "data": {
      "text/plain": [
       "[(1, [200]), (2, [300]), (3, [120]), (4, [250]), (5, [78])]"
      ]
     },
     "execution_count": 7,
     "metadata": {},
     "output_type": "execute_result"
    }
   ],
   "source": [
    "agrupa = compras.groupByKey().mapValues(list)\n",
    "agrupa.collect()"
   ]
  },
  {
   "cell_type": "code",
   "execution_count": 8,
   "id": "2594960d",
   "metadata": {},
   "outputs": [],
   "source": [
    "debitos = sc.parallelize([(1, 20), (2, 300)])"
   ]
  },
  {
   "cell_type": "code",
   "execution_count": 9,
   "id": "363b1cdf",
   "metadata": {},
   "outputs": [
    {
     "data": {
      "text/plain": [
       "[(1, (200, 20)), (2, (300, 300))]"
      ]
     },
     "execution_count": 9,
     "metadata": {},
     "output_type": "execute_result"
    }
   ],
   "source": [
    "resultado = compras.join(debitos)\n",
    "resultado.collect()"
   ]
  },
  {
   "cell_type": "code",
   "execution_count": 10,
   "id": "2b2588ce",
   "metadata": {},
   "outputs": [
    {
     "data": {
      "text/plain": [
       "[(3, 120), (4, 250), (5, 78)]"
      ]
     },
     "execution_count": 10,
     "metadata": {},
     "output_type": "execute_result"
    }
   ],
   "source": [
    "semDebito = compras.subtractByKey(debitos)\n",
    "semDebito.collect()"
   ]
  },
  {
   "cell_type": "code",
   "execution_count": null,
   "id": "15931cfd",
   "metadata": {},
   "outputs": [],
   "source": []
  }
 ],
 "metadata": {
  "kernelspec": {
   "display_name": "Python 3",
   "language": "python",
   "name": "python3"
  },
  "language_info": {
   "codemirror_mode": {
    "name": "ipython",
    "version": 3
   },
   "file_extension": ".py",
   "mimetype": "text/x-python",
   "name": "python",
   "nbconvert_exporter": "python",
   "pygments_lexer": "ipython3",
   "version": "3.8.8"
  }
 },
 "nbformat": 4,
 "nbformat_minor": 5
}
