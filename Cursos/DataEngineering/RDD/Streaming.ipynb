{
 "cells": [
  {
   "cell_type": "code",
   "execution_count": null,
   "id": "323b55d0",
   "metadata": {},
   "outputs": [],
   "source": [
    "from pyspark.streaming import StreamingContext\n",
    "from pyspark import SparkContext"
   ]
  },
  {
   "cell_type": "code",
   "execution_count": null,
   "id": "8701b44c",
   "metadata": {},
   "outputs": [],
   "source": [
    "sc = SparkContext(\"local[2]\", \"Contagem\")\n",
    "ssc = StreamingContext(sc, 10)"
   ]
  },
  {
   "cell_type": "code",
   "execution_count": null,
   "id": "7a4ca48d",
   "metadata": {},
   "outputs": [],
   "source": [
    "pesquisa = ssc.textFileStream('../Arquivos/stream/')"
   ]
  },
  {
   "cell_type": "code",
   "execution_count": null,
   "id": "b9c1e73c",
   "metadata": {},
   "outputs": [],
   "source": [
    "contagem = pesquisa.flatMap(lambda palavra: palavra.split(' '))\n",
    "contagem = contagem.map(lambda palavra: (palavra, 1))\n",
    "contagem = contagem.reduceByKey(lambda a, b: a + b)"
   ]
  },
  {
   "cell_type": "code",
   "execution_count": null,
   "id": "4bad4ec5",
   "metadata": {},
   "outputs": [],
   "source": [
    "contagem.pprint()"
   ]
  },
  {
   "cell_type": "code",
   "execution_count": null,
   "id": "a756aa6e",
   "metadata": {},
   "outputs": [],
   "source": [
    "ssc.start()"
   ]
  },
  {
   "cell_type": "code",
   "execution_count": null,
   "id": "115e57ed",
   "metadata": {},
   "outputs": [],
   "source": [
    "ssc.awaitTermination()"
   ]
  },
  {
   "cell_type": "code",
   "execution_count": null,
   "id": "1567ecda",
   "metadata": {},
   "outputs": [],
   "source": [
    "#rodar no cmd: spark-submit C:\\<Caminho do Arquivo>\\RDD\\Streaming.py"
   ]
  },
  {
   "cell_type": "code",
   "execution_count": null,
   "id": "1ac4da80",
   "metadata": {},
   "outputs": [],
   "source": []
  }
 ],
 "metadata": {
  "kernelspec": {
   "display_name": "Python 3",
   "language": "python",
   "name": "python3"
  },
  "language_info": {
   "codemirror_mode": {
    "name": "ipython",
    "version": 3
   },
   "file_extension": ".py",
   "mimetype": "text/x-python",
   "name": "python",
   "nbconvert_exporter": "python",
   "pygments_lexer": "ipython3",
   "version": "3.8.8"
  }
 },
 "nbformat": 4,
 "nbformat_minor": 5
}
