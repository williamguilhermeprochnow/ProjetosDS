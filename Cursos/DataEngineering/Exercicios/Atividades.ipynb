{
 "cells": [
  {
   "cell_type": "code",
   "execution_count": 1,
   "id": "f8c2685e",
   "metadata": {},
   "outputs": [],
   "source": [
    "from pyspark.sql import SparkSession\n",
    "spark = SparkSession.builder.appName('tratamento').getOrCreate()"
   ]
  },
  {
   "cell_type": "code",
   "execution_count": 2,
   "id": "deefc9d9",
   "metadata": {},
   "outputs": [],
   "source": [
    "df_clientes = spark.read.parquet('../Arquivos/Clientes.parquet')\n",
    "df_vendas = spark.read.parquet('../Arquivos/Vendas.parquet')"
   ]
  },
  {
   "cell_type": "code",
   "execution_count": 3,
   "id": "396b4fc3",
   "metadata": {},
   "outputs": [
    {
     "name": "stdout",
     "output_type": "stream",
     "text": [
      "root\n",
      " |-- ClienteID: long (nullable = true)\n",
      " |-- Cliente: string (nullable = true)\n",
      " |-- Estado: string (nullable = true)\n",
      " |-- Genero: string (nullable = true)\n",
      " |-- Status: string (nullable = true)\n",
      "\n"
     ]
    }
   ],
   "source": [
    "df_clientes.printSchema()"
   ]
  },
  {
   "cell_type": "markdown",
   "id": "f8902c0a",
   "metadata": {},
   "source": [
    "### Atividade 1"
   ]
  },
  {
   "cell_type": "code",
   "execution_count": 4,
   "id": "1820b572",
   "metadata": {},
   "outputs": [
    {
     "name": "stdout",
     "output_type": "stream",
     "text": [
      "+--------------------+------+--------+\n",
      "|             Cliente|Estado|  Status|\n",
      "+--------------------+------+--------+\n",
      "|Adelina Buenaventura|    RJ|  Silver|\n",
      "|        Adelino Gago|    RJ|  Silver|\n",
      "|     Adolfo Patrício|    PE|  Silver|\n",
      "|    Adriana Guedelha|    RO|Platinum|\n",
      "|       Adélio Lisboa|    SE|  Silver|\n",
      "|       Adérito Bahía|    MA|  Silver|\n",
      "|       Aida Dorneles|    RN|  Silver|\n",
      "|   Alarico Quinterno|    AC|  Silver|\n",
      "|    Alberto Cezimbra|    AM|  Silver|\n",
      "|    Alberto Monsanto|    RN|    Gold|\n",
      "|       Albino Canela|    AC|  Silver|\n",
      "|     Alceste Varanda|    RR|  Silver|\n",
      "|  Alcides Carvalhais|    RO|  Silver|\n",
      "|        Aldo Martins|    GO|  Silver|\n",
      "|   Alexandra Tabares|    MG|  Silver|\n",
      "|      Alfredo Cotrim|    SC|  Silver|\n",
      "|     Almeno Figueira|    SC|  Silver|\n",
      "|      Alvito Peralta|    AM|  Silver|\n",
      "|     Amadeu Martinho|    RN|  Silver|\n",
      "|      Amélia Estévez|    PE|  Silver|\n",
      "+--------------------+------+--------+\n",
      "only showing top 20 rows\n",
      "\n"
     ]
    }
   ],
   "source": [
    "df_clientes.select(['Cliente', 'Estado', 'Status']).show()"
   ]
  },
  {
   "cell_type": "markdown",
   "id": "adcc120a",
   "metadata": {},
   "source": [
    "### Atividade 2"
   ]
  },
  {
   "cell_type": "code",
   "execution_count": 5,
   "id": "9dd5ae7d",
   "metadata": {},
   "outputs": [
    {
     "name": "stdout",
     "output_type": "stream",
     "text": [
      "+---------+-------------------+------+------+--------+\n",
      "|ClienteID|            Cliente|Estado|Genero|  Status|\n",
      "+---------+-------------------+------+------+--------+\n",
      "|        4|   Adriana Guedelha|    RO|     F|Platinum|\n",
      "|       10|   Alberto Monsanto|    RN|     M|    Gold|\n",
      "|       28|      Anna Carvajal|    RS|     F|    Gold|\n",
      "|       49|      Bento Quintão|    SP|     M|    Gold|\n",
      "|       68|      Carminda Dias|    AM|     F|    Gold|\n",
      "|       83|      Cláudio Jorge|    TO|     M|    Gold|\n",
      "|      121|    Dionísio Saltão|    PR|     M|    Gold|\n",
      "|      166|   Firmino Meireles|    AM|     M|    Gold|\n",
      "|      170|      Flor Vilanova|    CE|     M|Platinum|\n",
      "|      220|Honorina Villaverde|    PE|     F|    Gold|\n",
      "|      230|    Ibijara Botelho|    RR|     F|Platinum|\n",
      "|      237|  Iracema Rodríguez|    BA|     F|    Gold|\n",
      "|      247|         Joana Ataí|    GO|     F|Platinum|\n",
      "+---------+-------------------+------+------+--------+\n",
      "\n"
     ]
    }
   ],
   "source": [
    "df_clientes.filter((df_clientes['Status'] == 'Platinum') | ((df_clientes['Status'] == 'Gold'))).show()"
   ]
  },
  {
   "cell_type": "markdown",
   "id": "fdee44c5",
   "metadata": {},
   "source": [
    "### Atividade 3"
   ]
  },
  {
   "cell_type": "code",
   "execution_count": 6,
   "id": "97db85ee",
   "metadata": {},
   "outputs": [
    {
     "name": "stdout",
     "output_type": "stream",
     "text": [
      "root\n",
      " |-- VendasID: long (nullable = true)\n",
      " |-- VendedorID: long (nullable = true)\n",
      " |-- ClienteID: long (nullable = true)\n",
      " |-- Data: string (nullable = true)\n",
      " |-- Total: double (nullable = true)\n",
      "\n"
     ]
    }
   ],
   "source": [
    "df_vendas.printSchema()"
   ]
  },
  {
   "cell_type": "code",
   "execution_count": 7,
   "id": "f043f3d2",
   "metadata": {},
   "outputs": [
    {
     "name": "stdout",
     "output_type": "stream",
     "text": [
      "root\n",
      " |-- ClienteID: long (nullable = true)\n",
      " |-- Cliente: string (nullable = true)\n",
      " |-- Estado: string (nullable = true)\n",
      " |-- Genero: string (nullable = true)\n",
      " |-- Status: string (nullable = true)\n",
      " |-- Total: double (nullable = true)\n",
      "\n"
     ]
    }
   ],
   "source": [
    "df_join = df_clientes.join(df_vendas[['ClienteID', 'Total']], on='ClienteID', how='right_outer')\n",
    "df_join.printSchema()"
   ]
  },
  {
   "cell_type": "code",
   "execution_count": 8,
   "id": "cc11880f",
   "metadata": {},
   "outputs": [
    {
     "name": "stdout",
     "output_type": "stream",
     "text": [
      "+--------+------------------+\n",
      "|  Status|        sum(Total)|\n",
      "+--------+------------------+\n",
      "|Platinum|          12584.68|\n",
      "|  Silver|        3014291.36|\n",
      "|    Gold|27286.690000000002|\n",
      "+--------+------------------+\n",
      "\n"
     ]
    }
   ],
   "source": [
    "df_join.groupBy('Status').sum('Total').show()"
   ]
  },
  {
   "cell_type": "code",
   "execution_count": null,
   "id": "6bc3cf8d",
   "metadata": {},
   "outputs": [],
   "source": []
  }
 ],
 "metadata": {
  "kernelspec": {
   "display_name": "Python 3",
   "language": "python",
   "name": "python3"
  },
  "language_info": {
   "codemirror_mode": {
    "name": "ipython",
    "version": 3
   },
   "file_extension": ".py",
   "mimetype": "text/x-python",
   "name": "python",
   "nbconvert_exporter": "python",
   "pygments_lexer": "ipython3",
   "version": "3.8.8"
  }
 },
 "nbformat": 4,
 "nbformat_minor": 5
}
